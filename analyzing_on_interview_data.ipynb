{
 "cells": [
  {
   "cell_type": "markdown",
   "metadata": {},
   "source": [
    "# Load library and define class and functions"
   ]
  },
  {
   "cell_type": "code",
   "execution_count": null,
   "metadata": {},
   "outputs": [],
   "source": [
    "import pickle\n",
    "from keras.utils.np_utils import to_categorical\n",
    "from keras.models import Sequential\n",
    "from keras.layers import Dense, Activation\n",
    "from keras import backend as K\n",
    "import tensorflow as tf\n",
    "from keras.utils.np_utils import to_categorical\n",
    "from sklearn.gaussian_process import GaussianProcessClassifier\n",
    "from sklearn.gaussian_process.kernels import RBF\n",
    "from sklearn.ensemble import RandomForestClassifier, AdaBoostClassifier\n",
    "from sklearn.linear_model import LogisticRegression\n",
    "from sklearn.neural_network import MLPClassifier\n",
    "import sys\n",
    "sys.path.insert(0, \"../\")\n",
    "from acousticFeatures import getAllFeatures\n",
    "import parselmouth \n",
    "import numpy as np\n",
    "from pydub import AudioSegment\n",
    "from IPython.display import Audio\n",
    "import matplotlib.pyplot as plt\n",
    "from sklearn.metrics import confusion_matrix\n",
    "from sklearn.metrics import roc_curve, auc\n",
    "\n",
    "def parse_metric(confusion_matrix):\n",
    "    FP = confusion_matrix.sum(axis=0) - np.diag(confusion_matrix)  \n",
    "    FN = confusion_matrix.sum(axis=1) - np.diag(confusion_matrix)\n",
    "    TP = np.diag(confusion_matrix)\n",
    "    TN = confusion_matrix.sum() - (FP + FN + TP)\n",
    "\n",
    "    # Sensitivity, hit rate, recall, or true positive rate\n",
    "    TPR = TP/(TP+FN)\n",
    "    # Specificity or true negative rate\n",
    "    TNR = TN/(TN+FP) \n",
    "    # Precision or positive predictive value\n",
    "    PPV = TP/(TP+FP)\n",
    "    # Negative predictive value\n",
    "    NPV = TN/(TN+FN)\n",
    "    # Fall out or false positive rate\n",
    "    FPR = FP/(FP+TN)\n",
    "    # False negative rate\n",
    "    FNR = FN/(TP+FN)\n",
    "    # False discovery rate\n",
    "    FDR = FP/(TP+FP)\n",
    "    # Overall accuracy\n",
    "    ACC = (TP+TN)/(TP+FP+FN+TN)\n",
    "    \n",
    "    return {'FP': FP, 'FN': FN, 'TP':TP, 'TN':TN, 'TPR': TPR, 'TNR': TNR, 'PPV' : PPV, 'NPV' :NPV, 'FPR': FPR, 'FNR': FNR,\n",
    "           'FDR': FDR, 'ACC':ACC}\n",
    "\n",
    "\n",
    "class Input:\n",
    "    def __init__(self, code=None, excited=None, valance=None, arouse=None):\n",
    "        self.__code = code\n",
    "        self.__excited = excited\n",
    "        self.__valance = valance\n",
    "        self.__arouse = arouse\n",
    "    \n",
    "    def get_code(self):\n",
    "        return self.__code\n",
    "    \n",
    "    def get_excited(self):\n",
    "        return self.__excited\n",
    "    \n",
    "    def get_valance(self):\n",
    "        return self.__valance\n",
    "    \n",
    "    def get_arouse(self):\n",
    "        return self.__arouse\n",
    "    \n",
    "class Output:\n",
    "    def __init__(self, dataFrame=None):\n",
    "        self.__dataFrame = dataFrame\n",
    "          \n",
    "    def get_data_frame(self):\n",
    "        return self.__dataFrame\n",
    "        "
   ]
  },
  {
   "cell_type": "markdown",
   "metadata": {},
   "source": [
    "# Load input, output"
   ]
  },
  {
   "cell_type": "code",
   "execution_count": null,
   "metadata": {},
   "outputs": [],
   "source": [
    "input = pickle.load(open('processed-data/input-interview-frameLengh4-overlap2.obj', 'rb'))\n",
    "output = pickle.load(open('processed-data/output-interview.obj', 'rb'))\n",
    "print(\"Size input: {}\".format(len(input)))"
   ]
  },
  {
   "cell_type": "markdown",
   "metadata": {},
   "source": [
    "# Analyze "
   ]
  },
  {
   "cell_type": "markdown",
   "metadata": {},
   "source": [
    "## 1. Agg excited values with percentage of excited frame"
   ]
  },
  {
   "cell_type": "code",
   "execution_count": null,
   "metadata": {},
   "outputs": [],
   "source": [
    "# Percentage of frame\n",
    "excited = np.array([i.get_excited() for i in input])\n",
    "percentage_excited_frame = np.array([np.sum(e) / len(e) for e in excited])\n",
    "\n",
    "# Excited value of annotators\n",
    "df = output.get_data_frame() \n",
    "excited_values = []\n",
    "for k in df.Participant.unique():\n",
    "    df1 = df.loc[df['Participant'] == k]\n",
    "    v = df1.iloc[-1]\n",
    "    excited_values.append(v['Excited'])\n",
    "\n",
    "\n",
    "# DrAW scatter\n",
    "plt.scatter(percentage_excited_frame, excited_values) \n",
    "plt.xlabel(\"Percentage of Excited Frame (%)\")\n",
    "plt.ylabel(\"Excited\")\n",
    "plt.show();\n",
    "\n",
    "#Boxplot\n"
   ]
  },
  {
   "cell_type": "markdown",
   "metadata": {},
   "source": [
    "**ROC**"
   ]
  },
  {
   "cell_type": "code",
   "execution_count": null,
   "metadata": {},
   "outputs": [],
   "source": [
    "split_point = np.median(excited_values)\n",
    "y_binary = [ int(e >= split_point) for e in excited_values]\n",
    "\n",
    "thresholds = np.linspace(0, 1.0, 50)\n",
    "tpr_arr = []\n",
    "fpr_arr = []\n",
    "thresh_arr = [] \n",
    "for t in thresholds:\n",
    "    predict_binary = np.array([int(i >= t) for i in percentage_excited_frame])\n",
    "    cfm = confusion_matrix(y_binary, predict_binary)\n",
    "    parse_values = parse_metric(cfm)\n",
    "    tpr_arr.append(parse_values['TPR'])\n",
    "    fpr_arr.append(parse_values['FPR'])\n",
    "    thresh_arr.append(t)\n",
    "    #print(\"Threshold:{}, ACC:{}\".format(t,parse_values['ACC'][0] ))\n",
    "\n",
    "fpr_arr = np.asarray(fpr_arr)\n",
    "tpr_arr = np.asarray(tpr_arr)\n",
    "roc_auc = auc(fpr_arr[:,1], tpr_arr[:,1])\n",
    "plt.plot(fpr_arr[:,1], tpr_arr[:,1], label='ROC curve (area = {0:0.2f})'\n",
    "               ''.format(roc_auc),\n",
    "         color='navy', linestyle=':', linewidth=4)\n",
    "plt.plot([0, 1], [0, 1], 'k--')\n",
    "plt.legend(loc=\"lower right\")\n",
    "plt.show();"
   ]
  },
  {
   "cell_type": "code",
   "execution_count": null,
   "metadata": {
    "collapsed": true
   },
   "outputs": [],
   "source": []
  },
  {
   "cell_type": "code",
   "execution_count": null,
   "metadata": {},
   "outputs": [],
   "source": []
  }
 ],
 "metadata": {
  "kernelspec": {
   "display_name": "Python 3",
   "language": "python3.6",
   "name": "python3"
  },
  "language_info": {
   "codemirror_mode": {
    "name": "ipython",
    "version": 3
   },
   "file_extension": ".py",
   "mimetype": "text/x-python",
   "name": "python",
   "nbconvert_exporter": "python",
   "pygments_lexer": "ipython3",
   "version": "3.6.6"
  }
 },
 "nbformat": 4,
 "nbformat_minor": 2
}
