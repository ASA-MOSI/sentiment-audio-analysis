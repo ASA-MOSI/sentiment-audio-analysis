{
 "cells": [
  {
   "cell_type": "code",
   "execution_count": 1,
   "metadata": {},
   "outputs": [
    {
     "name": "stdout",
     "output_type": "stream",
     "text": [
      "['i', 'Id', \"I'd\", \"I'll\", 'Im', \"I'm\", 'ive', \"I've\", 'me', 'mine', 'my', 'myself']\n",
      "({'NegEmotion': 0, 'Adverbs': 1, 'I': 2, 'Articles': 0, 'Quantifiers': 1, 'Non-fluencies': 0, 'We': 0, 'Numbers': 0, 'PosEmotion': 1, 'Sadness': 0, 'Perceptual': 0, 'Prepositions': 1, 'Negations': 1, 'Cognitive': 2, 'Anger': 0, 'Inhibition': 0, 'Swear': 0, 'Conjunctions': 1, 'Relativity': 0, 'They': 0, 'Verbs': 1, 'Work': 0, 'Anxiety': 0}, 13)\n"
     ]
    }
   ],
   "source": [
    "import nltk\n",
    "from LIWC_features_dictionary import get_dictionary\n",
    "from tokenizer import get_word_only_token\n",
    "\n",
    "def get_liwc_features(document:str) -> (dict, int):\n",
    "    dictionary = get_dictionary()\n",
    "    word_only_list = get_word_only_token(document)\n",
    "    feature_dict = {}\n",
    "    \n",
    "    freq_dist = nltk.FreqDist(word_only_list)\n",
    "\n",
    "    for category, keyworks in dictionary.items():\n",
    "        remaining_keywords = []\n",
    "        total = 0\n",
    "\n",
    "        for keyword in keyworks:\n",
    "            if keyword.endswith(\"*\"):\n",
    "                remaining_keywords.append(keyword[:len(keyword)-1])\n",
    "            elif keyword in freq_dist:\n",
    "                total += freq_dist[keyword]\n",
    "\n",
    "        for word, freq in freq_dist.items():\n",
    "            for keyword in remaining_keywords:\n",
    "                if word.startswith(keyword):\n",
    "                    total += freq\n",
    "\n",
    "        feature_dict[category] = total\n",
    "        \n",
    "    return (feature_dict, len(word_only_list))\n",
    "\n",
    "\n",
    "text = \"I do not like this task so much. I prefer to work on-site.\"\n",
    "print(get_liwc_features(text))\n",
    "\n",
    "    \n",
    "\n",
    "    \n",
    "            \n",
    "            "
   ]
  },
  {
   "cell_type": "code",
   "execution_count": null,
   "metadata": {},
   "outputs": [],
   "source": [
    "import sys\n",
    "sy\n",
    "print(sys.path)"
   ]
  },
  {
   "cell_type": "code",
   "execution_count": null,
   "metadata": {},
   "outputs": [],
   "source": []
  }
 ],
 "metadata": {
  "kernelspec": {
   "display_name": "Python 3",
   "language": "python",
   "name": "python3"
  },
  "language_info": {
   "codemirror_mode": {
    "name": "ipython",
    "version": 3
   },
   "file_extension": ".py",
   "mimetype": "text/x-python",
   "name": "python",
   "nbconvert_exporter": "python",
   "pygments_lexer": "ipython3",
   "version": "3.5.5"
  }
 },
 "nbformat": 4,
 "nbformat_minor": 2
}
