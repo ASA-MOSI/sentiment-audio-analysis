{
 "cells": [
  {
   "cell_type": "code",
   "execution_count": 4,
   "metadata": {},
   "outputs": [
    {
     "ename": "ImportError",
     "evalue": "attempted relative import with no known parent package",
     "output_type": "error",
     "traceback": [
      "\u001b[1;31m---------------------------------------------------------------------------\u001b[0m",
      "\u001b[1;31mImportError\u001b[0m                               Traceback (most recent call last)",
      "\u001b[1;32m<ipython-input-4-4ce76897f961>\u001b[0m in \u001b[0;36m<module>\u001b[1;34m()\u001b[0m\n\u001b[0;32m      1\u001b[0m \u001b[1;32mimport\u001b[0m \u001b[0mnltk\u001b[0m\u001b[1;33m\u001b[0m\u001b[0m\n\u001b[0;32m      2\u001b[0m \u001b[1;32mfrom\u001b[0m \u001b[0mLIWC_features_dictionary\u001b[0m \u001b[1;32mimport\u001b[0m \u001b[0mget_dictionary\u001b[0m\u001b[1;33m\u001b[0m\u001b[0m\n\u001b[1;32m----> 3\u001b[1;33m \u001b[1;32mfrom\u001b[0m \u001b[1;33m...\u001b[0m\u001b[0mtokenizer\u001b[0m \u001b[1;32mimport\u001b[0m \u001b[0mget_word_only_token\u001b[0m\u001b[1;33m\u001b[0m\u001b[0m\n\u001b[0m\u001b[0;32m      4\u001b[0m \u001b[1;33m\u001b[0m\u001b[0m\n\u001b[0;32m      5\u001b[0m \u001b[1;32mdef\u001b[0m \u001b[0mget_liwc_features\u001b[0m\u001b[1;33m(\u001b[0m\u001b[0mdocument\u001b[0m\u001b[1;33m:\u001b[0m\u001b[0mstr\u001b[0m\u001b[1;33m)\u001b[0m \u001b[1;33m->\u001b[0m \u001b[1;33m(\u001b[0m\u001b[0mdict\u001b[0m\u001b[1;33m,\u001b[0m \u001b[0mint\u001b[0m\u001b[1;33m)\u001b[0m\u001b[1;33m:\u001b[0m\u001b[1;33m\u001b[0m\u001b[0m\n",
      "\u001b[1;31mImportError\u001b[0m: attempted relative import with no known parent package"
     ]
    }
   ],
   "source": [
    "import nltk\n",
    "from liwc.LIWC_features_dictionary import get_dictionary\n",
    "from tokenizer import get_word_only_token\n",
    "\n",
    "def get_liwc_features(document:str) -> (dict, int):\n",
    "    dictionary = get_dictionary()\n",
    "    word_only_list = get_word_only_token(document)\n",
    "    feature_dict = {}\n",
    "    \n",
    "    freq_dist = nltk.FreqDist(word_only_list)\n",
    "\n",
    "    for category, keyworks in dictionary.items():\n",
    "        remaining_keywords = []\n",
    "        total = 0\n",
    "\n",
    "        for keyword in keyworks:\n",
    "            if keyword.endswith(\"*\"):\n",
    "                remaining_keywords.append(keyword[:len(keyword)-1])\n",
    "            elif keyword in freq_dist:\n",
    "                total += freq_dist[keyword]\n",
    "\n",
    "        for word, freq in freq_dist.items():\n",
    "            for keyword in remaining_keywords:\n",
    "                if word.startswith(keyword):\n",
    "                    total += freq\n",
    "\n",
    "        feature_dict[category] = total\n",
    "        \n",
    "    return (feature_dict, len(word_only_list))\n",
    "\n",
    "\n",
    "text = \"I do not like this task so much. I prefer to work on-site.\"\n",
    "print(get_liwc_features(text))\n",
    "\n",
    "    \n",
    "\n",
    "    \n",
    "            \n",
    "            "
   ]
  },
  {
   "cell_type": "code",
   "execution_count": null,
   "metadata": {},
   "outputs": [],
   "source": []
  },
  {
   "cell_type": "code",
   "execution_count": null,
   "metadata": {},
   "outputs": [],
   "source": []
  }
 ],
 "metadata": {
  "kernelspec": {
   "display_name": "Python 3",
   "language": "python",
   "name": "python3"
  },
  "language_info": {
   "codemirror_mode": {
    "name": "ipython",
    "version": 3
   },
   "file_extension": ".py",
   "mimetype": "text/x-python",
   "name": "python",
   "nbconvert_exporter": "python",
   "pygments_lexer": "ipython3",
   "version": "3.5.5"
  }
 },
 "nbformat": 4,
 "nbformat_minor": 2
}
