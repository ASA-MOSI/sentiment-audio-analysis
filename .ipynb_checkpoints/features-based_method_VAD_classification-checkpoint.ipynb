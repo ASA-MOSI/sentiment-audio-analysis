{
 "cells": [
  {
   "cell_type": "markdown",
   "metadata": {},
   "source": [
    "**Import Libraries and Define constants**"
   ]
  },
  {
   "cell_type": "code",
   "execution_count": 1,
   "metadata": {},
   "outputs": [
    {
     "name": "stderr",
     "output_type": "stream",
     "text": [
      "WARNING (theano.configdefaults): g++ not available, if using conda: `conda install m2w64-toolchain`\n",
      "C:\\Users\\THEDE\\Miniconda3\\envs\\py36\\lib\\site-packages\\theano\\configdefaults.py:560: UserWarning: DeprecationWarning: there is no c++ compiler.This is deprecated and with Theano 0.11 a c++ compiler will be mandatory\n",
      "  warnings.warn(\"DeprecationWarning: there is no c++ compiler.\"\n",
      "WARNING (theano.configdefaults): g++ not detected ! Theano will be unable to execute optimized C-implementations (for both CPU and GPU) and will default to Python implementations. Performance will be severely degraded. To remove this warning, set Theano flags cxx to an empty string.\n",
      "WARNING (theano.configdefaults): install mkl with `conda install mkl-service`: No module named 'mkl'\n",
      "WARNING (theano.tensor.blas): Using NumPy C-API based implementation for BLAS functions.\n",
      "C:\\Users\\THEDE\\Miniconda3\\envs\\py36\\lib\\site-packages\\sklearn\\cross_validation.py:41: DeprecationWarning: This module was deprecated in version 0.18 in favor of the model_selection module into which all the refactored classes and functions are moved. Also note that the interface of the new CV iterators are different from that of this module. This module will be removed in 0.20.\n",
      "  \"This module will be removed in 0.20.\", DeprecationWarning)\n"
     ]
    }
   ],
   "source": [
    "#### Training based on features of audio\n",
    "from sklearn.model_selection import train_test_split\n",
    "from sklearn.model_selection import KFold\n",
    "from sklearn.neural_network import MLPClassifier\n",
    "from sknn.mlp import Classifier, Layer\n",
    "from sklearn.pipeline import Pipeline\n",
    "from sklearn.preprocessing import MinMaxScaler\n",
    "from sklearn.metrics import confusion_matrix\n",
    "import pickle\n",
    "import numpy as np\n",
    "import random\n",
    "from sklearn import tree\n",
    "from sklearn.ensemble import RandomForestClassifier\n",
    "#from imblearn.over_sampling import SMOTE \n",
    "from imblearn.under_sampling import RandomUnderSampler\n",
    "from sklearn.model_selection import RandomizedSearchCV\n",
    "from sklearn.ensemble import RandomForestRegressor\n",
    "from sklearn.ensemble import AdaBoostClassifier\n",
    "\n",
    "import matplotlib.pyplot as plt\n",
    "from matplotlib.pyplot import subplots_adjust\n",
    "\n"
   ]
  },
  {
   "cell_type": "markdown",
   "metadata": {},
   "source": [
    "**Load data**"
   ]
  },
  {
   "cell_type": "code",
   "execution_count": 57,
   "metadata": {},
   "outputs": [
    {
     "name": "stdout",
     "output_type": "stream",
     "text": [
      "Size input, output: 10018 ,  10018\n"
     ]
    }
   ],
   "source": [
    "##Loading  data from files\n",
    "filehandlerInput = open('processed-data/input_VAD.obj', 'rb')\n",
    "filehandlerOutput = open('processed-data/output_VAD.obj', 'rb')\n",
    "input = pickle.load(filehandlerInput)\n",
    "output = pickle.load(filehandlerOutput)\n",
    "print(\"Size input, output:\", len(input),\", \", len(output))\n"
   ]
  },
  {
   "cell_type": "markdown",
   "metadata": {},
   "source": [
    "**Preprocess data and Analyze data**"
   ]
  },
  {
   "cell_type": "code",
   "execution_count": 58,
   "metadata": {},
   "outputs": [
    {
     "name": "stdout",
     "output_type": "stream",
     "text": [
      "Distinct output:  {0.5, 1.5, 2.5, 3.5, 3.0, 4.0, 2.0, 4.5, 5.0, 1.0, 2.3333, 2.6667, 4.3333, 2.25, 2.75, 3.25, 3.75, 4.75, 4.25, 5.5, 1.3333, 3.3333, 4.6667, 1.6667, 3.6667}\n",
      "Average labels: 2.7782824016769814\n",
      "Std labels: 0.8970523348000802\n"
     ]
    },
    {
     "data": {
      "image/png": "[encoded data removed]",
      "text/plain": [
       "<Figure size 360x576 with 9 Axes>"
      ]
     },
     "metadata": {},
     "output_type": "display_data"
    }
   ],
   "source": [
    "fig, axs = plt.subplots(3,3, figsize=(5,8))\n",
    "subplots_adjust(right = 2, wspace=0.2, hspace=0.5, bottom=0)\n",
    "\n",
    "## Draw distribution of raw output\n",
    "flattened_out = output.flatten()\n",
    "print(\"Distinct output: \", set(flattened_out));\n",
    "print(\"Average labels:\", np.average(output[:,0]))\n",
    "print(\"Std labels:\", np.std(output[:,0]))\n",
    "axs[0][0].hist(output[:,0])\n",
    "axs[0][0].set_title(\"Distribution Valance\")\n",
    "axs[0][1].hist(output[:,1])\n",
    "axs[0][1].set_title(\"Distribution Arouse\")\n",
    "axs[0][2].hist(output[:,2])\n",
    "axs[0][2].set_title(\"Distribution Dominance\")\n",
    "\n",
    "\n",
    "## Around output into integer.\n",
    "# for i in range(0, output.size):\n",
    "#     output.flat[i] = int(np.round(output.flat[i]))\n",
    "# output = output.astype(int)\n",
    "\n",
    "# flattened_out = output.flatten()\n",
    "# print(\"\\nDistinct output: \", set(flattened_out));\n",
    "# print(\"Average labels:\", np.average(output[:,0]))\n",
    "# print(\"Std labels:\", np.std(output[:,0]))\n",
    "# axs[1][0].hist(output[:,0])\n",
    "# axs[1][0].set_title(\"Distribution Valance\")\n",
    "# axs[1][1].hist(output[:,1])\n",
    "# axs[1][1].set_title(\"Distribution Arouse\")\n",
    "# axs[1][2].hist(output[:,2])\n",
    "# axs[1][2].set_title(\"Distribution Dominance\")\n",
    "plt.show()\n"
   ]
  },
  {
   "cell_type": "markdown",
   "metadata": {},
   "source": [
    "**Preprocess data**"
   ]
  },
  {
   "cell_type": "code",
   "execution_count": 59,
   "metadata": {},
   "outputs": [
    {
     "name": "stdout",
     "output_type": "stream",
     "text": [
      "Size input, output after remove Nan values  10009 ,  10009\n"
     ]
    }
   ],
   "source": [
    "from keras.utils.np_utils import to_categorical\n",
    "from pprint import pprint\n",
    "input_filtered = input[~np.any(np.isnan(input), axis=1)]\n",
    "output_filtered = output[~np.any(np.isnan(input), axis=1)]\n",
    "print(\"Size input, output after remove Nan values \", len(input_filtered), \", \", len(output_filtered))\n",
    "\n",
    "#Normalize input\n",
    "input_filtered = (input_filtered - input_filtered.min(axis=0)) / (input_filtered.max(axis=0) - input_filtered.min(axis=0))\n",
    "\n",
    "#Normalize output\n",
    "#output_filtered = [to_categorical(out, 6) for out in output_filtered]\n",
    "def categorize_output(output):\n",
    "    if (output <= 2.5):\n",
    "        return 0\n",
    "    elif  output >= 4:\n",
    "        return 2\n",
    "    else:\n",
    "        return 1\n",
    "\n",
    "# def categorize_output(output):\n",
    "#     return np.around(output)\n",
    "   \n",
    "\n",
    "output_filtered = np.array([list(map(lambda x: to_categorical(categorize_output(x), 3), col)) for col in output_filtered])\n",
    "#output_filtered = np.array([list(map(lambda x: categorize_output(x), col)) for col in output_filtered])\n",
    "#output_filtered = (output_filtered - output_filtered.min(axis=0)) / (output_filtered.max(axis=0) - output_filtered.min(axis=0))\n",
    "\n"
   ]
  },
  {
   "cell_type": "markdown",
   "metadata": {},
   "source": [
    "**Shuffer data**"
   ]
  },
  {
   "cell_type": "code",
   "execution_count": 60,
   "metadata": {},
   "outputs": [
    {
     "name": "stdout",
     "output_type": "stream",
     "text": [
      "[[[0. 1. 0.]\n",
      "  [0. 1. 0.]\n",
      "  [1. 0. 0.]]\n",
      "\n",
      " [[0. 0. 1.]\n",
      "  [0. 1. 0.]\n",
      "  [0. 1. 0.]]\n",
      "\n",
      " [[1. 0. 0.]\n",
      "  [1. 0. 0.]\n",
      "  [0. 1. 0.]]\n",
      "\n",
      " ...\n",
      "\n",
      " [[1. 0. 0.]\n",
      "  [0. 1. 0.]\n",
      "  [0. 0. 1.]]\n",
      "\n",
      " [[1. 0. 0.]\n",
      "  [0. 1. 0.]\n",
      "  [0. 1. 0.]]\n",
      "\n",
      " [[0. 1. 0.]\n",
      "  [0. 0. 1.]\n",
      "  [0. 0. 1.]]]\n"
     ]
    }
   ],
   "source": [
    "#Shuffer\n",
    "c = list(zip(input_filtered, output_filtered))\n",
    "random.shuffle(c)\n",
    "input_filtered, output_filtered = zip( * c)\n",
    "input_filtered = np.array(input_filtered)\n",
    "output_filtered = np.array(output_filtered)\n",
    "print(output_filtered)"
   ]
  },
  {
   "cell_type": "markdown",
   "metadata": {},
   "source": [
    "**Seletion features**"
   ]
  },
  {
   "cell_type": "code",
   "execution_count": 61,
   "metadata": {},
   "outputs": [
    {
     "name": "stdout",
     "output_type": "stream",
     "text": [
      "15\n"
     ]
    }
   ],
   "source": [
    "from sklearn.datasets import make_friedman1\n",
    "from sklearn.feature_selection import RFE\n",
    "from sklearn.svm import SVR\n",
    "\n",
    "num_features = 10\n",
    "run = False\n",
    "\n",
    "\n",
    "if run:\n",
    "    estimator = SVR(kernel=\"linear\")\n",
    "    selector = RFE(estimator, 5, step=1)\n",
    "    output_int = np.argmax(output_filtered[:,1], axis = 1)\n",
    "    selector = selector.fit(input_filtered, output_int)\n",
    "    print(\"selection support: \", selector.support_) \n",
    "    print(\"selection ranking: \", selector.ranking_)\n",
    "\n",
    "\n",
    "selection_ranking = np.array([1, 66, 11, 73, 4, 1, 7, 47, 8, 24, 1, 23, 27, 28, 40, 41, \n",
    " 6, 78, 30, 77, 16, 84, 10, 67, 3, 54, 76, 68, 56, 65, 31, 9, 55, 81, 21, 61, 38, \n",
    " 14, 17, 39, 51, 70, 62, 79, 43, 44, 57, 22, 69, 53, 34, 83, 35, 15, 80, 42, 18, 72,\n",
    " 12, 60, 25, 52, 1, 58, 59, 64, 75, 74, 6, 33, 20, 45, 5, 29, 49, 48, 13, 32, 82, 19, 63, 36, \n",
    " 1, 2, 46, 37, 50, 71])\n",
    "\n",
    "## Get high-rank features\n",
    "input_filtered = np.array(list(map(lambda x: x[selection_ranking <= num_features], input_filtered)))\n",
    "\n",
    "print(len(input_filtered[0]))\n",
    "\n"
   ]
  },
  {
   "cell_type": "code",
   "execution_count": 30,
   "metadata": {},
   "outputs": [
    {
     "data": {
      "text/plain": [
       "array([False, False,  True,  True,  True])"
      ]
     },
     "execution_count": 30,
     "metadata": {},
     "output_type": "execute_result"
    }
   ],
   "source": [
    "a = np.array([1,2,3,4,5])\n",
    "a>2"
   ]
  },
  {
   "cell_type": "markdown",
   "metadata": {},
   "source": [
    "**Split data**"
   ]
  },
  {
   "cell_type": "code",
   "execution_count": 52,
   "metadata": {},
   "outputs": [
    {
     "name": "stdout",
     "output_type": "stream",
     "text": [
      "Size training, testing set:  7006 ,  3003\n",
      "[[0. 1. 0.]\n",
      " [0. 1. 0.]\n",
      " [0. 1. 0.]\n",
      " ...\n",
      " [0. 1. 0.]\n",
      " [0. 1. 0.]\n",
      " [1. 0. 0.]]\n"
     ]
    }
   ],
   "source": [
    "X_train, X_test, y_train, y_test = train_test_split(input_filtered, output_filtered, test_size=0.3, random_state=300)\n",
    "print(\"Size training, testing set: \", len(X_train), \", \", len(X_test))\n",
    "\n",
    "print(output_filtered[:,1])"
   ]
  },
  {
   "cell_type": "markdown",
   "metadata": {
    "collapsed": true
   },
   "source": [
    "**Training on keras**"
   ]
  },
  {
   "cell_type": "code",
   "execution_count": 53,
   "metadata": {
    "scrolled": true
   },
   "outputs": [
    {
     "name": "stdout",
     "output_type": "stream",
     "text": [
      "Train on 7006 samples, validate on 3003 samples\n",
      "Epoch 1/20\n",
      "7006/7006 [==============================] - ETA: 2:44 - loss: 1.0984 - acc: 0.593 - ETA: 6s - loss: 1.0763 - acc: 0.5312  - ETA: 2s - loss: 1.0403 - acc: 0.535 - ETA: 1s - loss: 1.0342 - acc: 0.527 - ETA: 0s - loss: 1.0284 - acc: 0.526 - ETA: 0s - loss: 1.0162 - acc: 0.535 - ETA: 0s - loss: 1.0117 - acc: 0.537 - 1s 170us/step - loss: 1.0132 - acc: 0.5345 - val_loss: 1.0050 - val_acc: 0.5305\n",
      "Epoch 2/20\n",
      "7006/7006 [==============================] - ETA: 0s - loss: 1.0194 - acc: 0.468 - ETA: 0s - loss: 1.0141 - acc: 0.523 - ETA: 0s - loss: 1.0176 - acc: 0.517 - ETA: 0s - loss: 1.0072 - acc: 0.524 - ETA: 0s - loss: 1.0007 - acc: 0.532 - ETA: 0s - loss: 0.9997 - acc: 0.531 - ETA: 0s - loss: 0.9989 - acc: 0.532 - 0s 54us/step - loss: 0.9964 - acc: 0.5345 - val_loss: 0.9930 - val_acc: 0.5305\n",
      "Epoch 3/20\n",
      "7006/7006 [==============================] - ETA: 0s - loss: 1.0163 - acc: 0.500 - ETA: 0s - loss: 1.0000 - acc: 0.524 - ETA: 0s - loss: 1.0013 - acc: 0.521 - ETA: 0s - loss: 0.9934 - acc: 0.528 - ETA: 0s - loss: 0.9888 - acc: 0.529 - ETA: 0s - loss: 0.9854 - acc: 0.531 - ETA: 0s - loss: 0.9820 - acc: 0.533 - 0s 52us/step - loss: 0.9814 - acc: 0.5345 - val_loss: 0.9723 - val_acc: 0.5305\n",
      "Epoch 4/20\n",
      "7006/7006 [==============================] - ETA: 0s - loss: 0.9560 - acc: 0.593 - ETA: 0s - loss: 0.9818 - acc: 0.540 - ETA: 0s - loss: 0.9786 - acc: 0.537 - ETA: 0s - loss: 0.9750 - acc: 0.539 - ETA: 0s - loss: 0.9753 - acc: 0.536 - ETA: 0s - loss: 0.9783 - acc: 0.534 - ETA: 0s - loss: 0.9764 - acc: 0.534 - 0s 51us/step - loss: 0.9763 - acc: 0.5345 - val_loss: 0.9667 - val_acc: 0.5305\n",
      "Epoch 5/20\n",
      "7006/7006 [==============================] - ETA: 0s - loss: 0.9833 - acc: 0.562 - ETA: 0s - loss: 0.9697 - acc: 0.543 - ETA: 0s - loss: 0.9712 - acc: 0.535 - ETA: 0s - loss: 0.9650 - acc: 0.548 - ETA: 0s - loss: 0.9771 - acc: 0.539 - ETA: 0s - loss: 0.9764 - acc: 0.540 - ETA: 0s - loss: 0.9753 - acc: 0.541 - ETA: 0s - loss: 0.9716 - acc: 0.545 - 0s 59us/step - loss: 0.9707 - acc: 0.5462 - val_loss: 0.9657 - val_acc: 0.5478\n",
      "Epoch 6/20\n",
      "7006/7006 [==============================] - ETA: 0s - loss: 0.9073 - acc: 0.593 - ETA: 0s - loss: 0.9572 - acc: 0.555 - ETA: 0s - loss: 0.9644 - acc: 0.550 - ETA: 0s - loss: 0.9598 - acc: 0.556 - ETA: 0s - loss: 0.9661 - acc: 0.553 - ETA: 0s - loss: 0.9684 - acc: 0.554 - ETA: 0s - loss: 0.9682 - acc: 0.552 - 0s 51us/step - loss: 0.9686 - acc: 0.5518 - val_loss: 0.9723 - val_acc: 0.5538\n",
      "Epoch 7/20\n",
      "7006/7006 [==============================] - ETA: 0s - loss: 1.0416 - acc: 0.375 - ETA: 0s - loss: 0.9464 - acc: 0.569 - ETA: 0s - loss: 0.9524 - acc: 0.562 - ETA: 0s - loss: 0.9647 - acc: 0.547 - ETA: 0s - loss: 0.9634 - acc: 0.551 - ETA: 0s - loss: 0.9631 - acc: 0.553 - ETA: 0s - loss: 0.9665 - acc: 0.550 - 0s 54us/step - loss: 0.9673 - acc: 0.5498 - val_loss: 0.9594 - val_acc: 0.5534\n",
      "Epoch 8/20\n",
      "7006/7006 [==============================] - ETA: 0s - loss: 1.0247 - acc: 0.562 - ETA: 0s - loss: 0.9767 - acc: 0.545 - ETA: 0s - loss: 0.9653 - acc: 0.552 - ETA: 0s - loss: 0.9648 - acc: 0.555 - ETA: 0s - loss: 0.9628 - acc: 0.556 - ETA: 0s - loss: 0.9667 - acc: 0.551 - ETA: 0s - loss: 0.9643 - acc: 0.552 - 0s 56us/step - loss: 0.9633 - acc: 0.5528 - val_loss: 0.9580 - val_acc: 0.5548\n",
      "Epoch 9/20\n",
      "7006/7006 [==============================] - ETA: 0s - loss: 0.9119 - acc: 0.500 - ETA: 0s - loss: 0.9436 - acc: 0.572 - ETA: 0s - loss: 0.9549 - acc: 0.564 - ETA: 0s - loss: 0.9594 - acc: 0.555 - ETA: 0s - loss: 0.9602 - acc: 0.553 - ETA: 0s - loss: 0.9603 - acc: 0.552 - ETA: 0s - loss: 0.9644 - acc: 0.549 - 0s 54us/step - loss: 0.9634 - acc: 0.5515 - val_loss: 0.9553 - val_acc: 0.5594\n",
      "Epoch 10/20\n",
      "7006/7006 [==============================] - ETA: 0s - loss: 1.0658 - acc: 0.500 - ETA: 0s - loss: 0.9431 - acc: 0.579 - ETA: 0s - loss: 0.9577 - acc: 0.558 - ETA: 0s - loss: 0.9528 - acc: 0.562 - ETA: 0s - loss: 0.9568 - acc: 0.558 - ETA: 0s - loss: 0.9620 - acc: 0.551 - ETA: 0s - loss: 0.9576 - acc: 0.554 - 0s 53us/step - loss: 0.9563 - acc: 0.5552 - val_loss: 0.9472 - val_acc: 0.5558\n",
      "Epoch 11/20\n",
      "7006/7006 [==============================] - ETA: 0s - loss: 0.9483 - acc: 0.593 - ETA: 0s - loss: 0.9656 - acc: 0.543 - ETA: 0s - loss: 0.9540 - acc: 0.555 - ETA: 0s - loss: 0.9496 - acc: 0.558 - ETA: 0s - loss: 0.9530 - acc: 0.555 - ETA: 0s - loss: 0.9537 - acc: 0.552 - ETA: 0s - loss: 0.9532 - acc: 0.551 - ETA: 0s - loss: 0.9514 - acc: 0.552 - 0s 62us/step - loss: 0.9515 - acc: 0.5520 - val_loss: 0.9434 - val_acc: 0.5594\n",
      "Epoch 12/20\n",
      "7006/7006 [==============================] - ETA: 0s - loss: 0.8407 - acc: 0.656 - ETA: 0s - loss: 0.9610 - acc: 0.542 - ETA: 0s - loss: 0.9530 - acc: 0.547 - ETA: 0s - loss: 0.9536 - acc: 0.544 - ETA: 0s - loss: 0.9434 - acc: 0.554 - ETA: 0s - loss: 0.9473 - acc: 0.549 - ETA: 0s - loss: 0.9444 - acc: 0.550 - 0s 53us/step - loss: 0.9429 - acc: 0.5521 - val_loss: 0.9321 - val_acc: 0.5538\n",
      "Epoch 13/20\n",
      "7006/7006 [==============================] - ETA: 0s - loss: 1.0507 - acc: 0.593 - ETA: 0s - loss: 0.9325 - acc: 0.552 - ETA: 0s - loss: 0.9383 - acc: 0.554 - ETA: 0s - loss: 0.9355 - acc: 0.557 - ETA: 0s - loss: 0.9324 - acc: 0.562 - ETA: 0s - loss: 0.9352 - acc: 0.559 - ETA: 0s - loss: 0.9369 - acc: 0.556 - 0s 56us/step - loss: 0.9363 - acc: 0.5565 - val_loss: 0.9273 - val_acc: 0.5568\n",
      "Epoch 14/20\n",
      "7006/7006 [==============================] - ETA: 0s - loss: 0.8846 - acc: 0.593 - ETA: 0s - loss: 0.9388 - acc: 0.542 - ETA: 0s - loss: 0.9258 - acc: 0.560 - ETA: 0s - loss: 0.9299 - acc: 0.559 - ETA: 0s - loss: 0.9402 - acc: 0.554 - ETA: 0s - loss: 0.9370 - acc: 0.557 - 0s 49us/step - loss: 0.9343 - acc: 0.5605 - val_loss: 0.9257 - val_acc: 0.5541\n",
      "Epoch 15/20\n",
      "7006/7006 [==============================] - ETA: 0s - loss: 0.9870 - acc: 0.468 - ETA: 0s - loss: 0.9151 - acc: 0.573 - ETA: 0s - loss: 0.9196 - acc: 0.563 - ETA: 0s - loss: 0.9282 - acc: 0.560 - ETA: 0s - loss: 0.9282 - acc: 0.563 - ETA: 0s - loss: 0.9291 - acc: 0.560 - ETA: 0s - loss: 0.9279 - acc: 0.560 - 0s 52us/step - loss: 0.9289 - acc: 0.5595 - val_loss: 0.9230 - val_acc: 0.5571\n",
      "Epoch 16/20\n",
      "7006/7006 [==============================] - ETA: 0s - loss: 0.8058 - acc: 0.687 - ETA: 0s - loss: 0.9005 - acc: 0.577 - ETA: 0s - loss: 0.9038 - acc: 0.578 - ETA: 0s - loss: 0.9103 - acc: 0.571 - ETA: 0s - loss: 0.9161 - acc: 0.570 - ETA: 0s - loss: 0.9217 - acc: 0.564 - ETA: 0s - loss: 0.9251 - acc: 0.561 - 0s 51us/step - loss: 0.9253 - acc: 0.5604 - val_loss: 0.9278 - val_acc: 0.5661\n",
      "Epoch 17/20\n",
      "7006/7006 [==============================] - ETA: 0s - loss: 0.7922 - acc: 0.687 - ETA: 0s - loss: 0.9232 - acc: 0.576 - ETA: 0s - loss: 0.9277 - acc: 0.567 - ETA: 0s - loss: 0.9228 - acc: 0.571 - ETA: 0s - loss: 0.9214 - acc: 0.568 - ETA: 0s - loss: 0.9184 - acc: 0.568 - ETA: 0s - loss: 0.9221 - acc: 0.566 - 0s 53us/step - loss: 0.9220 - acc: 0.5647 - val_loss: 0.9254 - val_acc: 0.5611\n",
      "Epoch 18/20\n",
      "7006/7006 [==============================] - ETA: 0s - loss: 0.7626 - acc: 0.718 - ETA: 0s - loss: 0.9156 - acc: 0.587 - ETA: 0s - loss: 0.9173 - acc: 0.581 - ETA: 0s - loss: 0.9216 - acc: 0.571 - ETA: 0s - loss: 0.9209 - acc: 0.573 - ETA: 0s - loss: 0.9221 - acc: 0.569 - ETA: 0s - loss: 0.9215 - acc: 0.568 - 0s 56us/step - loss: 0.9235 - acc: 0.5664 - val_loss: 0.9324 - val_acc: 0.5608\n",
      "Epoch 19/20\n",
      "7006/7006 [==============================] - ETA: 0s - loss: 0.8537 - acc: 0.562 - ETA: 0s - loss: 0.9285 - acc: 0.551 - ETA: 0s - loss: 0.9129 - acc: 0.563 - ETA: 0s - loss: 0.9197 - acc: 0.564 - ETA: 0s - loss: 0.9199 - acc: 0.567 - ETA: 0s - loss: 0.9203 - acc: 0.567 - ETA: 0s - loss: 0.9195 - acc: 0.569 - 0s 53us/step - loss: 0.9188 - acc: 0.5701 - val_loss: 0.9161 - val_acc: 0.5641\n",
      "Epoch 20/20\n",
      "7006/7006 [==============================] - ETA: 0s - loss: 1.0162 - acc: 0.437 - ETA: 0s - loss: 0.8984 - acc: 0.586 - ETA: 0s - loss: 0.9031 - acc: 0.582 - ETA: 0s - loss: 0.9030 - acc: 0.584 - ETA: 0s - loss: 0.9087 - acc: 0.581 - ETA: 0s - loss: 0.9115 - acc: 0.579 - ETA: 0s - loss: 0.9158 - acc: 0.573 - 0s 53us/step - loss: 0.9160 - acc: 0.5734 - val_loss: 0.9200 - val_acc: 0.5641\n",
      "Train on 7006 samples, validate on 3003 samples\n",
      "Epoch 1/20\n"
     ]
    },
    {
     "name": "stdout",
     "output_type": "stream",
     "text": [
      "7006/7006 [==============================] - ETA: 2:03 - loss: 1.0987 - acc: 0.312 - ETA: 3s - loss: 1.0663 - acc: 0.5091  - ETA: 1s - loss: 1.0353 - acc: 0.512 - ETA: 0s - loss: 1.0227 - acc: 0.513 - ETA: 0s - loss: 1.0159 - acc: 0.518 - ETA: 0s - loss: 1.0118 - acc: 0.520 - ETA: 0s - loss: 1.0038 - acc: 0.520 - 1s 145us/step - loss: 0.9929 - acc: 0.5224 - val_loss: 0.8642 - val_acc: 0.5688\n",
      "Epoch 2/20\n",
      "7006/7006 [==============================] - ETA: 0s - loss: 0.8882 - acc: 0.562 - ETA: 0s - loss: 0.8280 - acc: 0.574 - ETA: 0s - loss: 0.8281 - acc: 0.583 - ETA: 0s - loss: 0.8258 - acc: 0.596 - ETA: 0s - loss: 0.8208 - acc: 0.603 - ETA: 0s - loss: 0.8115 - acc: 0.607 - ETA: 0s - loss: 0.8100 - acc: 0.609 - 0s 57us/step - loss: 0.8051 - acc: 0.6125 - val_loss: 0.7765 - val_acc: 0.6354\n",
      "Epoch 3/20\n",
      "7006/7006 [==============================] - ETA: 0s - loss: 0.7865 - acc: 0.656 - ETA: 0s - loss: 0.7877 - acc: 0.636 - ETA: 0s - loss: 0.7849 - acc: 0.629 - ETA: 0s - loss: 0.7705 - acc: 0.635 - ETA: 0s - loss: 0.7724 - acc: 0.631 - ETA: 0s - loss: 0.7760 - acc: 0.635 - ETA: 0s - loss: 0.7769 - acc: 0.635 - ETA: 0s - loss: 0.7806 - acc: 0.633 - 0s 62us/step - loss: 0.7811 - acc: 0.6317 - val_loss: 0.8011 - val_acc: 0.6190\n",
      "Epoch 4/20\n",
      "7006/7006 [==============================] - ETA: 0s - loss: 0.7598 - acc: 0.593 - ETA: 0s - loss: 0.7684 - acc: 0.634 - ETA: 0s - loss: 0.7695 - acc: 0.635 - ETA: 0s - loss: 0.7689 - acc: 0.636 - ETA: 0s - loss: 0.7741 - acc: 0.635 - ETA: 0s - loss: 0.7736 - acc: 0.636 - ETA: 0s - loss: 0.7742 - acc: 0.634 - ETA: 0s - loss: 0.7738 - acc: 0.634 - 0s 63us/step - loss: 0.7758 - acc: 0.6333 - val_loss: 0.7723 - val_acc: 0.6490\n",
      "Epoch 5/20\n",
      "7006/7006 [==============================] - ETA: 0s - loss: 0.7582 - acc: 0.593 - ETA: 0s - loss: 0.8085 - acc: 0.595 - ETA: 0s - loss: 0.7824 - acc: 0.619 - ETA: 0s - loss: 0.7815 - acc: 0.625 - ETA: 0s - loss: 0.7805 - acc: 0.631 - ETA: 0s - loss: 0.7712 - acc: 0.635 - ETA: 0s - loss: 0.7762 - acc: 0.633 - 0s 57us/step - loss: 0.7779 - acc: 0.6342 - val_loss: 0.7630 - val_acc: 0.6434\n",
      "Epoch 6/20\n",
      "7006/7006 [==============================] - ETA: 0s - loss: 0.6510 - acc: 0.781 - ETA: 0s - loss: 0.7694 - acc: 0.647 - ETA: 0s - loss: 0.7533 - acc: 0.649 - ETA: 0s - loss: 0.7633 - acc: 0.642 - ETA: 0s - loss: 0.7698 - acc: 0.642 - ETA: 0s - loss: 0.7688 - acc: 0.644 - ETA: 0s - loss: 0.7679 - acc: 0.642 - 0s 57us/step - loss: 0.7675 - acc: 0.6397 - val_loss: 0.7962 - val_acc: 0.6187\n",
      "Epoch 7/20\n",
      "7006/7006 [==============================] - ETA: 0s - loss: 0.7700 - acc: 0.593 - ETA: 0s - loss: 0.7723 - acc: 0.615 - ETA: 0s - loss: 0.7755 - acc: 0.610 - ETA: 0s - loss: 0.7664 - acc: 0.623 - ETA: 0s - loss: 0.7684 - acc: 0.625 - ETA: 0s - loss: 0.7625 - acc: 0.628 - ETA: 0s - loss: 0.7659 - acc: 0.628 - ETA: 0s - loss: 0.7652 - acc: 0.632 - 0s 64us/step - loss: 0.7660 - acc: 0.6356 - val_loss: 0.7643 - val_acc: 0.6447\n",
      "Epoch 8/20\n",
      "7006/7006 [==============================] - ETA: 0s - loss: 0.9098 - acc: 0.531 - ETA: 0s - loss: 0.7434 - acc: 0.666 - ETA: 0s - loss: 0.7388 - acc: 0.669 - ETA: 0s - loss: 0.7590 - acc: 0.657 - ETA: 0s - loss: 0.7580 - acc: 0.649 - ETA: 0s - loss: 0.7580 - acc: 0.643 - ETA: 0s - loss: 0.7603 - acc: 0.637 - ETA: 0s - loss: 0.7643 - acc: 0.636 - 0s 61us/step - loss: 0.7626 - acc: 0.6377 - val_loss: 0.7668 - val_acc: 0.6390\n",
      "Epoch 9/20\n",
      "7006/7006 [==============================] - ETA: 0s - loss: 0.9964 - acc: 0.468 - ETA: 0s - loss: 0.7559 - acc: 0.636 - ETA: 0s - loss: 0.7559 - acc: 0.645 - ETA: 0s - loss: 0.7538 - acc: 0.649 - ETA: 0s - loss: 0.7544 - acc: 0.645 - ETA: 0s - loss: 0.7590 - acc: 0.643 - ETA: 0s - loss: 0.7603 - acc: 0.643 - ETA: 0s - loss: 0.7593 - acc: 0.644 - 0s 63us/step - loss: 0.7598 - acc: 0.6447 - val_loss: 0.7842 - val_acc: 0.6367\n",
      "Epoch 10/20\n",
      "7006/7006 [==============================] - ETA: 0s - loss: 0.7213 - acc: 0.718 - ETA: 0s - loss: 0.7641 - acc: 0.645 - ETA: 0s - loss: 0.7595 - acc: 0.647 - ETA: 0s - loss: 0.7717 - acc: 0.639 - ETA: 0s - loss: 0.7690 - acc: 0.640 - ETA: 0s - loss: 0.7631 - acc: 0.644 - ETA: 0s - loss: 0.7637 - acc: 0.646 - 0s 57us/step - loss: 0.7646 - acc: 0.6447 - val_loss: 0.7586 - val_acc: 0.6510\n",
      "Epoch 11/20\n",
      "7006/7006 [==============================] - ETA: 0s - loss: 0.6117 - acc: 0.750 - ETA: 0s - loss: 0.7744 - acc: 0.656 - ETA: 0s - loss: 0.7652 - acc: 0.645 - ETA: 0s - loss: 0.7654 - acc: 0.643 - ETA: 0s - loss: 0.7712 - acc: 0.633 - ETA: 0s - loss: 0.7663 - acc: 0.637 - ETA: 0s - loss: 0.7658 - acc: 0.634 - ETA: 0s - loss: 0.7615 - acc: 0.638 - 0s 64us/step - loss: 0.7589 - acc: 0.6406 - val_loss: 0.7501 - val_acc: 0.6494\n",
      "Epoch 12/20\n",
      "7006/7006 [==============================] - ETA: 0s - loss: 0.6691 - acc: 0.687 - ETA: 0s - loss: 0.7389 - acc: 0.663 - ETA: 0s - loss: 0.7458 - acc: 0.651 - ETA: 0s - loss: 0.7494 - acc: 0.645 - ETA: 0s - loss: 0.7536 - acc: 0.643 - ETA: 0s - loss: 0.7477 - acc: 0.651 - ETA: 0s - loss: 0.7521 - acc: 0.646 - ETA: 0s - loss: 0.7529 - acc: 0.647 - 0s 63us/step - loss: 0.7523 - acc: 0.6463 - val_loss: 0.7498 - val_acc: 0.6517\n",
      "Epoch 13/20\n",
      "7006/7006 [==============================] - ETA: 0s - loss: 0.7627 - acc: 0.625 - ETA: 0s - loss: 0.7544 - acc: 0.628 - ETA: 0s - loss: 0.7663 - acc: 0.626 - ETA: 0s - loss: 0.7679 - acc: 0.632 - ETA: 0s - loss: 0.7543 - acc: 0.635 - ETA: 0s - loss: 0.7522 - acc: 0.637 - ETA: 0s - loss: 0.7478 - acc: 0.639 - ETA: 0s - loss: 0.7493 - acc: 0.639 - ETA: 0s - loss: 0.7519 - acc: 0.639 - 0s 69us/step - loss: 0.7531 - acc: 0.6393 - val_loss: 0.8068 - val_acc: 0.6317\n",
      "Epoch 14/20\n",
      "7006/7006 [==============================] - ETA: 0s - loss: 0.6772 - acc: 0.718 - ETA: 0s - loss: 0.7479 - acc: 0.654 - ETA: 0s - loss: 0.7503 - acc: 0.644 - ETA: 0s - loss: 0.7517 - acc: 0.638 - ETA: 0s - loss: 0.7499 - acc: 0.642 - ETA: 0s - loss: 0.7544 - acc: 0.640 - ETA: 0s - loss: 0.7511 - acc: 0.644 - ETA: 0s - loss: 0.7512 - acc: 0.645 - 0s 64us/step - loss: 0.7534 - acc: 0.6420 - val_loss: 0.7588 - val_acc: 0.6474\n",
      "Epoch 15/20\n",
      "7006/7006 [==============================] - ETA: 0s - loss: 0.7422 - acc: 0.687 - ETA: 0s - loss: 0.7264 - acc: 0.641 - ETA: 0s - loss: 0.7464 - acc: 0.643 - ETA: 0s - loss: 0.7514 - acc: 0.639 - ETA: 0s - loss: 0.7541 - acc: 0.639 - ETA: 0s - loss: 0.7563 - acc: 0.640 - ETA: 0s - loss: 0.7540 - acc: 0.642 - ETA: 0s - loss: 0.7518 - acc: 0.641 - 0s 65us/step - loss: 0.7529 - acc: 0.6432 - val_loss: 0.7577 - val_acc: 0.6487\n",
      "Epoch 16/20\n",
      "7006/7006 [==============================] - ETA: 0s - loss: 0.8791 - acc: 0.562 - ETA: 0s - loss: 0.7058 - acc: 0.672 - ETA: 0s - loss: 0.7425 - acc: 0.653 - ETA: 0s - loss: 0.7450 - acc: 0.652 - ETA: 0s - loss: 0.7380 - acc: 0.657 - ETA: 0s - loss: 0.7429 - acc: 0.652 - ETA: 0s - loss: 0.7499 - acc: 0.647 - ETA: 0s - loss: 0.7524 - acc: 0.643 - 0s 63us/step - loss: 0.7535 - acc: 0.6434 - val_loss: 0.7523 - val_acc: 0.6543\n",
      "Epoch 17/20\n",
      "7006/7006 [==============================] - ETA: 0s - loss: 0.7422 - acc: 0.593 - ETA: 0s - loss: 0.7385 - acc: 0.623 - ETA: 0s - loss: 0.7354 - acc: 0.648 - ETA: 0s - loss: 0.7505 - acc: 0.644 - ETA: 0s - loss: 0.7575 - acc: 0.639 - ETA: 0s - loss: 0.7523 - acc: 0.641 - ETA: 0s - loss: 0.7500 - acc: 0.645 - ETA: 0s - loss: 0.7527 - acc: 0.643 - ETA: 0s - loss: 0.7513 - acc: 0.644 - 1s 73us/step - loss: 0.7498 - acc: 0.6467 - val_loss: 0.7612 - val_acc: 0.6470\n",
      "Epoch 18/20\n",
      "7006/7006 [==============================] - ETA: 0s - loss: 0.6813 - acc: 0.593 - ETA: 0s - loss: 0.7739 - acc: 0.635 - ETA: 0s - loss: 0.7758 - acc: 0.635 - ETA: 0s - loss: 0.7684 - acc: 0.635 - ETA: 0s - loss: 0.7561 - acc: 0.641 - ETA: 0s - loss: 0.7542 - acc: 0.637 - ETA: 0s - loss: 0.7518 - acc: 0.637 - ETA: 0s - loss: 0.7570 - acc: 0.636 - ETA: 0s - loss: 0.7553 - acc: 0.640 - 0s 69us/step - loss: 0.7533 - acc: 0.6422 - val_loss: 0.7546 - val_acc: 0.6487\n",
      "Epoch 19/20\n",
      "7006/7006 [==============================] - ETA: 0s - loss: 0.7887 - acc: 0.468 - ETA: 0s - loss: 0.7417 - acc: 0.659 - ETA: 0s - loss: 0.7541 - acc: 0.649 - ETA: 0s - loss: 0.7429 - acc: 0.650 - ETA: 0s - loss: 0.7432 - acc: 0.654 - ETA: 0s - loss: 0.7541 - acc: 0.643 - ETA: 0s - loss: 0.7559 - acc: 0.642 - ETA: 0s - loss: 0.7526 - acc: 0.644 - 0s 65us/step - loss: 0.7499 - acc: 0.6434 - val_loss: 0.7938 - val_acc: 0.6294\n"
     ]
    },
    {
     "name": "stdout",
     "output_type": "stream",
     "text": [
      "Epoch 20/20\n",
      "7006/7006 [==============================] - ETA: 0s - loss: 0.8641 - acc: 0.500 - ETA: 0s - loss: 0.7767 - acc: 0.634 - ETA: 0s - loss: 0.7497 - acc: 0.644 - ETA: 0s - loss: 0.7503 - acc: 0.645 - ETA: 0s - loss: 0.7481 - acc: 0.649 - ETA: 0s - loss: 0.7475 - acc: 0.649 - ETA: 0s - loss: 0.7493 - acc: 0.646 - 0s 57us/step - loss: 0.7495 - acc: 0.6460 - val_loss: 0.7543 - val_acc: 0.6450\n"
     ]
    }
   ],
   "source": [
    "from keras.utils.np_utils import to_categorical\n",
    "from keras.models import Sequential\n",
    "from keras.layers import Dense, Activation\n",
    "from keras import backend as K\n",
    "import tensorflow as tf\n",
    "\n",
    "with tf.device('/device:CPU:0'):\n",
    "    model = Sequential([\n",
    "        Dense(64, input_shape=(15,), kernel_initializer='normal'),\n",
    "        Activation('relu'),\n",
    "        Dense(32, kernel_initializer='normal'),\n",
    "        Activation('relu'),\n",
    "        Dense(16,kernel_initializer='normal'),\n",
    "        Activation('relu'),\n",
    "        Dense(8, kernel_initializer='normal'),\n",
    "        Activation('relu'),\n",
    "        Dense(3),\n",
    "        Activation('softmax'),\n",
    "    ])\n",
    "    model.compile(loss='categorical_crossentropy', optimizer='adam', metrics = ['accuracy'])\n",
    "    model.fit(X_train, y_train[:,0], validation_data=(X_test, y_test[:,0]), epochs = 20)\n",
    "    #model.fit(X_train[0:2], y_train[0:2,0], validation_data=(X_test[0:2], y_test[0:2,0]), epochs = 1000)\n",
    "\n",
    "    model1 = Sequential([\n",
    "        Dense(64, input_shape=(15,), kernel_initializer='normal'),\n",
    "        Activation('relu'),\n",
    "        Dense(64, kernel_initializer='normal'),\n",
    "        Activation('relu'),\n",
    "        Dense(64, kernel_initializer='normal'),\n",
    "        Activation('relu'),\n",
    "        Dense(64, kernel_initializer='normal'),\n",
    "        Activation('relu'),\n",
    "        Dense(64,kernel_initializer='normal'),\n",
    "        Activation('relu'),\n",
    "        Dense(3),\n",
    "        Activation('softmax'),\n",
    "    ])\n",
    "   \n",
    "    model1.compile(loss='categorical_crossentropy', optimizer='adam',metrics = ['accuracy'])\n",
    "    model1.fit(X_train, y_train[:,1], validation_data=(X_test, y_test[:,1]), epochs = 20)\n",
    "    \n",
    "    \n",
    "#     y1 = y_train[:,1]\n",
    "#     y1_int = np.argmax(y1, axis=1)\n",
    "    \n",
    "    \n",
    "#     from sklearn.linear_model import LogisticRegression\n",
    "#     from imblearn.under_sampling import InstanceHardnessThreshold\n",
    "#     from imblearn.combine import SMOTEENN\n",
    "#     from imblearn.over_sampling import SMOTE\n",
    "#     from collections import Counter\n",
    "\n",
    "\n",
    "#     sm = SMOTE(random_state=0)\n",
    "#     x, y = sm.fit_sample(X_train, y1_int)\n",
    "#     print(\"label sizes before sampling: \", sorted(Counter(y1_int).items()))\n",
    "#     print(\"label sizes after sampling: \", sorted(Counter(y).items()))\n",
    "#     y = to_categorical(y, num_classes=3)\n",
    "#     print(\"len after down sampling: \", len(x))\n",
    "    \n",
    "    \n",
    "\n",
    "    #model1 = RandomForestClassifier(n_estimators = 300, max_features = 88, max_depth = 5)\n",
    "     \n",
    "#     model1 = MLPClassifier(solver='lbfgs', alpha=1e-5, hidden_layer_sizes=(300,), random_state=30)\n",
    "#     sm = SMOTE(random_state=42)\n",
    "#     print(len(y_train[:,1]), len(X_train))\n",
    "#     x, y = sm.fit_sample(X_train, y_train[:,1])\n",
    "#     model1.fit(x, y)\n",
    "    \n",
    "    \n",
    "#     model2 = Sequential([\n",
    "#         Dense(64, input_shape=(88,), kernel_initializer='normal'),\n",
    "#         Activation('relu'),\n",
    "#         Dense(32, kernel_initializer='normal'),\n",
    "#         Activation('relu'),\n",
    "#         Dense(16,kernel_initializer='normal'),\n",
    "#         Activation('relu'),\n",
    "#         Dense(8, kernel_initializer='normal'),\n",
    "#         Activation('relu'),\n",
    "#         Dense(3),\n",
    "#         Activation('softmax'),\n",
    "#     ])\n",
    "#     model2.compile(loss='categorical_crossentropy', optimizer='adam',metrics = ['accuracy'])\n",
    "#     model2.fit(X_train, y_train[:,2], validation_data=(X_test, y_test[:,2]), epochs = 10)\n",
    "\n"
   ]
  },
  {
   "cell_type": "markdown",
   "metadata": {},
   "source": [
    "**Result test**"
   ]
  },
  {
   "cell_type": "code",
   "execution_count": 54,
   "metadata": {},
   "outputs": [
    {
     "name": "stdout",
     "output_type": "stream",
     "text": [
      "[[1436   73   84]\n",
      " [ 657   95   80]\n",
      " [ 375   40  163]] \n",
      "\n",
      "[[ 527  423    6]\n",
      " [ 224 1153  183]\n",
      " [   7  223  257]]\n",
      "[0.43983945 0.5091007  0.05105985] ,  1\n",
      "[0.7997398  0.19663186 0.00362838] ,  0\n",
      "[0.10352632 0.5638604  0.33261326] ,  1\n",
      "[0.46450007 0.49370843 0.04179144] ,  0\n",
      "[0.1736988  0.71604    0.11026114] ,  2\n",
      "[0.8196814  0.17729211 0.00302644] ,  0\n",
      "[0.1916399  0.6959412  0.11241885] ,  0\n",
      "[0.40433472 0.52628624 0.06937908] ,  1\n",
      "[0.24666813 0.6572551  0.09607679] ,  1\n",
      "[0.6426845  0.34341547 0.01390003] ,  0\n",
      "[0.00471046 0.2328426  0.762447  ] ,  2\n",
      "[0.27716175 0.6565145  0.06632364] ,  1\n",
      "[6.0217655e-05 4.0666975e-02 9.5927286e-01] ,  1\n",
      "[0.21773218 0.6257098  0.156558  ] ,  2\n",
      "[0.36837947 0.54631364 0.08530692] ,  1\n",
      "[0.01820715 0.36905456 0.6127383 ] ,  1\n",
      "[0.2399099  0.63259476 0.12749523] ,  0\n",
      "[0.868661   0.13045557 0.00088342] ,  1\n",
      "[0.01663009 0.3685368  0.6148332 ] ,  2\n",
      "[0.68370116 0.3010903  0.01520845] ,  0\n",
      "Log_loss: 0.7543448960358986\n"
     ]
    },
    {
     "ename": "NameError",
     "evalue": "name 'model2' is not defined",
     "output_type": "error",
     "traceback": [
      "\u001b[1;31m---------------------------------------------------------------------------\u001b[0m",
      "\u001b[1;31mNameError\u001b[0m                                 Traceback (most recent call last)",
      "\u001b[1;32m<ipython-input-54-13b33f5cfc0f>\u001b[0m in \u001b[0;36m<module>\u001b[1;34m()\u001b[0m\n\u001b[0;32m     17\u001b[0m \u001b[0mprint\u001b[0m\u001b[1;33m(\u001b[0m\u001b[1;34m\"Log_loss:\"\u001b[0m\u001b[1;33m,\u001b[0m\u001b[0mlog_loss\u001b[0m\u001b[1;33m(\u001b[0m\u001b[0my_int\u001b[0m\u001b[1;33m,\u001b[0m \u001b[0mprob\u001b[0m\u001b[1;33m)\u001b[0m\u001b[1;33m)\u001b[0m\u001b[1;33m\u001b[0m\u001b[0m\n\u001b[0;32m     18\u001b[0m \u001b[1;33m\u001b[0m\u001b[0m\n\u001b[1;32m---> 19\u001b[1;33m \u001b[0mpre\u001b[0m \u001b[1;33m=\u001b[0m \u001b[0mmodel2\u001b[0m\u001b[1;33m.\u001b[0m\u001b[0mpredict_classes\u001b[0m\u001b[1;33m(\u001b[0m\u001b[0mX_test\u001b[0m\u001b[1;33m)\u001b[0m\u001b[1;33m\u001b[0m\u001b[0m\n\u001b[0m\u001b[0;32m     20\u001b[0m \u001b[0my_int\u001b[0m \u001b[1;33m=\u001b[0m \u001b[0mnp\u001b[0m\u001b[1;33m.\u001b[0m\u001b[0margmax\u001b[0m\u001b[1;33m(\u001b[0m\u001b[0my_test\u001b[0m\u001b[1;33m[\u001b[0m\u001b[1;33m:\u001b[0m\u001b[1;33m,\u001b[0m\u001b[1;36m2\u001b[0m\u001b[1;33m]\u001b[0m\u001b[1;33m,\u001b[0m \u001b[0maxis\u001b[0m\u001b[1;33m=\u001b[0m\u001b[1;36m1\u001b[0m\u001b[1;33m)\u001b[0m\u001b[1;33m\u001b[0m\u001b[0m\n\u001b[0;32m     21\u001b[0m \u001b[0mprint\u001b[0m\u001b[1;33m(\u001b[0m\u001b[1;34m\"\\n\"\u001b[0m\u001b[1;33m,\u001b[0m\u001b[0mconfusion_matrix\u001b[0m\u001b[1;33m(\u001b[0m\u001b[0my_int\u001b[0m\u001b[1;33m,\u001b[0m \u001b[0mpre\u001b[0m\u001b[1;33m)\u001b[0m\u001b[1;33m)\u001b[0m\u001b[1;33m\u001b[0m\u001b[0m\n",
      "\u001b[1;31mNameError\u001b[0m: name 'model2' is not defined"
     ]
    }
   ],
   "source": [
    "from sklearn.metrics import log_loss\n",
    "\n",
    "\n",
    "pre = model.predict_classes(X_test)\n",
    "y_int = np.argmax(y_test[:,0], axis=1)\n",
    "print(confusion_matrix(y_int, pre), \"\\n\")\n",
    "\n",
    "\n",
    "pre = model1.predict_classes(X_test)\n",
    "#pre = model1.predict(X_test)\n",
    "#pre = np.argmax(pre, axis =1)\n",
    "y_int = np.argmax(y_test[:,1], axis=1)\n",
    "print(confusion_matrix(y_int, pre))\n",
    "prob =  model1.predict(X_test)\n",
    "for i in range(0,20):\n",
    "    print(prob[i],\", \" ,y_int[i])\n",
    "print(\"Log_loss:\",log_loss(y_int, prob))\n",
    "\n",
    "pre = model2.predict_classes(X_test)\n",
    "y_int = np.argmax(y_test[:,2], axis=1)\n",
    "print(\"\\n\",confusion_matrix(y_int, pre))\n",
    "\n",
    "\n",
    "# [[1547    0   52]\n",
    "#  [ 769    0   41]\n",
    "#  [ 494    1   99]] \n",
    "\n",
    "# [[ 592  306    4]\n",
    "#  [ 376 1081  116]\n",
    "#  [  17  272  239]]\n"
   ]
  },
  {
   "cell_type": "markdown",
   "metadata": {},
   "source": []
  },
  {
   "cell_type": "markdown",
   "metadata": {},
   "source": [
    "**Standard residual plot**"
   ]
  },
  {
   "cell_type": "markdown",
   "metadata": {},
   "source": [
    "**Playing around with prediction**"
   ]
  },
  {
   "cell_type": "code",
   "execution_count": null,
   "metadata": {},
   "outputs": [],
   "source": [
    "\n",
    "predict = model1.predict_classes(X_test)\n",
    "\n",
    "\n",
    "#subs = np.abs(predict - y_test[:,0])\n",
    "\n",
    "\n",
    "fig, axs = plt.subplots(1,3)\n",
    "subplots_adjust(right = 2, wspace=0.2)\n",
    "axs[0].hist(y_train[:,1])\n",
    "axs[0].set_title(\"True value in train data\\n\" + \n",
    "                 \"avg:\" + str(np.average(y_train[:,0])) + \n",
    "                 \"\\nstd:\" + str(np.std(y_train[:,0])))\n",
    "axs[1].hist(y_test[:,0])\n",
    "axs[1].set_title(\"True value in test data\\n\" + \n",
    "                 \"avg:\" + str(np.average(y_test[:,0])) + \n",
    "                 \"\\nstd:\" + str(np.std(y_test[:,0])))\n",
    "axs[1].set_ylim([0,400])\n",
    "                        \n",
    "axs[2].hist(predict) \n",
    "axs[2].set_title(\"Prediction\\n\" +\n",
    "                \"avg:\" + str(np.average(predict)) + \n",
    "                 \"\\nstd:\" + str(np.std(predict)))\n",
    "                \n",
    "\n",
    "\n",
    "plt.show()\n",
    "plt.close()\n"
   ]
  },
  {
   "cell_type": "code",
   "execution_count": null,
   "metadata": {},
   "outputs": [],
   "source": []
  }
 ],
 "metadata": {
  "kernelspec": {
   "display_name": "Python 3",
   "language": "python",
   "name": "python3"
  },
  "language_info": {
   "codemirror_mode": {
    "name": "ipython",
    "version": 3
   },
   "file_extension": ".py",
   "mimetype": "text/x-python",
   "name": "python",
   "nbconvert_exporter": "python",
   "pygments_lexer": "ipython3",
   "version": "3.5.5"
  }
 },
 "nbformat": 4,
 "nbformat_minor": 2
}
