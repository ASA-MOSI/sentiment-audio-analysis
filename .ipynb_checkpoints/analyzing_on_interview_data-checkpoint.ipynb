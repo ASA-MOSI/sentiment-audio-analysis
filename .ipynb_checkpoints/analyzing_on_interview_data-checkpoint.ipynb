{
 "cells": [
  {
   "cell_type": "markdown",
   "metadata": {},
   "source": [
    "# Load library and define class and functions"
   ]
  },
  {
   "cell_type": "code",
   "execution_count": 1,
   "metadata": {},
   "outputs": [
    {
     "name": "stderr",
     "output_type": "stream",
     "text": [
      "/usr/lib64/python3.6/site-packages/h5py/__init__.py:34: FutureWarning: Conversion of the second argument of issubdtype from `float` to `np.floating` is deprecated. In future, it will be treated as `np.float64 == np.dtype(float).type`.\n",
      "  from ._conv import register_converters as _register_converters\n",
      "Using TensorFlow backend.\n"
     ]
    }
   ],
   "source": [
    "import pickle\n",
    "from keras.utils.np_utils import to_categorical\n",
    "from keras.models import Sequential\n",
    "from keras.layers import Dense, Activation\n",
    "from keras import backend as K\n",
    "import tensorflow as tf\n",
    "from keras.utils.np_utils import to_categorical\n",
    "from sklearn.gaussian_process import GaussianProcessClassifier\n",
    "from sklearn.gaussian_process.kernels import RBF\n",
    "from sklearn.ensemble import RandomForestClassifier, AdaBoostClassifier\n",
    "from sklearn.linear_model import LogisticRegression\n",
    "from sklearn.neural_network import MLPClassifier\n",
    "import sys\n",
    "sys.path.insert(0, \"../\")\n",
    "from acousticFeatures import getAllFeatures\n",
    "import parselmouth \n",
    "import numpy as np\n",
    "from pydub import AudioSegment\n",
    "from IPython.display import Audio\n",
    "import matplotlib.pyplot as plt\n",
    "from sklearn.metrics import confusion_matrix\n",
    "from sklearn.metrics import roc_curve, auc\n",
    "\n",
    "def parse_metric(confusion_matrix):\n",
    "    FP = confusion_matrix.sum(axis=0) - np.diag(confusion_matrix)  \n",
    "    FN = confusion_matrix.sum(axis=1) - np.diag(confusion_matrix)\n",
    "    TP = np.diag(confusion_matrix)\n",
    "    TN = confusion_matrix.sum() - (FP + FN + TP)\n",
    "\n",
    "    # Sensitivity, hit rate, recall, or true positive rate\n",
    "    TPR = TP/(TP+FN)\n",
    "    # Specificity or true negative rate\n",
    "    TNR = TN/(TN+FP) \n",
    "    # Precision or positive predictive value\n",
    "    PPV = TP/(TP+FP)\n",
    "    # Negative predictive value\n",
    "    NPV = TN/(TN+FN)\n",
    "    # Fall out or false positive rate\n",
    "    FPR = FP/(FP+TN)\n",
    "    # False negative rate\n",
    "    FNR = FN/(TP+FN)\n",
    "    # False discovery rate\n",
    "    FDR = FP/(TP+FP)\n",
    "    # Overall accuracy\n",
    "    ACC = (TP+TN)/(TP+FP+FN+TN)\n",
    "    \n",
    "    return {'FP': FP, 'FN': FN, 'TP':TP, 'TN':TN, 'TPR': TPR, 'TNR': TNR, 'PPV' : PPV, 'NPV' :NPV, 'FPR': FPR, 'FNR': FNR,\n",
    "           'FDR': FDR, 'ACC':ACC}\n",
    "\n",
    "\n",
    "class Input:\n",
    "    def __init__(self, code=None, excited=None, valance=None, arouse=None):\n",
    "        self.__code = code\n",
    "        self.__excited = excited\n",
    "        self.__valance = valance\n",
    "        self.__arouse = arouse\n",
    "    \n",
    "    def get_code(self):\n",
    "        return self.__code\n",
    "    \n",
    "    def get_excited(self):\n",
    "        return self.__excited\n",
    "    \n",
    "    def get_valance(self):\n",
    "        return self.__valance\n",
    "    \n",
    "    def get_arouse(self):\n",
    "        return self.__arouse\n",
    "    \n",
    "class Output:\n",
    "    def __init__(self, dataFrame=None):\n",
    "        self.__dataFrame = dataFrame\n",
    "          \n",
    "    def get_data_frame(self):\n",
    "        return self.__dataFrame\n",
    "        "
   ]
  },
  {
   "cell_type": "markdown",
   "metadata": {},
   "source": [
    "# Load input, output"
   ]
  },
  {
   "cell_type": "code",
   "execution_count": 2,
   "metadata": {},
   "outputs": [
    {
     "name": "stdout",
     "output_type": "stream",
     "text": [
      "Size input: 138\n"
     ]
    }
   ],
   "source": [
    "input = pickle.load(open('processed-data/input-interview-frameLengh4-overlap2.obj', 'rb'))\n",
    "output = pickle.load(open('processed-data/output-interview.obj', 'rb'))\n",
    "print(\"Size input: {}\".format(len(input)))"
   ]
  },
  {
   "cell_type": "markdown",
   "metadata": {},
   "source": [
    "# Analyze "
   ]
  },
  {
   "cell_type": "markdown",
   "metadata": {},
   "source": [
    "## 1. Agg excited values with percentage of excited frame"
   ]
  },
  {
   "cell_type": "code",
   "execution_count": 14,
   "metadata": {},
   "outputs": [
    {
     "data": {
      "image/png": "[encoded data removed]",
      "text/plain": [
       "<Figure size 432x288 with 1 Axes>"
      ]
     },
     "metadata": {},
     "output_type": "display_data"
    }
   ],
   "source": [
    "# Percentage of frame\n",
    "excited = np.array([i.get_excited() for i in input])\n",
    "percentage_excited_frame = np.array([np.sum(e) / len(e) for e in excited])\n",
    "\n",
    "# Excited value of annotators\n",
    "df = output.get_data_frame() \n",
    "excited_values = []\n",
    "for k in df.Participant.unique():\n",
    "    df1 = df.loc[df['Participant'] == k]\n",
    "    v = df1.iloc[-1]\n",
    "    excited_values.append(v['Excited'])\n",
    "\n",
    "\n",
    "# DrAW scatter\n",
    "plt.scatter(percentage_excited_frame, excited_values) \n",
    "plt.xlabel(\"Percentage of Excited Frame (%)\")\n",
    "plt.ylabel(\"Excited\")\n",
    "plt.show();\n",
    "\n",
    "#Boxplot\n"
   ]
  },
  {
   "cell_type": "markdown",
   "metadata": {},
   "source": [
    "**ROC**"
   ]
  },
  {
   "cell_type": "code",
   "execution_count": 16,
   "metadata": {},
   "outputs": [
    {
     "name": "stderr",
     "output_type": "stream",
     "text": [
      "/usr/lib64/python3.6/site-packages/ipykernel_launcher.py:35: RuntimeWarning: invalid value encountered in true_divide\n",
      "/usr/lib64/python3.6/site-packages/ipykernel_launcher.py:37: RuntimeWarning: invalid value encountered in true_divide\n",
      "/usr/lib64/python3.6/site-packages/ipykernel_launcher.py:43: RuntimeWarning: invalid value encountered in true_divide\n"
     ]
    },
    {
     "data": {
      "image/png": "[encoded data removed]",
      "text/plain": [
       "<Figure size 432x288 with 1 Axes>"
      ]
     },
     "metadata": {},
     "output_type": "display_data"
    }
   ],
   "source": [
    "split_point = np.median(excited_values)\n",
    "y_binary = [ int(e >= split_point) for e in excited_values]\n",
    "\n",
    "thresholds = np.linspace(0, 1.0, 50)\n",
    "tpr_arr = []\n",
    "fpr_arr = []\n",
    "thresh_arr = [] \n",
    "for t in thresholds:\n",
    "    predict_binary = np.array([int(i >= t) for i in percentage_excited_frame])\n",
    "    cfm = confusion_matrix(y_binary, predict_binary)\n",
    "    parse_values = parse_metric(cfm)\n",
    "    tpr_arr.append(parse_values['TPR'])\n",
    "    fpr_arr.append(parse_values['FPR'])\n",
    "    thresh_arr.append(t)\n",
    "    #print(\"Threshold:{}, ACC:{}\".format(t,parse_values['ACC'][0] ))\n",
    "\n",
    "fpr_arr = np.asarray(fpr_arr)\n",
    "tpr_arr = np.asarray(tpr_arr)\n",
    "roc_auc = auc(fpr_arr[:,1], tpr_arr[:,1])\n",
    "plt.plot(fpr_arr[:,1], tpr_arr[:,1], label='ROC curve (area = {0:0.2f})'\n",
    "               ''.format(roc_auc),\n",
    "         color='navy', linestyle=':', linewidth=4)\n",
    "plt.plot([0, 1], [0, 1], 'k--')\n",
    "plt.legend(loc=\"lower right\")\n",
    "plt.show();"
   ]
  },
  {
   "cell_type": "code",
   "execution_count": null,
   "metadata": {
    "collapsed": true
   },
   "outputs": [],
   "source": []
  },
  {
   "cell_type": "code",
   "execution_count": 31,
   "metadata": {},
   "outputs": [
    {
     "name": "stdout",
     "output_type": "stream",
     "text": [
      "Threshold:0.0, ACC:0.5\n",
      "Threshold:0.02040816326530612, ACC:0.5\n",
      "Threshold:0.04081632653061224, ACC:0.5\n",
      "Threshold:0.061224489795918366, ACC:0.5\n",
      "Threshold:0.08163265306122448, ACC:0.5072463768115942\n",
      "Threshold:0.1020408163265306, ACC:0.5217391304347826\n",
      "Threshold:0.12244897959183673, ACC:0.5217391304347826\n",
      "Threshold:0.14285714285714285, ACC:0.5217391304347826\n",
      "Threshold:0.16326530612244897, ACC:0.5217391304347826\n",
      "Threshold:0.18367346938775508, ACC:0.5217391304347826\n",
      "Threshold:0.2040816326530612, ACC:0.5289855072463768\n",
      "Threshold:0.22448979591836732, ACC:0.5362318840579711\n",
      "Threshold:0.24489795918367346, ACC:0.5507246376811594\n",
      "Threshold:0.26530612244897955, ACC:0.5579710144927537\n",
      "Threshold:0.2857142857142857, ACC:0.5579710144927537\n",
      "Threshold:0.3061224489795918, ACC:0.5652173913043478\n",
      "Threshold:0.32653061224489793, ACC:0.5869565217391305\n",
      "Threshold:0.3469387755102041, ACC:0.6014492753623188\n",
      "Threshold:0.36734693877551017, ACC:0.6086956521739131\n",
      "Threshold:0.3877551020408163, ACC:0.6086956521739131\n",
      "Threshold:0.4081632653061224, ACC:0.6231884057971014\n",
      "Threshold:0.42857142857142855, ACC:0.6304347826086957\n",
      "Threshold:0.44897959183673464, ACC:0.6376811594202898\n",
      "Threshold:0.4693877551020408, ACC:0.644927536231884\n",
      "Threshold:0.4897959183673469, ACC:0.6739130434782609\n",
      "Threshold:0.5102040816326531, ACC:0.6594202898550725\n",
      "Threshold:0.5306122448979591, ACC:0.6666666666666666\n",
      "Threshold:0.5510204081632653, ACC:0.6811594202898551\n",
      "Threshold:0.5714285714285714, ACC:0.6956521739130435\n",
      "Threshold:0.5918367346938775, ACC:0.6956521739130435\n",
      "Threshold:0.6122448979591836, ACC:0.6956521739130435\n",
      "Threshold:0.6326530612244897, ACC:0.6956521739130435\n",
      "Threshold:0.6530612244897959, ACC:0.717391304347826\n",
      "Threshold:0.673469387755102, ACC:0.717391304347826\n",
      "Threshold:0.6938775510204082, ACC:0.7246376811594203\n",
      "Threshold:0.7142857142857142, ACC:0.6884057971014492\n",
      "Threshold:0.7346938775510203, ACC:0.6666666666666666\n",
      "Threshold:0.7551020408163265, ACC:0.6594202898550725\n",
      "Threshold:0.7755102040816326, ACC:0.6521739130434783\n",
      "Threshold:0.7959183673469387, ACC:0.6304347826086957\n",
      "Threshold:0.8163265306122448, ACC:0.6159420289855072\n",
      "Threshold:0.836734693877551, ACC:0.6231884057971014\n",
      "Threshold:0.8571428571428571, ACC:0.6014492753623188\n",
      "Threshold:0.8775510204081632, ACC:0.6231884057971014\n",
      "Threshold:0.8979591836734693, ACC:0.6231884057971014\n",
      "Threshold:0.9183673469387754, ACC:0.5869565217391305\n",
      "Threshold:0.9387755102040816, ACC:0.5652173913043478\n",
      "Threshold:0.9591836734693877, ACC:0.5434782608695652\n",
      "Threshold:0.9795918367346939, ACC:0.5217391304347826\n",
      "Threshold:1.0, ACC:0.5\n"
     ]
    },
    {
     "name": "stderr",
     "output_type": "stream",
     "text": [
      "C:\\Users\\THEDE\\Miniconda3\\envs\\py36\\lib\\site-packages\\ipykernel_launcher.py:35: RuntimeWarning: invalid value encountered in true_divide\n",
      "C:\\Users\\THEDE\\Miniconda3\\envs\\py36\\lib\\site-packages\\ipykernel_launcher.py:37: RuntimeWarning: invalid value encountered in true_divide\n",
      "C:\\Users\\THEDE\\Miniconda3\\envs\\py36\\lib\\site-packages\\ipykernel_launcher.py:43: RuntimeWarning: invalid value encountered in true_divide\n"
     ]
    },
    {
     "data": {
      "image/png": "[encoded data removed]",
      "text/plain": [
       "<Figure size 432x288 with 1 Axes>"
      ]
     },
     "metadata": {},
     "output_type": "display_data"
    }
   ],
   "source": []
  }
 ],
 "metadata": {
  "kernelspec": {
   "display_name": "Python 3",
   "language": "python3.6",
   "name": "python3"
  },
  "language_info": {
   "codemirror_mode": {
    "name": "ipython",
    "version": 3
   },
   "file_extension": ".py",
   "mimetype": "text/x-python",
   "name": "python",
   "nbconvert_exporter": "python",
   "pygments_lexer": "ipython3",
   "version": "3.6.6"
  }
 },
 "nbformat": 4,
 "nbformat_minor": 2
}
