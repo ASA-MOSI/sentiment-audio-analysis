{
 "cells": [
  {
   "cell_type": "code",
   "execution_count": 33,
   "metadata": {},
   "outputs": [],
   "source": [
    "from typing import Dict, Tuple, List\n",
    "from pprint import pprint\n",
    "\n",
    "PATH_TRANSCRIP_FOLDER = \"auditary_emotion_recognition/IEMOCAP_full_release/Session1/dialog/transcriptions\"\n",
    "NAME_FILE = \"Ses01F_impro01.txt\"\n",
    "\n",
    "PATH_FILE = \"/\".join([PATH_TRANSCRIP_FOLDER, NAME_FILE])\n",
    "\n",
    "def get_transcription(file: str) -> Dict[str, str] :\n",
    "    \"\"\" Get all transriptions in file\n",
    "    \n",
    "        :param file: It is the path of the file\n",
    "        :return: Dict. Keys are name of audio files. Values are their transcrips\n",
    "    \"\"\"\n",
    "        \n",
    "    # Read file to extract information in each line of file\n",
    "    # Example of one line in file: Ses01F_impro01_F000 [006.2901-008.2357]: Excuse me.\n",
    "    result = {} # Dict containing the result\n",
    "    with open(file) as f:\n",
    "        for line in f:\n",
    "            parts = line.split(' ', maxsplit=2)\n",
    "            result[parts[0]] = parts[2]\n",
    "    \n",
    "    return result\n",
    "            \n",
    "    \n",
    "\n",
    "\n"
   ]
  },
  {
   "cell_type": "code",
   "execution_count": 34,
   "metadata": {},
   "outputs": [
    {
     "name": "stdout",
     "output_type": "stream",
     "text": [
      "{'Ses01F_impro01_F000': 'Excuse me.\\n',\n",
      " 'Ses01F_impro01_F001': 'Yeah.\\n',\n",
      " 'Ses01F_impro01_F002': 'Is there a problem?\\n',\n",
      " 'Ses01F_impro01_F003': 'You did.\\n',\n",
      " 'Ses01F_impro01_F004': 'You were standing at the beginning and you directed '\n",
      "                        'me.\\n',\n",
      " 'Ses01F_impro01_F005': \"Well what's the problem?  Let me change it.\\n\",\n",
      " 'Ses01F_impro01_F006': \"What?  I'm getting an ID.  This is why I'm here.  My \"\n",
      "                        'wallet was stolen.\\n',\n",
      " 'Ses01F_impro01_F007': 'How am I supposed to get an ID without an ID?  How '\n",
      "                        'does a person get an ID in the first place?\\n',\n",
      " 'Ses01F_impro01_F008': \"I'm here to get an ID.\\n\",\n",
      " 'Ses01F_impro01_F009': 'Like what?  Like a birth certificate?\\n',\n",
      " 'Ses01F_impro01_F010': 'Who the hell has a birth certificate?\\n',\n",
      " 'Ses01F_impro01_F011': \"Yes but my wallet was stolen, I don't have anything.  \"\n",
      "                        \"I don't have any credit cards, I don't have my ID.  \"\n",
      "                        \"Don't you have things on file here?\\n\",\n",
      " 'Ses01F_impro01_F012': \"That's out of control.\\n\",\n",
      " 'Ses01F_impro01_F013': 'How long have you been working here?\\n',\n",
      " 'Ses01F_impro01_F014': 'Clearly.  You know, do you have like a supervisor or '\n",
      "                        'something?\\n',\n",
      " 'Ses01F_impro01_F015': 'That would - I would appreciate that.  Yeah.\\n',\n",
      " 'Ses01F_impro01_M000': 'Do you have your forms?\\n',\n",
      " 'Ses01F_impro01_M001': 'Let me see them.\\n',\n",
      " 'Ses01F_impro01_M002': 'Who told you to get in this line?\\n',\n",
      " 'Ses01F_impro01_M003': \"Okay. But I didn't tell you to get in this line if \"\n",
      "                        'you are filling out this particular form.\\n',\n",
      " 'Ses01F_impro01_M004': 'This form is a Z.X.four.\\n',\n",
      " 'Ses01F_impro01_M005': \"You can't--  This is not the line for Z.X.four.  If \"\n",
      "                        \"you're going to fill out the Z.X.four, you need to \"\n",
      "                        'have a different form of ID.\\n',\n",
      " 'Ses01F_impro01_M006': 'No. I need another set of ID to prove this is '\n",
      "                        'actually you.\\n',\n",
      " 'Ses01F_impro01_M007': \"I don't know.  But I need an ID to pass this form \"\n",
      "                        \"along.  I can't just send it along without an ID.\\n\",\n",
      " 'Ses01F_impro01_M008': 'No.  I need another ID, a separate one.\\n',\n",
      " 'Ses01F_impro01_M009': 'A birth certificate, a passport...a student ID; '\n",
      "                        \"didn't you go to school?  Anything?\\n\",\n",
      " 'Ses01F_impro01_M010': 'Yeah.  We keep it on file, but we need an ID to '\n",
      "                        'access that file.\\n',\n",
      " 'Ses01F_impro01_M011': \"I don't understand why this is so complicated for \"\n",
      "                        \"people when they get here.  It's just a simple form.  \"\n",
      "                        'I just need an ID.\\n',\n",
      " 'Ses01F_impro01_M012': 'Actually too long.\\n',\n",
      " 'Ses01F_impro01_M013': 'Yeah.  Do you want to see my supervisor?  Huh? Yeah.  '\n",
      "                        \"Do you want to see my supervisor?  Fine.  I'll be \"\n",
      "                        'right back.\\n'}\n"
     ]
    }
   ],
   "source": [
    "result = get_transcription(PATH_FILE)\n",
    "pprint(result)"
   ]
  },
  {
   "cell_type": "code",
   "execution_count": 35,
   "metadata": {},
   "outputs": [
    {
     "ename": "TypeError",
     "evalue": "file must have 'read' and 'readline' attributes",
     "output_type": "error",
     "traceback": [
      "\u001b[1;31m---------------------------------------------------------------------------\u001b[0m",
      "\u001b[1;31mTypeError\u001b[0m                                 Traceback (most recent call last)",
      "\u001b[1;32m<ipython-input-35-d6abd2417b95>\u001b[0m in \u001b[0;36m<module>\u001b[1;34m()\u001b[0m\n\u001b[0;32m      3\u001b[0m \u001b[1;33m\u001b[0m\u001b[0m\n\u001b[0;32m      4\u001b[0m \u001b[0mPATH\u001b[0m \u001b[1;33m=\u001b[0m \u001b[1;34m\"processed-data\"\u001b[0m\u001b[1;33m\u001b[0m\u001b[0m\n\u001b[1;32m----> 5\u001b[1;33m \u001b[0ma\u001b[0m \u001b[1;33m=\u001b[0m \u001b[0mpickle\u001b[0m\u001b[1;33m.\u001b[0m\u001b[0mload\u001b[0m\u001b[1;33m(\u001b[0m\u001b[1;34m\"input_VAD.obj\"\u001b[0m\u001b[1;33m)\u001b[0m\u001b[1;33m\u001b[0m\u001b[0m\n\u001b[0m\u001b[0;32m      6\u001b[0m \u001b[0mb\u001b[0m \u001b[1;33m=\u001b[0m \u001b[0mpickle\u001b[0m\u001b[1;33m.\u001b[0m\u001b[0mload\u001b[0m\u001b[1;33m(\u001b[0m\u001b[1;34m\"output_VAD.obj\"\u001b[0m\u001b[1;33m)\u001b[0m\u001b[1;33m\u001b[0m\u001b[0m\n\u001b[0;32m      7\u001b[0m \u001b[0mc\u001b[0m \u001b[1;33m=\u001b[0m \u001b[0mpickle\u001b[0m\u001b[1;33m.\u001b[0m\u001b[0mload\u001b[0m\u001b[1;33m(\u001b[0m\u001b[1;34m\"transcript_VAD.obj\"\u001b[0m\u001b[1;33m)\u001b[0m\u001b[1;33m\u001b[0m\u001b[0m\n",
      "\u001b[1;31mTypeError\u001b[0m: file must have 'read' and 'readline' attributes"
     ]
    }
   ],
   "source": [
    "#Load file\n",
    "import pickle \n",
    "\n",
    "PATH = \"processed-data/\"\n",
    "a = pickle.load(PATH+ \"input_VAD.obj\")\n",
    "b = pickle.load(PATH+\"output_VAD.obj\")\n",
    "c = pickle.load(PATH+\"transcript_VAD.obj\")\n",
    "\n",
    "print(len(a), len(b), len(c))"
   ]
  },
  {
   "cell_type": "code",
   "execution_count": null,
   "metadata": {},
   "outputs": [],
   "source": []
  }
 ],
 "metadata": {
  "kernelspec": {
   "display_name": "Python 3",
   "language": "python",
   "name": "python3"
  },
  "language_info": {
   "codemirror_mode": {
    "name": "ipython",
    "version": 3
   },
   "file_extension": ".py",
   "mimetype": "text/x-python",
   "name": "python",
   "nbconvert_exporter": "python",
   "pygments_lexer": "ipython3",
   "version": "3.5.5"
  }
 },
 "nbformat": 4,
 "nbformat_minor": 2
}
