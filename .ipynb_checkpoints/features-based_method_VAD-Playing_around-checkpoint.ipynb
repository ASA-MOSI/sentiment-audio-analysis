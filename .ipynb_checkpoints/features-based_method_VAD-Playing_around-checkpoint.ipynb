{
 "cells": [
  {
   "cell_type": "markdown",
   "metadata": {},
   "source": [
    "**Import Libraries and Define constants**"
   ]
  },
  {
   "cell_type": "code",
   "execution_count": 2,
   "metadata": {},
   "outputs": [
    {
     "name": "stderr",
     "output_type": "stream",
     "text": [
      "WARNING (theano.configdefaults): g++ not available, if using conda: `conda install m2w64-toolchain`\n",
      "C:\\Users\\THEDE\\Miniconda3\\envs\\py36\\lib\\site-packages\\theano\\configdefaults.py:560: UserWarning: DeprecationWarning: there is no c++ compiler.This is deprecated and with Theano 0.11 a c++ compiler will be mandatory\n",
      "  warnings.warn(\"DeprecationWarning: there is no c++ compiler.\"\n",
      "WARNING (theano.configdefaults): g++ not detected ! Theano will be unable to execute optimized C-implementations (for both CPU and GPU) and will default to Python implementations. Performance will be severely degraded. To remove this warning, set Theano flags cxx to an empty string.\n",
      "WARNING (theano.configdefaults): install mkl with `conda install mkl-service`: No module named 'mkl'\n",
      "WARNING (theano.tensor.blas): Using NumPy C-API based implementation for BLAS functions.\n",
      "C:\\Users\\THEDE\\Miniconda3\\envs\\py36\\lib\\site-packages\\sklearn\\cross_validation.py:41: DeprecationWarning: This module was deprecated in version 0.18 in favor of the model_selection module into which all the refactored classes and functions are moved. Also note that the interface of the new CV iterators are different from that of this module. This module will be removed in 0.20.\n",
      "  \"This module will be removed in 0.20.\", DeprecationWarning)\n"
     ]
    }
   ],
   "source": [
    "#### Training based on features of audio\n",
    "from sklearn.model_selection import train_test_split\n",
    "from sklearn.model_selection import KFold\n",
    "from sklearn.neural_network import MLPClassifier\n",
    "from sknn.mlp import Classifier, Layer\n",
    "from sklearn.pipeline import Pipeline\n",
    "from sklearn.preprocessing import MinMaxScaler\n",
    "from sklearn.metrics import confusion_matrix\n",
    "import pickle\n",
    "import numpy as np\n",
    "import random\n",
    "from sklearn import tree\n",
    "from sklearn.ensemble import RandomForestClassifier\n",
    "from imblearn.over_sampling import SMOTE \n",
    "from sklearn.model_selection import RandomizedSearchCV\n",
    "from sklearn.ensemble import RandomForestRegressor\n",
    "from sklearn.ensemble import AdaBoostClassifier\n",
    "\n",
    "import matplotlib.pyplot as plt\n",
    "from matplotlib.pyplot import subplots_adjust\n",
    "\n"
   ]
  },
  {
   "cell_type": "code",
   "execution_count": null,
   "metadata": {},
   "outputs": [],
   "source": [
    "a = np.array([1.5,1,1,1,1.5])\n",
    "print(a)\n",
    "[ e >1 for e in a ]"
   ]
  },
  {
   "cell_type": "markdown",
   "metadata": {},
   "source": [
    "**Load data**"
   ]
  },
  {
   "cell_type": "code",
   "execution_count": 17,
   "metadata": {},
   "outputs": [
    {
     "name": "stdout",
     "output_type": "stream",
     "text": [
      "Size input, output: 10018 ,  10018\n"
     ]
    }
   ],
   "source": [
    "##Loading  data from files\n",
    "filehandlerInput = open('processed-data/input_VAD.obj', 'rb')\n",
    "filehandlerOutput = open('processed-data/output_VAD.obj', 'rb')\n",
    "input = pickle.load(filehandlerInput)\n",
    "output = pickle.load(filehandlerOutput)\n",
    "print(\"Size input, output:\", len(input),\", \", len(output))\n"
   ]
  },
  {
   "cell_type": "markdown",
   "metadata": {},
   "source": [
    "**Preprocess data and Analyze data**"
   ]
  },
  {
   "cell_type": "code",
   "execution_count": 18,
   "metadata": {},
   "outputs": [
    {
     "name": "stdout",
     "output_type": "stream",
     "text": [
      "Distinct output:  {0.5, 1.5, 2.5, 3.5, 3.0, 4.0, 2.0, 4.5, 5.0, 1.0, 2.3333, 2.6667, 4.3333, 2.25, 2.75, 3.25, 3.75, 4.75, 4.25, 5.5, 1.3333, 3.3333, 4.6667, 1.6667, 3.6667}\n",
      "Average labels: 2.7782824016769814\n",
      "Std labels: 0.8970523348000802\n",
      "\n",
      "Distinct output:  {0, 1, 2, 3, 4, 5, 6}\n",
      "Average labels: 2.7481533240167697\n",
      "Std labels: 0.9153419863285778\n"
     ]
    },
    {
     "data": {
      "image/png": "[encoded data removed]",
      "text/plain": [
       "<Figure size 360x576 with 9 Axes>"
      ]
     },
     "metadata": {},
     "output_type": "display_data"
    }
   ],
   "source": [
    "# removing_label = np.array([0.5, 1.5, 2.5, 3.5])\n",
    "# remove_condition = np.array([True for o in output if o in removing_label])\n",
    "                            \n",
    "# print(remove_condition)\n",
    "# input = input[~remove_condition]\n",
    "# output = output[~remove_condition]\n",
    "\n",
    "fig, axs = plt.subplots(3,3, figsize=(5,8))\n",
    "subplots_adjust(right = 2, wspace=0.2, hspace=0.5, bottom=0)\n",
    "\n",
    "\n",
    "## Draw distribution of raw output\n",
    "flattened_out = output.flatten()\n",
    "print(\"Distinct output: \", set(flattened_out));\n",
    "print(\"Average labels:\", np.average(output[:,0]))\n",
    "print(\"Std labels:\", np.std(output[:,0]))\n",
    "axs[0][0].hist(output[:,0])\n",
    "axs[0][0].set_title(\"Distribution Valance\")\n",
    "axs[0][1].hist(output[:,1])\n",
    "axs[0][1].set_title(\"Distribution Arouse\")\n",
    "axs[0][2].hist(output[:,2])\n",
    "axs[0][2].set_title(\"Distribution Dominance\")\n",
    "\n",
    "\n",
    "\n",
    "\n",
    "\n",
    "## Around output into integer.\n",
    "for i in range(0, output.size):\n",
    "    output.flat[i] = int(np.round(output.flat[i]))\n",
    "output = output.astype(int)\n",
    "\n",
    "flattened_out = output.flatten()\n",
    "print(\"\\nDistinct output: \", set(flattened_out));\n",
    "print(\"Average labels:\", np.average(output[:,0]))\n",
    "print(\"Std labels:\", np.std(output[:,0]))\n",
    "axs[1][0].hist(output[:,0])\n",
    "axs[1][0].set_title(\"Distribution Valance\")\n",
    "axs[1][1].hist(output[:,1])\n",
    "axs[1][1].set_title(\"Distribution Arouse\")\n",
    "axs[1][2].hist(output[:,2])\n",
    "axs[1][2].set_title(\"Distribution Dominance\")\n",
    "plt.show()\n"
   ]
  },
  {
   "cell_type": "markdown",
   "metadata": {},
   "source": [
    "**Preprocess data**"
   ]
  },
  {
   "cell_type": "code",
   "execution_count": 21,
   "metadata": {},
   "outputs": [
    {
     "name": "stdout",
     "output_type": "stream",
     "text": [
      "Size input, output after remove Nan values  10009 ,  10009\n",
      "(10009, 3)\n",
      "Normalize input and categorize output \n",
      "10009\n"
     ]
    }
   ],
   "source": [
    "from keras.utils.np_utils import to_categorical\n",
    "\n",
    "input_filtered = input[~np.any(np.isnan(input), axis=1)]\n",
    "input_filtered = input_filtered[:,0:88]\n",
    "output_filtered = output[~np.any(np.isnan(input), axis=1)]\n",
    "print(\"Size input, output after remove Nan values \", len(input_filtered), \", \", len(output_filtered))\n",
    "\n",
    "#Normalize input\n",
    "input_filtered = (input_filtered - input_filtered.min(axis=0)) / (input_filtered.max(axis=0) - input_filtered.min(axis=0))\n",
    "\n",
    "#Normalize output\n",
    "def categorize_output(output):\n",
    "    if (output <= 2.5):\n",
    "        return 0\n",
    "    elif  output >= 4:\n",
    "        return 2\n",
    "    else:\n",
    "        return 1\n",
    "\n",
    "# def categorize_output(output):\n",
    "#     return np.around(output)\n",
    "   \n",
    "print(output_filtered.shape)\n",
    "\n",
    "output_filtered = np.array([list(map(lambda x: categorize_output(x), col)) for col in output_filtered])\n",
    "#pprint(output_filtered)\n",
    "#output_filtered = [to_categorical(out, 6) for out in output_filtered]\n",
    "#output_filtered = (output_filtered - output_filtered.min(axis=0)) / (output_filtered.max(axis=0) - output_filtered.min(axis=0))\n",
    "print(\"Normalize input and categorize output \")\n",
    "print(len(output_filtered))\n",
    "\n"
   ]
  },
  {
   "cell_type": "markdown",
   "metadata": {},
   "source": [
    "**Shuffer data**"
   ]
  },
  {
   "cell_type": "code",
   "execution_count": 22,
   "metadata": {},
   "outputs": [
    {
     "name": "stdout",
     "output_type": "stream",
     "text": [
      "[[0 2 2]\n",
      " [0 2 2]\n",
      " [0 1 0]\n",
      " ...\n",
      " [1 1 1]\n",
      " [0 0 0]\n",
      " [0 0 2]]\n"
     ]
    }
   ],
   "source": [
    "#Shuffer\n",
    "c = list(zip(input_filtered, output_filtered))\n",
    "random.shuffle(c)\n",
    "input_filtered, output_filtered = zip( * c)\n",
    "input_filtered = np.array(input_filtered)\n",
    "output_filtered = np.array(output_filtered)\n",
    "print(output_filtered)"
   ]
  },
  {
   "cell_type": "markdown",
   "metadata": {},
   "source": [
    "**Split data**"
   ]
  },
  {
   "cell_type": "code",
   "execution_count": 23,
   "metadata": {},
   "outputs": [
    {
     "name": "stdout",
     "output_type": "stream",
     "text": [
      "Size training, testing set:  8007 ,  2002\n"
     ]
    }
   ],
   "source": [
    "X_train, X_test, y_train, y_test = train_test_split(input_filtered, output_filtered, test_size=0.2, random_state=300)\n",
    "print(\"Size training, testing set: \", len(X_train), \", \", len(X_test))\n",
    "\n"
   ]
  },
  {
   "cell_type": "markdown",
   "metadata": {},
   "source": [
    "**Filter only integer values**"
   ]
  },
  {
   "cell_type": "code",
   "execution_count": null,
   "metadata": {},
   "outputs": [],
   "source": [
    "def create_filter_condition_int(arr):\n",
    "    return [int(el) - el == 0 for el in arr]\n",
    "\n",
    "filter_condition_arouse_train = create_filter_condition_int(y_train[:,1])\n",
    "filter_condition_arouse_test = create_filter_condition_int(y_test[:,1])\n",
    "X_train = X_train[filter_condition_arouse_train]\n",
    "y_train = y_train[filter_condition_arouse_train]\n",
    "X_test = X_test[filter_condition_arouse_test]\n",
    "y_test = y_test[filter_condition_arouse_test]\n",
    "\n",
    "print('Size train and test after filter integer values ', len(X_train), len(X_test) )"
   ]
  },
  {
   "cell_type": "markdown",
   "metadata": {
    "collapsed": true
   },
   "source": [
    "**Training on keras**"
   ]
  },
  {
   "cell_type": "code",
   "execution_count": 10,
   "metadata": {
    "scrolled": true
   },
   "outputs": [
    {
     "name": "stdout",
     "output_type": "stream",
     "text": [
      "Train on 8007 samples, validate on 2002 samples\n",
      "Epoch 1/50\n",
      "8007/8007 [==============================] - ETA: 2:29 - loss: 1.098 - ETA: 3s - loss: 1.0953  - ETA: 1s - loss: 1.088 - ETA: 0s - loss: 1.076 - ETA: 0s - loss: 1.060 - ETA: 0s - loss: 1.037 - ETA: 0s - loss: 1.013 - 1s 133us/step - loss: 1.0090 - val_loss: 0.9012\n",
      "Epoch 2/50\n",
      "8007/8007 [==============================] - ETA: 0s - loss: 1.052 - ETA: 0s - loss: 0.868 - ETA: 0s - loss: 0.880 - ETA: 0s - loss: 0.898 - ETA: 0s - loss: 0.894 - ETA: 0s - loss: 0.894 - 0s 40us/step - loss: 0.8941 - val_loss: 0.8889\n",
      "Epoch 3/50\n",
      "8007/8007 [==============================] - ETA: 0s - loss: 0.797 - ETA: 0s - loss: 0.875 - ETA: 0s - loss: 0.873 - ETA: 0s - loss: 0.876 - ETA: 0s - loss: 0.876 - ETA: 0s - loss: 0.878 - 0s 38us/step - loss: 0.8805 - val_loss: 0.8838\n",
      "Epoch 4/50\n",
      "8007/8007 [==============================] - ETA: 0s - loss: 0.911 - ETA: 0s - loss: 0.890 - ETA: 0s - loss: 0.879 - ETA: 0s - loss: 0.875 - ETA: 0s - loss: 0.878 - ETA: 0s - loss: 0.875 - 0s 40us/step - loss: 0.8743 - val_loss: 0.8793\n",
      "Epoch 5/50\n",
      "8007/8007 [==============================] - ETA: 0s - loss: 0.833 - ETA: 0s - loss: 0.879 - ETA: 0s - loss: 0.872 - ETA: 0s - loss: 0.867 - ETA: 0s - loss: 0.863 - ETA: 0s - loss: 0.863 - 0s 41us/step - loss: 0.8685 - val_loss: 0.8850\n",
      "Epoch 6/50\n",
      "8007/8007 [==============================] - ETA: 0s - loss: 1.052 - ETA: 0s - loss: 0.898 - ETA: 0s - loss: 0.888 - ETA: 0s - loss: 0.871 - ETA: 0s - loss: 0.869 - ETA: 0s - loss: 0.871 - ETA: 0s - loss: 0.867 - 0s 44us/step - loss: 0.8662 - val_loss: 0.8799\n",
      "Epoch 7/50\n",
      "8007/8007 [==============================] - ETA: 0s - loss: 0.951 - ETA: 0s - loss: 0.890 - ETA: 0s - loss: 0.877 - ETA: 0s - loss: 0.873 - ETA: 0s - loss: 0.872 - ETA: 0s - loss: 0.865 - ETA: 0s - loss: 0.862 - 0s 46us/step - loss: 0.8663 - val_loss: 0.8749\n",
      "Epoch 8/50\n",
      "8007/8007 [==============================] - ETA: 0s - loss: 0.913 - ETA: 0s - loss: 0.856 - ETA: 0s - loss: 0.860 - ETA: 0s - loss: 0.857 - ETA: 0s - loss: 0.855 - ETA: 0s - loss: 0.861 - ETA: 0s - loss: 0.861 - 0s 43us/step - loss: 0.8621 - val_loss: 0.8754\n",
      "Epoch 9/50\n",
      "8007/8007 [==============================] - ETA: 0s - loss: 0.929 - ETA: 0s - loss: 0.877 - ETA: 0s - loss: 0.884 - ETA: 0s - loss: 0.868 - ETA: 0s - loss: 0.865 - ETA: 0s - loss: 0.860 - ETA: 0s - loss: 0.865 - ETA: 0s - loss: 0.860 - 0s 51us/step - loss: 0.8619 - val_loss: 0.8706\n",
      "Epoch 10/50\n",
      "8007/8007 [==============================] - ETA: 1s - loss: 0.815 - ETA: 0s - loss: 0.848 - ETA: 0s - loss: 0.848 - ETA: 0s - loss: 0.855 - ETA: 0s - loss: 0.855 - ETA: 0s - loss: 0.858 - ETA: 0s - loss: 0.856 - ETA: 0s - loss: 0.854 - ETA: 0s - loss: 0.856 - 0s 56us/step - loss: 0.8570 - val_loss: 0.9137\n",
      "Epoch 11/50\n",
      "8007/8007 [==============================] - ETA: 0s - loss: 0.875 - ETA: 0s - loss: 0.873 - ETA: 0s - loss: 0.872 - ETA: 0s - loss: 0.864 - ETA: 0s - loss: 0.867 - ETA: 0s - loss: 0.864 - ETA: 0s - loss: 0.865 - ETA: 0s - loss: 0.864 - 0s 54us/step - loss: 0.8642 - val_loss: 0.8706\n",
      "Epoch 12/50\n",
      "8007/8007 [==============================] - ETA: 0s - loss: 0.876 - ETA: 0s - loss: 0.853 - ETA: 0s - loss: 0.852 - ETA: 0s - loss: 0.862 - ETA: 0s - loss: 0.863 - ETA: 0s - loss: 0.862 - ETA: 0s - loss: 0.860 - 0s 42us/step - loss: 0.8597 - val_loss: 0.8745\n",
      "Epoch 13/50\n",
      "8007/8007 [==============================] - ETA: 0s - loss: 0.978 - ETA: 0s - loss: 0.845 - ETA: 0s - loss: 0.853 - ETA: 0s - loss: 0.849 - ETA: 0s - loss: 0.850 - ETA: 0s - loss: 0.855 - ETA: 0s - loss: 0.855 - 0s 44us/step - loss: 0.8558 - val_loss: 0.8652\n",
      "Epoch 14/50\n",
      "8007/8007 [==============================] - ETA: 0s - loss: 0.843 - ETA: 0s - loss: 0.812 - ETA: 0s - loss: 0.841 - ETA: 0s - loss: 0.840 - ETA: 0s - loss: 0.849 - ETA: 0s - loss: 0.857 - ETA: 0s - loss: 0.856 - 0s 47us/step - loss: 0.8562 - val_loss: 0.8633\n",
      "Epoch 15/50\n",
      "8007/8007 [==============================] - ETA: 0s - loss: 0.865 - ETA: 0s - loss: 0.853 - ETA: 0s - loss: 0.849 - ETA: 0s - loss: 0.849 - ETA: 0s - loss: 0.853 - ETA: 0s - loss: 0.849 - ETA: 0s - loss: 0.851 - ETA: 0s - loss: 0.853 - 0s 49us/step - loss: 0.8567 - val_loss: 0.8730\n",
      "Epoch 16/50\n",
      "8007/8007 [==============================] - ETA: 0s - loss: 0.780 - ETA: 0s - loss: 0.865 - ETA: 0s - loss: 0.864 - ETA: 0s - loss: 0.860 - ETA: 0s - loss: 0.859 - ETA: 0s - loss: 0.858 - 0s 41us/step - loss: 0.8578 - val_loss: 0.8629\n",
      "Epoch 17/50\n",
      "8007/8007 [==============================] - ETA: 0s - loss: 0.934 - ETA: 0s - loss: 0.887 - ETA: 0s - loss: 0.864 - ETA: 0s - loss: 0.858 - ETA: 0s - loss: 0.854 - ETA: 0s - loss: 0.847 - ETA: 0s - loss: 0.850 - 0s 44us/step - loss: 0.8535 - val_loss: 0.8693\n",
      "Epoch 18/50\n",
      "8007/8007 [==============================] - ETA: 0s - loss: 0.814 - ETA: 0s - loss: 0.877 - ETA: 0s - loss: 0.865 - ETA: 0s - loss: 0.861 - ETA: 0s - loss: 0.859 - ETA: 0s - loss: 0.854 - ETA: 0s - loss: 0.856 - 0s 43us/step - loss: 0.8559 - val_loss: 0.8671\n",
      "Epoch 19/50\n",
      "8007/8007 [==============================] - ETA: 0s - loss: 0.836 - ETA: 0s - loss: 0.860 - ETA: 0s - loss: 0.856 - ETA: 0s - loss: 0.846 - ETA: 0s - loss: 0.845 - ETA: 0s - loss: 0.844 - ETA: 0s - loss: 0.849 - 0s 42us/step - loss: 0.8492 - val_loss: 0.8661\n",
      "Epoch 20/50\n",
      "8007/8007 [==============================] - ETA: 0s - loss: 1.077 - ETA: 0s - loss: 0.872 - ETA: 0s - loss: 0.845 - ETA: 0s - loss: 0.847 - ETA: 0s - loss: 0.847 - ETA: 0s - loss: 0.845 - ETA: 0s - loss: 0.849 - 0s 42us/step - loss: 0.8508 - val_loss: 0.8656\n",
      "Epoch 21/50\n",
      "8007/8007 [==============================] - ETA: 0s - loss: 1.028 - ETA: 0s - loss: 0.839 - ETA: 0s - loss: 0.844 - ETA: 0s - loss: 0.848 - ETA: 0s - loss: 0.847 - ETA: 0s - loss: 0.852 - ETA: 0s - loss: 0.849 - 0s 43us/step - loss: 0.8500 - val_loss: 0.8780\n",
      "Epoch 22/50\n",
      "8007/8007 [==============================] - ETA: 0s - loss: 0.724 - ETA: 0s - loss: 0.857 - ETA: 0s - loss: 0.850 - ETA: 0s - loss: 0.853 - ETA: 0s - loss: 0.853 - ETA: 0s - loss: 0.853 - ETA: 0s - loss: 0.853 - 0s 44us/step - loss: 0.8504 - val_loss: 0.8743\n",
      "Epoch 23/50\n",
      "8007/8007 [==============================] - ETA: 0s - loss: 0.941 - ETA: 0s - loss: 0.845 - ETA: 0s - loss: 0.837 - ETA: 0s - loss: 0.854 - ETA: 0s - loss: 0.862 - ETA: 0s - loss: 0.856 - ETA: 0s - loss: 0.854 - 0s 43us/step - loss: 0.8536 - val_loss: 0.8704\n",
      "Epoch 24/50\n",
      "8007/8007 [==============================] - ETA: 1s - loss: 0.886 - ETA: 0s - loss: 0.860 - ETA: 0s - loss: 0.851 - ETA: 0s - loss: 0.858 - ETA: 0s - loss: 0.850 - ETA: 0s - loss: 0.847 - ETA: 0s - loss: 0.849 - 0s 41us/step - loss: 0.8491 - val_loss: 0.8701\n",
      "Epoch 25/50\n",
      "8007/8007 [==============================] - ETA: 0s - loss: 0.840 - ETA: 0s - loss: 0.872 - ETA: 0s - loss: 0.855 - ETA: 0s - loss: 0.846 - ETA: 0s - loss: 0.851 - ETA: 0s - loss: 0.848 - 0s 39us/step - loss: 0.8477 - val_loss: 0.8967\n",
      "Epoch 26/50\n",
      "8007/8007 [==============================] - ETA: 0s - loss: 0.869 - ETA: 0s - loss: 0.843 - ETA: 0s - loss: 0.833 - ETA: 0s - loss: 0.847 - ETA: 0s - loss: 0.849 - ETA: 0s - loss: 0.849 - ETA: 0s - loss: 0.849 - 0s 43us/step - loss: 0.8487 - val_loss: 0.8618\n",
      "Epoch 27/50\n",
      "8007/8007 [==============================] - ETA: 0s - loss: 0.836 - ETA: 0s - loss: 0.845 - ETA: 0s - loss: 0.841 - ETA: 0s - loss: 0.838 - ETA: 0s - loss: 0.841 - ETA: 0s - loss: 0.845 - 0s 40us/step - loss: 0.8460 - val_loss: 0.8582\n",
      "Epoch 28/50\n",
      "8007/8007 [==============================] - ETA: 0s - loss: 0.812 - ETA: 0s - loss: 0.858 - ETA: 0s - loss: 0.852 - ETA: 0s - loss: 0.857 - ETA: 0s - loss: 0.854 - ETA: 0s - loss: 0.851 - ETA: 0s - loss: 0.847 - 0s 43us/step - loss: 0.8473 - val_loss: 0.8602\n",
      "Epoch 29/50\n",
      "8007/8007 [==============================] - ETA: 1s - loss: 0.707 - ETA: 0s - loss: 0.840 - ETA: 0s - loss: 0.856 - ETA: 0s - loss: 0.845 - ETA: 0s - loss: 0.839 - ETA: 0s - loss: 0.843 - ETA: 0s - loss: 0.843 - 0s 44us/step - loss: 0.8441 - val_loss: 0.8686\n",
      "Epoch 30/50\n",
      "8007/8007 [==============================] - ETA: 0s - loss: 1.059 - ETA: 0s - loss: 0.872 - ETA: 0s - loss: 0.854 - ETA: 0s - loss: 0.846 - ETA: 0s - loss: 0.842 - ETA: 0s - loss: 0.847 - ETA: 0s - loss: 0.846 - 0s 45us/step - loss: 0.8490 - val_loss: 0.8571\n",
      "Epoch 31/50\n"
     ]
    },
    {
     "name": "stdout",
     "output_type": "stream",
     "text": [
      "8007/8007 [==============================] - ETA: 0s - loss: 0.680 - ETA: 0s - loss: 0.848 - ETA: 0s - loss: 0.840 - ETA: 0s - loss: 0.850 - ETA: 0s - loss: 0.842 - ETA: 0s - loss: 0.842 - 0s 37us/step - loss: 0.8438 - val_loss: 0.8774\n",
      "Epoch 32/50\n",
      "8007/8007 [==============================] - ETA: 0s - loss: 0.892 - ETA: 0s - loss: 0.843 - ETA: 0s - loss: 0.841 - ETA: 0s - loss: 0.840 - ETA: 0s - loss: 0.841 - ETA: 0s - loss: 0.841 - 0s 39us/step - loss: 0.8428 - val_loss: 0.8575\n",
      "Epoch 33/50\n",
      "8007/8007 [==============================] - ETA: 0s - loss: 0.863 - ETA: 0s - loss: 0.849 - ETA: 0s - loss: 0.845 - ETA: 0s - loss: 0.846 - ETA: 0s - loss: 0.844 - ETA: 0s - loss: 0.840 - ETA: 0s - loss: 0.840 - ETA: 0s - loss: 0.841 - 0s 52us/step - loss: 0.8430 - val_loss: 0.8605\n",
      "Epoch 34/50\n",
      "8007/8007 [==============================] - ETA: 0s - loss: 0.902 - ETA: 0s - loss: 0.832 - ETA: 0s - loss: 0.849 - ETA: 0s - loss: 0.840 - ETA: 0s - loss: 0.844 - ETA: 0s - loss: 0.839 - ETA: 0s - loss: 0.838 - ETA: 0s - loss: 0.843 - 0s 48us/step - loss: 0.8430 - val_loss: 0.8592\n",
      "Epoch 35/50\n",
      "8007/8007 [==============================] - ETA: 0s - loss: 0.677 - ETA: 0s - loss: 0.848 - ETA: 0s - loss: 0.840 - ETA: 0s - loss: 0.840 - ETA: 0s - loss: 0.838 - ETA: 0s - loss: 0.844 - ETA: 0s - loss: 0.845 - ETA: 0s - loss: 0.844 - 0s 49us/step - loss: 0.8443 - val_loss: 0.8604\n",
      "Epoch 36/50\n",
      "8007/8007 [==============================] - ETA: 0s - loss: 0.763 - ETA: 0s - loss: 0.840 - ETA: 0s - loss: 0.828 - ETA: 0s - loss: 0.835 - ETA: 0s - loss: 0.833 - ETA: 0s - loss: 0.840 - ETA: 0s - loss: 0.839 - 0s 44us/step - loss: 0.8385 - val_loss: 0.8661\n",
      "Epoch 37/50\n",
      "8007/8007 [==============================] - ETA: 0s - loss: 0.851 - ETA: 0s - loss: 0.843 - ETA: 0s - loss: 0.832 - ETA: 0s - loss: 0.835 - ETA: 0s - loss: 0.835 - ETA: 0s - loss: 0.838 - ETA: 0s - loss: 0.839 - 0s 47us/step - loss: 0.8408 - val_loss: 0.8624\n",
      "Epoch 38/50\n",
      "8007/8007 [==============================] - ETA: 0s - loss: 0.918 - ETA: 0s - loss: 0.833 - ETA: 0s - loss: 0.844 - ETA: 0s - loss: 0.833 - ETA: 0s - loss: 0.831 - ETA: 0s - loss: 0.840 - ETA: 0s - loss: 0.839 - 0s 47us/step - loss: 0.8400 - val_loss: 0.8569\n",
      "Epoch 39/50\n",
      "8007/8007 [==============================] - ETA: 0s - loss: 0.850 - ETA: 0s - loss: 0.880 - ETA: 0s - loss: 0.851 - ETA: 0s - loss: 0.852 - ETA: 0s - loss: 0.844 - ETA: 0s - loss: 0.844 - ETA: 0s - loss: 0.837 - 0s 46us/step - loss: 0.8367 - val_loss: 0.8581\n",
      "Epoch 40/50\n",
      "8007/8007 [==============================] - ETA: 0s - loss: 0.975 - ETA: 0s - loss: 0.860 - ETA: 0s - loss: 0.844 - ETA: 0s - loss: 0.835 - ETA: 0s - loss: 0.836 - ETA: 0s - loss: 0.835 - ETA: 0s - loss: 0.834 - 0s 47us/step - loss: 0.8360 - val_loss: 0.8623\n",
      "Epoch 41/50\n",
      "8007/8007 [==============================] - ETA: 0s - loss: 0.740 - ETA: 0s - loss: 0.841 - ETA: 0s - loss: 0.831 - ETA: 0s - loss: 0.827 - ETA: 0s - loss: 0.826 - ETA: 0s - loss: 0.830 - ETA: 0s - loss: 0.833 - 0s 43us/step - loss: 0.8345 - val_loss: 0.8572\n",
      "Epoch 42/50\n",
      "8007/8007 [==============================] - ETA: 0s - loss: 0.998 - ETA: 0s - loss: 0.796 - ETA: 0s - loss: 0.827 - ETA: 0s - loss: 0.818 - ETA: 0s - loss: 0.827 - ETA: 0s - loss: 0.831 - ETA: 0s - loss: 0.838 - 0s 44us/step - loss: 0.8395 - val_loss: 0.8600\n",
      "Epoch 43/50\n",
      "8007/8007 [==============================] - ETA: 0s - loss: 0.975 - ETA: 0s - loss: 0.818 - ETA: 0s - loss: 0.821 - ETA: 0s - loss: 0.832 - ETA: 0s - loss: 0.829 - ETA: 0s - loss: 0.826 - ETA: 0s - loss: 0.828 - ETA: 0s - loss: 0.831 - ETA: 0s - loss: 0.833 - 0s 60us/step - loss: 0.8346 - val_loss: 0.8580\n",
      "Epoch 44/50\n",
      "8007/8007 [==============================] - ETA: 1s - loss: 0.718 - ETA: 0s - loss: 0.829 - ETA: 0s - loss: 0.827 - ETA: 0s - loss: 0.838 - ETA: 0s - loss: 0.833 - ETA: 0s - loss: 0.831 - ETA: 0s - loss: 0.836 - ETA: 0s - loss: 0.836 - 0s 51us/step - loss: 0.8368 - val_loss: 0.8554\n",
      "Epoch 45/50\n",
      "8007/8007 [==============================] - ETA: 0s - loss: 0.701 - ETA: 0s - loss: 0.832 - ETA: 0s - loss: 0.816 - ETA: 0s - loss: 0.815 - ETA: 0s - loss: 0.822 - ETA: 0s - loss: 0.829 - ETA: 0s - loss: 0.833 - ETA: 0s - loss: 0.834 - 0s 52us/step - loss: 0.8336 - val_loss: 0.8597\n",
      "Epoch 46/50\n",
      "8007/8007 [==============================] - ETA: 0s - loss: 0.861 - ETA: 0s - loss: 0.846 - ETA: 0s - loss: 0.829 - ETA: 0s - loss: 0.847 - ETA: 0s - loss: 0.844 - ETA: 0s - loss: 0.842 - ETA: 0s - loss: 0.836 - 0s 45us/step - loss: 0.8358 - val_loss: 0.8735\n",
      "Epoch 47/50\n",
      "8007/8007 [==============================] - ETA: 0s - loss: 0.763 - ETA: 0s - loss: 0.843 - ETA: 0s - loss: 0.831 - ETA: 0s - loss: 0.825 - ETA: 0s - loss: 0.830 - ETA: 0s - loss: 0.827 - ETA: 0s - loss: 0.832 - 0s 43us/step - loss: 0.8345 - val_loss: 0.8618\n",
      "Epoch 48/50\n",
      "8007/8007 [==============================] - ETA: 0s - loss: 0.686 - ETA: 0s - loss: 0.816 - ETA: 0s - loss: 0.817 - ETA: 0s - loss: 0.826 - ETA: 0s - loss: 0.830 - ETA: 0s - loss: 0.829 - ETA: 0s - loss: 0.832 - 0s 45us/step - loss: 0.8319 - val_loss: 0.8550\n",
      "Epoch 49/50\n",
      "8007/8007 [==============================] - ETA: 0s - loss: 0.847 - ETA: 0s - loss: 0.834 - ETA: 0s - loss: 0.847 - ETA: 0s - loss: 0.842 - ETA: 0s - loss: 0.832 - ETA: 0s - loss: 0.834 - 0s 40us/step - loss: 0.8343 - val_loss: 0.8571\n",
      "Epoch 50/50\n",
      "8007/8007 [==============================] - ETA: 0s - loss: 0.788 - ETA: 0s - loss: 0.833 - ETA: 0s - loss: 0.831 - ETA: 0s - loss: 0.829 - ETA: 0s - loss: 0.827 - ETA: 0s - loss: 0.826 - ETA: 0s - loss: 0.831 - 0s 42us/step - loss: 0.8301 - val_loss: 0.8715\n"
     ]
    }
   ],
   "source": [
    "from keras.utils.np_utils import to_categorical\n",
    "from keras.models import Sequential\n",
    "from keras.layers import Dense, Activation\n",
    "from keras import backend as K\n",
    "import tensorflow as tf\n",
    "\n",
    "with tf.device('/device:CPU:0'):\n",
    "#     model = Sequential([\n",
    "#         Dense(64, input_shape=(20,), kernel_initializer='normal'),\n",
    "#        Activation('relu'),\n",
    "#         Dense(32, kernel_initializer='normal'),\n",
    "#         Activation('relu'),\n",
    "#         Dense(16,kernel_initializer='normal'),\n",
    "#         Activation('relu'),\n",
    "#         Dense(8, kernel_initializer='normal'),\n",
    "#         Activation('relu'),\n",
    "#         Dense(1,kernel_initializer='normal'),\n",
    "#     ])\n",
    "#     model.compile(loss='mean_squared_error', optimizer='adam')\n",
    "#     model.fit(X_train, y_train[:,0], validation_data=(X_test, y_test[:,0]), epochs = 20)\n",
    "    #model.fit(X_train[0:2], y_train[0:2,0], validation_data=(X_test[0:2], y_test[0:2,0]), epochs = 1000)\n",
    "\n",
    "        \n",
    "    \n",
    "    \n",
    "\n",
    "    model1 = Sequential([\n",
    "        Dense(64, input_shape=(88,), kernel_initializer='normal'),\n",
    "        Activation('relu'),\n",
    "        Dense(32, kernel_initializer='normal'),\n",
    "        Activation('relu'),\n",
    "        Dense(16,kernel_initializer='normal'),\n",
    "        Activation('relu'),\n",
    "        Dense(8, kernel_initializer='normal'),\n",
    "        Activation('relu'),\n",
    "        Dense(3),\n",
    "        Activation('softmax'),\n",
    "\n",
    "    ])\n",
    "    model1.compile(loss='categorical_crossentropy', optimizer='adam')\n",
    "    \n",
    "    model1.fit(X_train, y_train[:,1], validation_data=(X_test, y_test[:,1]), epochs = 50)\n",
    "\n",
    "\n",
    "#     model2 = Sequential([\n",
    "#         Dense(64, input_shape=(20,), kernel_initializer='normal'),\n",
    "#         Activation('relu'),\n",
    "#         Dense(32, kernel_initializer='normal'),\n",
    "#         Activation('relu'),\n",
    "#         Dense(16,kernel_initializer='normal'),\n",
    "#         Activation('relu'),\n",
    "#         Dense(8, kernel_initializer='normal'),\n",
    "#         Activation('relu'),\n",
    "#         Dense(1),\n",
    "#     ])\n",
    "#     model2.compile(loss='mean_squared_error', optimizer='adam')\n",
    "#     model2.fit(X_train, y_train[:,2], validation_data=(X_test, y_test[:,2]), epochs = 20)\n",
    "\n"
   ]
  },
  {
   "cell_type": "markdown",
   "metadata": {},
   "source": [
    "**Ordinal logistic regression**"
   ]
  },
  {
   "cell_type": "code",
   "execution_count": 24,
   "metadata": {},
   "outputs": [
    {
     "ename": "ValueError",
     "evalue": "y_true and y_pred have different number of output (3!=1)",
     "output_type": "error",
     "traceback": [
      "\u001b[1;31m---------------------------------------------------------------------------\u001b[0m",
      "\u001b[1;31mValueError\u001b[0m                                Traceback (most recent call last)",
      "\u001b[1;32m<ipython-input-24-eb7345672dfa>\u001b[0m in \u001b[0;36m<module>\u001b[1;34m()\u001b[0m\n\u001b[0;32m     14\u001b[0m \u001b[0mclf2\u001b[0m\u001b[1;33m.\u001b[0m\u001b[0mfit\u001b[0m\u001b[1;33m(\u001b[0m\u001b[0mX_train\u001b[0m\u001b[1;33m,\u001b[0m \u001b[0my_train_AT\u001b[0m\u001b[1;33m[\u001b[0m\u001b[1;33m:\u001b[0m\u001b[1;33m,\u001b[0m\u001b[1;36m1\u001b[0m\u001b[1;33m]\u001b[0m \u001b[1;33m)\u001b[0m\u001b[1;33m\u001b[0m\u001b[0m\n\u001b[0;32m     15\u001b[0m \u001b[1;33m\u001b[0m\u001b[0m\n\u001b[1;32m---> 16\u001b[1;33m \u001b[0mprint\u001b[0m\u001b[1;33m(\u001b[0m\u001b[0mmetrics\u001b[0m\u001b[1;33m.\u001b[0m\u001b[0mmean_absolute_error\u001b[0m\u001b[1;33m(\u001b[0m\u001b[0mmodel1\u001b[0m\u001b[1;33m.\u001b[0m\u001b[0mpredict\u001b[0m\u001b[1;33m(\u001b[0m\u001b[0mX_test\u001b[0m\u001b[1;33m)\u001b[0m\u001b[1;33m,\u001b[0m \u001b[0my_test_AT\u001b[0m\u001b[1;33m[\u001b[0m\u001b[1;33m:\u001b[0m\u001b[1;33m,\u001b[0m\u001b[1;36m1\u001b[0m\u001b[1;33m]\u001b[0m\u001b[1;33m)\u001b[0m\u001b[1;33m)\u001b[0m\u001b[1;33m\u001b[0m\u001b[0m\n\u001b[0m\u001b[0;32m     17\u001b[0m \u001b[0mprint\u001b[0m\u001b[1;33m(\u001b[0m\u001b[1;34m'Mean Absolute Error of LogisticAT %s'\u001b[0m \u001b[1;33m%\u001b[0m \u001b[0mmetrics\u001b[0m\u001b[1;33m.\u001b[0m\u001b[0mmean_absolute_error\u001b[0m\u001b[1;33m(\u001b[0m\u001b[0mclf2\u001b[0m\u001b[1;33m.\u001b[0m\u001b[0mpredict\u001b[0m\u001b[1;33m(\u001b[0m\u001b[0mX_test\u001b[0m\u001b[1;33m)\u001b[0m\u001b[1;33m,\u001b[0m \u001b[0my_test_AT\u001b[0m\u001b[1;33m[\u001b[0m\u001b[1;33m:\u001b[0m\u001b[1;33m,\u001b[0m\u001b[1;36m1\u001b[0m\u001b[1;33m]\u001b[0m\u001b[1;33m)\u001b[0m\u001b[1;33m)\u001b[0m\u001b[1;33m\u001b[0m\u001b[0m\n\u001b[0;32m     18\u001b[0m \u001b[1;33m\u001b[0m\u001b[0m\n",
      "\u001b[1;32m~\\Miniconda3\\envs\\py36\\lib\\site-packages\\sklearn\\metrics\\regression.py\u001b[0m in \u001b[0;36mmean_absolute_error\u001b[1;34m(y_true, y_pred, sample_weight, multioutput)\u001b[0m\n\u001b[0;32m    168\u001b[0m     \"\"\"\n\u001b[0;32m    169\u001b[0m     y_type, y_true, y_pred, multioutput = _check_reg_targets(\n\u001b[1;32m--> 170\u001b[1;33m         y_true, y_pred, multioutput)\n\u001b[0m\u001b[0;32m    171\u001b[0m     output_errors = np.average(np.abs(y_pred - y_true),\n\u001b[0;32m    172\u001b[0m                                weights=sample_weight, axis=0)\n",
      "\u001b[1;32m~\\Miniconda3\\envs\\py36\\lib\\site-packages\\sklearn\\metrics\\regression.py\u001b[0m in \u001b[0;36m_check_reg_targets\u001b[1;34m(y_true, y_pred, multioutput)\u001b[0m\n\u001b[0;32m     85\u001b[0m     \u001b[1;32mif\u001b[0m \u001b[0my_true\u001b[0m\u001b[1;33m.\u001b[0m\u001b[0mshape\u001b[0m\u001b[1;33m[\u001b[0m\u001b[1;36m1\u001b[0m\u001b[1;33m]\u001b[0m \u001b[1;33m!=\u001b[0m \u001b[0my_pred\u001b[0m\u001b[1;33m.\u001b[0m\u001b[0mshape\u001b[0m\u001b[1;33m[\u001b[0m\u001b[1;36m1\u001b[0m\u001b[1;33m]\u001b[0m\u001b[1;33m:\u001b[0m\u001b[1;33m\u001b[0m\u001b[0m\n\u001b[0;32m     86\u001b[0m         raise ValueError(\"y_true and y_pred have different number of output \"\n\u001b[1;32m---> 87\u001b[1;33m                          \"({0}!={1})\".format(y_true.shape[1], y_pred.shape[1]))\n\u001b[0m\u001b[0;32m     88\u001b[0m \u001b[1;33m\u001b[0m\u001b[0m\n\u001b[0;32m     89\u001b[0m     \u001b[0mn_outputs\u001b[0m \u001b[1;33m=\u001b[0m \u001b[0my_true\u001b[0m\u001b[1;33m.\u001b[0m\u001b[0mshape\u001b[0m\u001b[1;33m[\u001b[0m\u001b[1;36m1\u001b[0m\u001b[1;33m]\u001b[0m\u001b[1;33m\u001b[0m\u001b[0m\n",
      "\u001b[1;31mValueError\u001b[0m: y_true and y_pred have different number of output (3!=1)"
     ]
    }
   ],
   "source": [
    "import mord\n",
    "from sklearn import linear_model, metrics, preprocessing\n",
    "\n",
    "clf2 = mord.LogisticAT(alpha=1)\n",
    "#clf2 = mord.LogisticIT(alpha=1)\n",
    "#clf2 = mord.LAD()\n",
    "#clf2 = mord.OrdinalRidge()\n",
    "#clf2 = mord.MulticlassLogistic()\n",
    "\n",
    "y_train_AT = y_train \n",
    "y_train_AT = y_train_AT.astype(int)\n",
    "y_test_AT = y_test.astype(int)\n",
    "\n",
    "clf2.fit(X_train, y_train_AT[:,1] )\n",
    "\n",
    "print(metrics.mean_absolute_error(model1.predict(X_test), y_test_AT[:,1]))\n",
    "print('Mean Absolute Error of LogisticAT %s' % metrics.mean_absolute_error(clf2.predict(X_test), y_test_AT[:,1]))\n",
    "\n",
    "print(clf2.predict(X_test)[0:3])\n",
    "#print(clf2.predict_proba(X_test)[0:3])\n"
   ]
  },
  {
   "cell_type": "markdown",
   "metadata": {},
   "source": [
    "**Coefficient of Determination**"
   ]
  },
  {
   "cell_type": "code",
   "execution_count": null,
   "metadata": {
    "scrolled": true
   },
   "outputs": [],
   "source": [
    "from sklearn.metrics import r2_score\n",
    "\n",
    "#predict = model.predict(X_test)\n",
    "predict1 = model1.predict(X_test)\n",
    "#predict2 = model2.predict(X_test)\n",
    "\n",
    "# a = r2_score(y_test[:,0], predict)\n",
    "# print(\"The R2 for Valance: \" ,a)\n",
    "\n",
    "a1 = r2_score(y_test[:,1], predict1)\n",
    "print(\"The R2 for Activation: \" ,a1)\n",
    "\n",
    "# a2 = r2_score(y_test[:,2], predict2)\n",
    "# print(\"The R2 for Dominance: \" ,a2)\n"
   ]
  },
  {
   "cell_type": "markdown",
   "metadata": {},
   "source": []
  },
  {
   "cell_type": "markdown",
   "metadata": {},
   "source": [
    "**Distribution of err**"
   ]
  },
  {
   "cell_type": "code",
   "execution_count": null,
   "metadata": {},
   "outputs": [],
   "source": [
    "import numpy as np\n",
    "import matplotlib.pyplot as plt\n",
    "\n",
    "bins = np.linspace(0, 1, 10)\n",
    "data = np.abs(predict1 - y_test[:,1])\n",
    "print(len(data))\n",
    "hist, bin_edges = np.histogram(data,bins) # make the histogram\n",
    "print(hist)\n",
    "\n",
    "fig,ax = plt.subplots()\n",
    "\n",
    "# Plot the histogram heights against integers on the x axis\n",
    "ax.bar(range(len(hist)),hist,width=1) \n",
    "\n",
    "# # Set the ticks to the middle of the bars\n",
    "# ax.set_xticks([0.5+i for i,j in enumerate(hist)])\n",
    "\n",
    "# # # Set the xticklabels to a string that tells us what the bin edges were\n",
    "# # ax.set_xticklabels(['{} - {}'.format(bins[i],bins[i+1]) for i,j in enumerate(hist)])\n",
    "\n",
    "plt.show()\n",
    "\n",
    "\n",
    "#predict = model.predict(X_test)\n",
    "\n",
    "#plt.hist(subs, bins =bins)"
   ]
  },
  {
   "cell_type": "markdown",
   "metadata": {},
   "source": [
    "**Standard residual plot**"
   ]
  },
  {
   "cell_type": "code",
   "execution_count": null,
   "metadata": {},
   "outputs": [],
   "source": [
    "import seaborn as sns\n",
    "from matplotlib.pyplot import subplots_adjust\n",
    "sns.set(style=\"whitegrid\")\n",
    "\n",
    "fig, axs = plt.subplots(1,3)\n",
    "subplots_adjust(right = 2, wspace=0.2)\n",
    "predict = model.predict(X_test)\n",
    "predict = np.array([p[0] for p in predict])\n",
    "axs[0] = sns.residplot(y_test[:,0], predict, lowess=True, color=\"g\", ax=axs[0])\n",
    "axs[0].set_ylim([-0.4,0.4])\n",
    "axs[0].set_title(\"Residual for Valance\") \n",
    "\n",
    "\n",
    "predict1 = model1.predict(X_test)\n",
    "predict1 = np.array([p[0] for p in predict1])\n",
    "axs[1] = sns.residplot(y_test[:,1], predict1, lowess=True, color=\"r\", ax=axs[1])\n",
    "axs[1].set_ylim([-0.4,0.4])\n",
    "axs[1].set_title(\"Residual for Activation\")\n",
    "\n",
    "predict2 = model2.predict(X_test)\n",
    "predict2 = np.array([p[0] for p in predict2])\n",
    "axs[2] = sns.residplot(y_test[:,2], predict2, lowess=True, color=\"b\", ax=axs[2])\n",
    "axs[2].set_ylim([-0.5,0.5])\n",
    "axs[2].set_title(\"Residual for Dominance\")\n",
    "\n",
    "\n",
    "plt.show()\n",
    "plt.close()\n"
   ]
  },
  {
   "cell_type": "markdown",
   "metadata": {},
   "source": [
    "The residual plot show that the error followed random pattern. If the residual plot is not enough random, then the model would be likely to lose something. "
   ]
  },
  {
   "cell_type": "markdown",
   "metadata": {},
   "source": [
    "**Playing around with prediction**"
   ]
  },
  {
   "cell_type": "code",
   "execution_count": null,
   "metadata": {},
   "outputs": [],
   "source": [
    "\n",
    "predict = model.predict(X_test)\n",
    "#print(predict)\n",
    "\n",
    "subs = np.abs(predict - y_test[:,0])\n",
    "\n",
    "\n",
    "fig, axs = plt.subplots(1,3)\n",
    "subplots_adjust(right = 2, wspace=0.2)\n",
    "axs[0].hist(y_train[:,0])\n",
    "axs[0].set_title(\"True value in train data\\n\" + \n",
    "                 \"avg:\" + str(np.average(y_train[:,0])) + \n",
    "                 \"\\nstd:\" + str(np.std(y_train[:,0])))\n",
    "axs[1].hist(y_test[:,0])\n",
    "axs[1].set_title(\"True value in test data\\n\" + \n",
    "                 \"avg:\" + str(np.average(y_test[:,0])) + \n",
    "                 \"\\nstd:\" + str(np.std(y_test[:,0])))\n",
    "axs[1].set_ylim([0,400])\n",
    "                        \n",
    "axs[2].hist(predict) \n",
    "axs[2].set_title(\"Prediction\\n\" +\n",
    "                \"avg:\" + str(np.average(predict)) + \n",
    "                 \"\\nstd:\" + str(np.std(predict)))\n",
    "                \n",
    "# axs[2].hist(subs, bins='auto')\n",
    "# axs[2].set_title(\"error on predictions\")\n",
    "\n",
    "plt.show()\n",
    "plt.close()\n"
   ]
  },
  {
   "cell_type": "code",
   "execution_count": null,
   "metadata": {},
   "outputs": [],
   "source": [
    "import numpy as np\n",
    "import scipy as sp\n",
    "import scipy.stats\n",
    "\n",
    "def mean_confidence_interval(data, confidence=0.99):\n",
    "    a = 1.0*np.array(data)\n",
    "    n = len(a)\n",
    "    m, se = np.mean(a), scipy.stats.sem(a)\n",
    "    h = se * sp.stats.t._ppf((1+confidence)/2., n-1)\n",
    "    return m, m-h, m+h\n",
    "\n",
    "predict = model1.predict(X_test)\n",
    "bins = np.linspace(0, 1, 6)\n",
    "bin_ranges = [bins[i-1: i+1] for i in range (1,len(bins))]\n",
    "bin_ranges =  np.array(bin_ranges)\n",
    "\n",
    "# y = y_test[:,1]\n",
    "# subs = np.abs(y-predict)\n",
    "# print(\"ave, std, per90:\", np.average(subs), \", \", np.std(subs), \",\", np.percentile(subs, 60))\n",
    "    \n",
    "for r in bin_ranges:\n",
    "    # Get valance\n",
    "    y = y_test[:,1]\n",
    "    condition1 = [r[0] <= e <= r[1]for e in y]\n",
    "    \n",
    "    predict = predict.flatten()\n",
    "    condition2 = [r[0] <= e <= r[1]for e in predict]\n",
    "    \n",
    "    y = y[condition1 or condition2]\n",
    "    pre = predict[condition1 or condition2]\n",
    "    #pre= pre.flatten()\n",
    "    #print(pre)\n",
    "    subs = np.abs(y-pre)\n",
    "   # print(subs)\n",
    "    try:\n",
    "        #print(subs)\n",
    "        print(\"\\nIn range \" , r, \n",
    "              \"\\nNum samples: \", len(subs),\n",
    "              \"\\nAverage err: \", np.average(subs), \n",
    "              \"\\nStd err: \", np.std(subs),\n",
    "              \"\\nMedian err: \", np.median(subs), \n",
    "             \"\\nPercentile: \", np.percentile(subs, 90),\n",
    "              \"\\nConfident Interval: \", mean_confidence_interval(subs)\n",
    "             )\n",
    "    except:\n",
    "        print(\"null array\")\n",
    "\n",
    "    "
   ]
  },
  {
   "cell_type": "code",
   "execution_count": null,
   "metadata": {},
   "outputs": [],
   "source": [
    "import numpy as np\n",
    "import scipy as sp\n",
    "import scipy.stats\n",
    "\n",
    "def mean_confidence_interval(data, confidence=0.99):\n",
    "    a = 1.0*np.array(data)\n",
    "    n = len(a)\n",
    "    m, se = np.mean(a), scipy.stats.sem(a)\n",
    "    h = se * sp.stats.t._ppf((1+confidence)/2., n-1)\n",
    "    return m, m-h, m+h\n",
    "\n",
    "predict = clf2.predict(X_test)\n",
    "bins = np.linspace(0, 6, 7)\n",
    "bin_ranges = [bins[i-1: i+1] for i in range (1,len(bins))]\n",
    "bin_ranges =  np.array(bin_ranges)\n",
    "\n",
    "\n",
    "for r in bin_ranges:\n",
    "    # Get valance\n",
    "    y = y_test[:,1]\n",
    "    condition1 = [r[0] <= e <= r[1]for e in y]\n",
    "    \n",
    "    predict = predict.flatten()\n",
    "    condition2 = [r[0] <= e <= r[1]for e in predict]\n",
    "    \n",
    "    y = y[condition1 or condition2]\n",
    "    pre = predict[condition1 or condition2]\n",
    "    #pre= pre.flatten()\n",
    "    print(pre)\n",
    "    subs = np.abs(y-pre)\n",
    "   # print(subs)\n",
    "    try:\n",
    "        print(subs)\n",
    "        print(\"\\nIn range \" , r, \n",
    "              \"\\nNum samples: \", len(subs),\n",
    "              \"\\nAverage err: \", np.average(subs), \n",
    "              \"\\nStd err: \", np.std(subs),\n",
    "              \"\\nMedian err: \", np.median(subs), \n",
    "             \"\\nPercentile: \", np.percentile(subs, 95),\n",
    "              \"\\nConfident Interval: \", mean_confidence_interval(subs)\n",
    "             )\n",
    "    except:\n",
    "        print(\"null array\")\n",
    "\n",
    "    "
   ]
  },
  {
   "cell_type": "code",
   "execution_count": null,
   "metadata": {},
   "outputs": [],
   "source": [
    "from sklearn.model_selection import cross_val_predict\n",
    "from sklearn import linear_model\n",
    "import matplotlib.pyplot as plt\n",
    "\n",
    "\n",
    "predict = model.predict(X_test)\n",
    "predict = np.array([p[0] for p in predict])\n",
    "\n",
    "predict1 = model1.predict(X_test)\n",
    "predict1 = np.array([p[0] for p in predict1])\n",
    "\n",
    "predict2 = model2.predict(X_test)\n",
    "predict2 = np.array([p[0] for p in predict2])\n",
    "\n",
    "fig, ax = plt.subplots()\n",
    "ax.scatter(y_test[:,1], predict1, edgecolors=(0, 0, 0))\n",
    "#ax.plot([y.min(), y.max()], [y.min(), y.max()], 'k--', lw=4)\n",
    "ax.set_xlabel('Actual')\n",
    "ax.set_ylabel('Predicted')\n",
    "\n",
    "# ax[1].scatter(y_test[:,1], predict, edgecolors=(0, 0, 0))\n",
    "# ax[1].plot([y.min(), y.max()], [y.min(), y.max()], 'k--', lw=4)\n",
    "# ax[1].set_xlabel('Actual')\n",
    "# ax[1].set_ylabel('Predicted')\n",
    "\n",
    "# ax[2].scatter(y_test[:,2], predict, edgecolors=(0, 0, 0))\n",
    "# ax[2].plot([y.min(), y.max()], [y.min(), y.max()], 'k--', lw=4)\n",
    "# ax[2].set_xlabel('Actual')\n",
    "# ax[2].set_ylabel('Predicted')\n",
    "\n",
    "plt.show()"
   ]
  },
  {
   "cell_type": "markdown",
   "metadata": {},
   "source": [
    "**Playing around **"
   ]
  },
  {
   "cell_type": "code",
   "execution_count": null,
   "metadata": {},
   "outputs": [],
   "source": [
    "from functools import reduce\n",
    "predict = model2.predict(X_test)\n",
    "\n",
    "def reducer(acc, val):\n",
    "    if (val > 0.5):\n",
    "        acc = acc + 1\n",
    "    return acc\n",
    "\n",
    "num = reduce(lambda acc,val: acc+1 if val >1 else acc, predict.flatten(), 0) \n",
    "print(num)"
   ]
  },
  {
   "cell_type": "markdown",
   "metadata": {},
   "source": [
    "**Confidence in interval for Arouse**"
   ]
  },
  {
   "cell_type": "code",
   "execution_count": 28,
   "metadata": {},
   "outputs": [
    {
     "name": "stdout",
     "output_type": "stream",
     "text": [
      "[1 1 2 ... 2 1 0]\n",
      "Confusion matrix: \n",
      " [[335 252  40]\n",
      " [105 349 151]\n",
      " [ 29 269 472]]\n",
      "Num samples: 1232\n",
      "Accurcy in range:  [0. 1.] :  0.5547445255474452\n",
      "Num samples: 1375\n",
      "Accurcy in range:  [1. 2.] :  0.596656976744186\n",
      "Num samples: 770\n",
      "Accurcy in range:  [2. 3.] :  0.6121919584954605\n",
      "Num samples: 0\n",
      "Accurcy in range:  [3. 4.] :  0.0\n",
      "Num samples: 0\n",
      "Accurcy in range:  [4. 5.] :  0.0\n",
      "{0, 1, 2}\n",
      "2002\n"
     ]
    },
    {
     "data": {
      "image/png": "[encoded data removed]",
      "text/plain": [
       "<Figure size 432x288 with 3 Axes>"
      ]
     },
     "metadata": {},
     "output_type": "display_data"
    }
   ],
   "source": [
    "predict = clf2.predict(X_test)\n",
    "print(predict)\n",
    "#predict = clf2.predict(X_test)\n",
    "#print(predict)\n",
    "#predict = np.array([p[0] for p in predict])\n",
    "y = y_test[:, 1]\n",
    "y1=y\n",
    "#y1 = np.argmax(y,1)\n",
    "cm = confusion_matrix(y1, predict)\n",
    "print(\"Confusion matrix: \\n\", cm)\n",
    "\n",
    "\n",
    "bins = np.linspace(0, 5, 6)\n",
    "bin_ranges = [bins[i-1: i+1] for i in range (1,len(bins))]\n",
    "bin_ranges =  np.array(bin_ranges)\n",
    "\n",
    "for r in bin_ranges:\n",
    "     condition = [r[0] <= e <= r[1] for e in y]\n",
    "     y1 = y[condition]\n",
    "     pre = predict.flatten()\n",
    "     pre = pre[condition]\n",
    "     num_true = 0\n",
    "     for i in range (0, len(y1)):\n",
    "        if (np.abs(y1[i] - pre[i]) ==0 ):\n",
    "            num_true += 1\n",
    "     print(\"Num samples:\", len(pre))\n",
    "     print(\"Accurcy in range: \", r, \": \", num_true / (len(pre) +1 ) )\n",
    "            \n",
    "\n",
    "fig, ax = plt.subplots(1,3)\n",
    "y_int = y.astype(int)\n",
    "\n",
    "ax[0].hist(y)\n",
    "ax[0].set_ylim([0,650])\n",
    "ax[1].hist(y_int)\n",
    "ax[1].set_ylim([0,650])\n",
    "ax[2].hist(predict)\n",
    "ax[2].set_ylim([0,650])\n",
    "        \n",
    "print(set(predict))\n",
    "print(len(predict))\n",
    "\n"
   ]
  },
  {
   "cell_type": "markdown",
   "metadata": {},
   "source": [
    "### "
   ]
  },
  {
   "cell_type": "code",
   "execution_count": null,
   "metadata": {},
   "outputs": [],
   "source": []
  }
 ],
 "metadata": {
  "kernelspec": {
   "display_name": "Python 3",
   "language": "python",
   "name": "python3"
  },
  "language_info": {
   "codemirror_mode": {
    "name": "ipython",
    "version": 3
   },
   "file_extension": ".py",
   "mimetype": "text/x-python",
   "name": "python",
   "nbconvert_exporter": "python",
   "pygments_lexer": "ipython3",
   "version": "3.5.5"
  }
 },
 "nbformat": 4,
 "nbformat_minor": 2
}
