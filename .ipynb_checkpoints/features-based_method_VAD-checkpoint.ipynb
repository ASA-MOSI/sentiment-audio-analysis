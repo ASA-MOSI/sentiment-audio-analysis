{
 "cells": [
  {
   "cell_type": "markdown",
   "metadata": {},
   "source": [
    "**Import Libraries and Define constants**"
   ]
  },
  {
   "cell_type": "code",
   "execution_count": 1,
   "metadata": {},
   "outputs": [
    {
     "name": "stderr",
     "output_type": "stream",
     "text": [
      "/home/vuthede/.local/lib64/python3.6/site-packages/sklearn/cross_validation.py:41: DeprecationWarning: This module was deprecated in version 0.18 in favor of the model_selection module into which all the refactored classes and functions are moved. Also note that the interface of the new CV iterators are different from that of this module. This module will be removed in 0.20.\n",
      "  \"This module will be removed in 0.20.\", DeprecationWarning)\n"
     ]
    }
   ],
   "source": [
    "#### Training based on features of audio\n",
    "from sklearn.model_selection import train_test_split\n",
    "from sklearn.model_selection import KFold\n",
    "from sklearn.neural_network import MLPClassifier\n",
    "from sknn.mlp import Classifier, Layer\n",
    "from sklearn.pipeline import Pipeline\n",
    "from sklearn.preprocessing import MinMaxScaler\n",
    "from sklearn.metrics import confusion_matrix\n",
    "import pickle\n",
    "import numpy as np\n",
    "import random\n",
    "from sklearn import tree\n",
    "from sklearn.ensemble import RandomForestClassifier\n",
    "from imblearn.over_sampling import SMOTE \n",
    "from sklearn.model_selection import RandomizedSearchCV\n",
    "from sklearn.ensemble import RandomForestRegressor\n",
    "from sklearn.ensemble import AdaBoostClassifier\n",
    "\n",
    "\n",
    "\n"
   ]
  },
  {
   "cell_type": "markdown",
   "metadata": {},
   "source": [
    "**Load data**"
   ]
  },
  {
   "cell_type": "code",
   "execution_count": 2,
   "metadata": {},
   "outputs": [
    {
     "name": "stdout",
     "output_type": "stream",
     "text": [
      "Size input, output: 10018 ,  10018\n",
      "[1.5 4.  4.  ... 1.5 2.  2.5]\n",
      "Distinct output:  {0.5, 1.5, 2.5, 3.5, 3.0, 4.0, 2.0, 4.5, 5.0, 1.0, 2.3333, 2.6667, 4.3333, 2.25, 2.75, 3.25, 3.75, 4.75, 4.25, 5.5, 1.3333, 3.3333, 4.6667, 1.6667, 3.6667}\n",
      "Average labels: 2.7782824016769814\n",
      "Std labels: 0.8970523348000802\n"
     ]
    },
    {
     "data": {
      "image/png": "[encoded data removed]",
      "text/plain": [
       "<Figure size 432x288 with 1 Axes>"
      ]
     },
     "metadata": {},
     "output_type": "display_data"
    }
   ],
   "source": [
    "\n",
    "##Loading  data from files\n",
    "filehandlerInput = open('processed-data/input_VAD.obj', 'rb')\n",
    "filehandlerOutput = open('processed-data/output_VAD.obj', 'rb')\n",
    "input = pickle.load(filehandlerInput)\n",
    "output = pickle.load(filehandlerOutput)\n",
    "print(\"Size input, output:\", len(input),\", \", len(output))\n",
    "flattened_out = output.flatten()\n",
    "print(flattened_out)\n",
    "print(\"Distinct output: \", set(flattened_out))\n",
    "\n",
    "import matplotlib.pyplot as plt\n",
    "import numpy as np\n",
    "\n",
    "print(\"Average labels:\", np.average(output[:,0]))\n",
    "print(\"Std labels:\", np.std(output[:,0]))\n",
    "plt.hist(output[:,0])\n",
    "plt.show()\n",
    "\n"
   ]
  },
  {
   "cell_type": "markdown",
   "metadata": {},
   "source": [
    "**Preprocess data**"
   ]
  },
  {
   "cell_type": "code",
   "execution_count": 3,
   "metadata": {},
   "outputs": [
    {
     "name": "stderr",
     "output_type": "stream",
     "text": [
      "/usr/lib64/python3.6/site-packages/h5py/__init__.py:34: FutureWarning: Conversion of the second argument of issubdtype from `float` to `np.floating` is deprecated. In future, it will be treated as `np.float64 == np.dtype(float).type`.\n",
      "  from ._conv import register_converters as _register_converters\n",
      "Using TensorFlow backend.\n"
     ]
    },
    {
     "name": "stdout",
     "output_type": "stream",
     "text": [
      "Size input, output after remove Nan values  10009 ,  10009\n",
      "Normalize input and categorize output \n",
      "10009\n"
     ]
    }
   ],
   "source": [
    "from keras.utils.np_utils import to_categorical\n",
    "\n",
    "input_filtered = input[~np.any(np.isnan(input), axis=1)]\n",
    "output_filtered = output[~np.any(np.isnan(input), axis=1)]\n",
    "print(\"Size input, output after remove Nan values \", len(input_filtered), \", \", len(output_filtered))\n",
    "\n",
    "#Normalize input\n",
    "input_filtered = (input_filtered - input_filtered.min(axis=0)) / (input_filtered.max(axis=0) - input_filtered.min(axis=0))\n",
    "\n",
    "#Normalize output\n",
    "#output_filtered = [to_categorical(out, 6) for out in output_filtered]\n",
    "output_filtered = (output_filtered - output_filtered.min(axis=0)) / (output_filtered.max(axis=0) - output_filtered.min(axis=0))\n",
    "print(\"Normalize input and categorize output \")\n",
    "print(len(output_filtered))\n",
    "\n"
   ]
  },
  {
   "cell_type": "markdown",
   "metadata": {},
   "source": [
    "**Shuffer data**"
   ]
  },
  {
   "cell_type": "code",
   "execution_count": 4,
   "metadata": {},
   "outputs": [
    {
     "name": "stdout",
     "output_type": "stream",
     "text": [
      "[[0.44444444 0.375      0.44444444]\n",
      " [0.66666667 0.625      0.77777778]\n",
      " [0.44444444 0.333325   0.4074    ]\n",
      " ...\n",
      " [0.33333333 0.         0.33333333]\n",
      " [0.33333333 0.375      0.55555556]\n",
      " [0.66666667 0.625      0.66666667]]\n"
     ]
    }
   ],
   "source": [
    "#Shuffer\n",
    "c = list(zip(input_filtered, output_filtered))\n",
    "random.shuffle(c)\n",
    "input_filtered, output_filtered = zip( * c)\n",
    "input_filtered = np.array(input_filtered)\n",
    "output_filtered = np.array(output_filtered)\n",
    "print(output_filtered)"
   ]
  },
  {
   "cell_type": "markdown",
   "metadata": {},
   "source": [
    "**Split data**"
   ]
  },
  {
   "cell_type": "code",
   "execution_count": 13,
   "metadata": {},
   "outputs": [
    {
     "name": "stdout",
     "output_type": "stream",
     "text": [
      "Size training, testing set:  9008 ,  1001\n",
      "[0.375    0.625    0.333325 ... 0.       0.375    0.625   ]\n"
     ]
    }
   ],
   "source": [
    "X_train, X_test, y_train, y_test = train_test_split(input_filtered, output_filtered, test_size=0.1, random_state=300)\n",
    "print(\"Size training, testing set: \", len(X_train), \", \", len(X_test))\n",
    "\n",
    "print(output_filtered[:,1])\n"
   ]
  },
  {
   "cell_type": "markdown",
   "metadata": {
    "collapsed": true
   },
   "source": [
    "**Training on keras**"
   ]
  },
  {
   "cell_type": "code",
   "execution_count": 17,
   "metadata": {},
   "outputs": [
    {
     "name": "stdout",
     "output_type": "stream",
     "text": [
      "Train on 9008 samples, validate on 1001 samples\n",
      "Epoch 1/10\n",
      "9008/9008 [==============================] - 1s 103us/step - loss: 0.0515 - val_loss: 0.0395\n",
      "Epoch 2/10\n",
      "9008/9008 [==============================] - 1s 72us/step - loss: 0.0387 - val_loss: 0.0367\n",
      "Epoch 3/10\n",
      "9008/9008 [==============================] - 1s 73us/step - loss: 0.0368 - val_loss: 0.0356\n",
      "Epoch 4/10\n",
      "9008/9008 [==============================] - 1s 73us/step - loss: 0.0362 - val_loss: 0.0348\n",
      "Epoch 5/10\n",
      "9008/9008 [==============================] - 1s 73us/step - loss: 0.0356 - val_loss: 0.0343\n",
      "Epoch 6/10\n",
      "9008/9008 [==============================] - 1s 72us/step - loss: 0.0352 - val_loss: 0.0352\n",
      "Epoch 7/10\n",
      "9008/9008 [==============================] - 1s 73us/step - loss: 0.0352 - val_loss: 0.0334\n",
      "Epoch 8/10\n",
      "9008/9008 [==============================] - 1s 73us/step - loss: 0.0347 - val_loss: 0.0333\n",
      "Epoch 9/10\n",
      "9008/9008 [==============================] - 1s 73us/step - loss: 0.0343 - val_loss: 0.0329\n",
      "Epoch 10/10\n",
      "9008/9008 [==============================] - 1s 74us/step - loss: 0.0340 - val_loss: 0.0328\n",
      "Train on 9008 samples, validate on 1001 samples\n",
      "Epoch 1/10\n",
      "9008/9008 [==============================] - 1s 105us/step - loss: 0.0436 - val_loss: 0.0204\n",
      "Epoch 2/10\n",
      "9008/9008 [==============================] - 1s 73us/step - loss: 0.0187 - val_loss: 0.0170\n",
      "Epoch 3/10\n",
      "9008/9008 [==============================] - 1s 73us/step - loss: 0.0176 - val_loss: 0.0163\n",
      "Epoch 4/10\n",
      "9008/9008 [==============================] - 1s 72us/step - loss: 0.0170 - val_loss: 0.0173\n",
      "Epoch 5/10\n",
      "9008/9008 [==============================] - 1s 73us/step - loss: 0.0170 - val_loss: 0.0160\n",
      "Epoch 6/10\n",
      "9008/9008 [==============================] - 1s 74us/step - loss: 0.0169 - val_loss: 0.0159\n",
      "Epoch 7/10\n",
      "9008/9008 [==============================] - 1s 75us/step - loss: 0.0171 - val_loss: 0.0159\n",
      "Epoch 8/10\n",
      "9008/9008 [==============================] - 1s 75us/step - loss: 0.0167 - val_loss: 0.0163\n",
      "Epoch 9/10\n",
      "9008/9008 [==============================] - 1s 75us/step - loss: 0.0167 - val_loss: 0.0163\n",
      "Epoch 10/10\n",
      "9008/9008 [==============================] - 1s 75us/step - loss: 0.0167 - val_loss: 0.0157\n",
      "Train on 9008 samples, validate on 1001 samples\n",
      "Epoch 1/10\n",
      "9008/9008 [==============================] - 1s 112us/step - loss: 0.0694 - val_loss: 0.0242\n",
      "Epoch 2/10\n",
      "9008/9008 [==============================] - 1s 74us/step - loss: 0.0244 - val_loss: 0.0222\n",
      "Epoch 3/10\n",
      "9008/9008 [==============================] - 1s 74us/step - loss: 0.0235 - val_loss: 0.0221\n",
      "Epoch 4/10\n",
      "9008/9008 [==============================] - 1s 74us/step - loss: 0.0228 - val_loss: 0.0223\n",
      "Epoch 5/10\n",
      "9008/9008 [==============================] - 1s 74us/step - loss: 0.0225 - val_loss: 0.0213\n",
      "Epoch 6/10\n",
      "9008/9008 [==============================] - 1s 73us/step - loss: 0.0224 - val_loss: 0.0213\n",
      "Epoch 7/10\n",
      "9008/9008 [==============================] - 1s 74us/step - loss: 0.0222 - val_loss: 0.0214\n",
      "Epoch 8/10\n",
      "9008/9008 [==============================] - 1s 72us/step - loss: 0.0219 - val_loss: 0.0215\n",
      "Epoch 9/10\n",
      "9008/9008 [==============================] - 1s 72us/step - loss: 0.0220 - val_loss: 0.0212\n",
      "Epoch 10/10\n",
      "9008/9008 [==============================] - 1s 73us/step - loss: 0.0220 - val_loss: 0.0214\n"
     ]
    },
    {
     "data": {
      "text/plain": [
       "<keras.callbacks.History at 0x7f581a027f28>"
      ]
     },
     "execution_count": 17,
     "metadata": {},
     "output_type": "execute_result"
    }
   ],
   "source": [
    "from keras.utils.np_utils import to_categorical\n",
    "from keras.models import Sequential\n",
    "from keras.layers import Dense, Activation\n",
    "\n",
    "\n",
    "\n",
    "model = Sequential([\n",
    "    Dense(64, input_shape=(88,), kernel_initializer='normal'),\n",
    "    Activation('relu'),\n",
    "    Dense(32, kernel_initializer='normal'),\n",
    "    Activation('relu'),\n",
    "    Dense(16,kernel_initializer='normal'),\n",
    "    Activation('relu'),\n",
    "    Dense(8, kernel_initializer='normal'),\n",
    "    Activation('relu'),\n",
    "    Dense(1),\n",
    "])\n",
    "model.compile(loss='mean_squared_error', optimizer='adam')\n",
    "model.fit(X_train, y_train[:,0], validation_data=(X_test, y_test[:,0]), epochs = 10)\n",
    "#model.fit(X_train[0:2], y_train[0:2,0], validation_data=(X_test[0:2], y_test[0:2,0]), epochs = 1000)\n",
    "\n",
    "model1 = Sequential([\n",
    "    Dense(64, input_shape=(88,), kernel_initializer='normal'),\n",
    "    Activation('relu'),\n",
    "    Dense(32, kernel_initializer='normal'),\n",
    "    Activation('relu'),\n",
    "    Dense(16,kernel_initializer='normal'),\n",
    "    Activation('relu'),\n",
    "    Dense(8, kernel_initializer='normal'),\n",
    "    Activation('relu'),\n",
    "    Dense(1),\n",
    "])\n",
    "model1.compile(loss='mean_squared_error', optimizer='adam')\n",
    "model1.fit(X_train, y_train[:,1], validation_data=(X_test, y_test[:,1]), epochs = 10)\n",
    "\n",
    "\n",
    "model2 = Sequential([\n",
    "    Dense(64, input_shape=(88,), kernel_initializer='normal'),\n",
    "    Activation('relu'),\n",
    "    Dense(32, kernel_initializer='normal'),\n",
    "    Activation('relu'),\n",
    "    Dense(16,kernel_initializer='normal'),\n",
    "    Activation('relu'),\n",
    "    Dense(8, kernel_initializer='normal'),\n",
    "    Activation('relu'),\n",
    "    Dense(1),\n",
    "])\n",
    "model2.compile(loss='mean_squared_error', optimizer='adam')\n",
    "model2.fit(X_train, y_train[:,2], validation_data=(X_test, y_test[:,2]), epochs = 10)\n",
    "\n"
   ]
  },
  {
   "cell_type": "markdown",
   "metadata": {},
   "source": [
    "**Coefficient of Determination**"
   ]
  },
  {
   "cell_type": "code",
   "execution_count": 18,
   "metadata": {},
   "outputs": [
    {
     "name": "stdout",
     "output_type": "stream",
     "text": [
      "The Coefficient of Determination:  0.15091815686191823\n",
      "The Coefficient of Determination:  -0.8983476852535122\n",
      "The Coefficient of Determination:  -1.8541605716535168\n"
     ]
    }
   ],
   "source": [
    "from sklearn.metrics import r2_score\n",
    "\n",
    "predict = model.predict(X_test)\n",
    "predict1 = model.predict(X_test)\n",
    "predict2 = model.predict(X_test)\n",
    "\n",
    "a = r2_score(y_test[:,0], predict)\n",
    "print(\"The R2 for Valance: \" ,a)\n",
    "\n",
    "a1 = r2_score(y_test[:,1], predict1)\n",
    "print(\"The R2 for Activation: \" ,a1)\n",
    "\n",
    "a2 = r2_score(y_test[:,2], predict2)\n",
    "print(\"The R2 for Dominance: \" ,a2)\n"
   ]
  },
  {
   "cell_type": "markdown",
   "metadata": {},
   "source": [
    "If the Coefficient of Determination is **low**, It means the model work badly and does not fit the test data"
   ]
  },
  {
   "cell_type": "markdown",
   "metadata": {},
   "source": [
    "**Distribution of err**"
   ]
  },
  {
   "cell_type": "code",
   "execution_count": 8,
   "metadata": {},
   "outputs": [
    {
     "name": "stdout",
     "output_type": "stream",
     "text": [
      "1001\n",
      "[500500 224224 211211  63063   3003      0      0      0      0]\n"
     ]
    },
    {
     "data": {
      "image/png": "[encoded data removed]",
      "text/plain": [
       "<Figure size 432x288 with 1 Axes>"
      ]
     },
     "metadata": {},
     "output_type": "display_data"
    }
   ],
   "source": [
    "import numpy as np\n",
    "import matplotlib.pyplot as plt\n",
    "\n",
    "bins = np.linspace(0, 1, 10)\n",
    "data = np.abs(predict - y_test[:,1])\n",
    "print(len(data))\n",
    "hist, bin_edges = np.histogram(data,bins) # make the histogram\n",
    "print(hist)\n",
    "\n",
    "fig,ax = plt.subplots()\n",
    "\n",
    "# Plot the histogram heights against integers on the x axis\n",
    "ax.bar(range(len(hist)),hist,width=1) \n",
    "\n",
    "# # Set the ticks to the middle of the bars\n",
    "# ax.set_xticks([0.5+i for i,j in enumerate(hist)])\n",
    "\n",
    "# # # Set the xticklabels to a string that tells us what the bin edges were\n",
    "# # ax.set_xticklabels(['{} - {}'.format(bins[i],bins[i+1]) for i,j in enumerate(hist)])\n",
    "\n",
    "plt.show()\n",
    "\n",
    "\n",
    "#predict = model.predict(X_test)\n",
    "\n",
    "#plt.hist(subs, bins =bins)"
   ]
  },
  {
   "cell_type": "markdown",
   "metadata": {},
   "source": [
    "**Standard residual plot**"
   ]
  },
  {
   "cell_type": "code",
   "execution_count": 16,
   "metadata": {},
   "outputs": [
    {
     "data": {
      "image/png": "[encoded data removed]",
      "text/plain": [
       "<Figure size 432x288 with 1 Axes>"
      ]
     },
     "metadata": {},
     "output_type": "display_data"
    }
   ],
   "source": [
    "import seaborn as sns\n",
    "sns.set(style=\"whitegrid\")\n",
    "\n",
    "predict = model.predict(X_test)\n",
    "predict = np.array([p[0] for p in predict])\n",
    "axs = sns.residplot(y_test[:,2], predict, lowess=True, color=\"g\")\n",
    "plt.show()"
   ]
  },
  {
   "cell_type": "markdown",
   "metadata": {},
   "source": [
    "The residual plot show that the error followed random pattern. If the residual plot is not enough random, then the model would be likely to lose something. "
   ]
  },
  {
   "cell_type": "markdown",
   "metadata": {},
   "source": [
    "**Playing around with prediction**"
   ]
  },
  {
   "cell_type": "code",
   "execution_count": 10,
   "metadata": {},
   "outputs": [
    {
     "data": {
      "image/png": "[encoded data removed]",
      "text/plain": [
       "<Figure size 432x288 with 3 Axes>"
      ]
     },
     "metadata": {},
     "output_type": "display_data"
    }
   ],
   "source": [
    "from matplotlib.pyplot import subplots_adjust\n",
    "predict = model.predict(X_test)\n",
    "#print(predict)\n",
    "\n",
    "subs = np.abs(predict - y_test[:,1])\n",
    "\n",
    "\n",
    "fig, axs = plt.subplots(1,3)\n",
    "subplots_adjust(right = 2, wspace=0.2)\n",
    "axs[0].hist(y_train[:,0])\n",
    "axs[0].set_title(\"True value in train data\\n\" + \n",
    "                 \"avg:\" + str(np.average(y_train[:,0])) + \n",
    "                 \"\\nstd:\" + str(np.std(y_train[:,0])))\n",
    "axs[1].hist(y_test[:,0])\n",
    "axs[1].set_title(\"True value in test data\\n\" + \n",
    "                 \"avg:\" + str(np.average(y_test[:,0])) + \n",
    "                 \"\\nstd:\" + str(np.std(y_test[:,0])))\n",
    "axs[1].set_ylim([0,400])\n",
    "                        \n",
    "axs[2].hist(predict) \n",
    "axs[2].set_title(\"Prediction\\n\" +\n",
    "                \"avg:\" + str(np.average(predict)) + \n",
    "                 \"\\nstd:\" + str(np.std(predict)))\n",
    "                \n",
    "# axs[2].hist(subs, bins='auto')\n",
    "# axs[2].set_title(\"error on predictions\")\n",
    "\n",
    "plt.show()\n",
    "plt.close()\n"
   ]
  },
  {
   "cell_type": "code",
   "execution_count": null,
   "metadata": {
    "collapsed": true
   },
   "outputs": [],
   "source": []
  }
 ],
 "metadata": {
  "kernelspec": {
   "display_name": "Python 3",
   "language": "python3.6",
   "name": "python3"
  },
  "language_info": {
   "codemirror_mode": {
    "name": "ipython",
    "version": 3
   },
   "file_extension": ".py",
   "mimetype": "text/x-python",
   "name": "python",
   "nbconvert_exporter": "python",
   "pygments_lexer": "ipython3",
   "version": "3.6.5"
  }
 },
 "nbformat": 4,
 "nbformat_minor": 2
}
