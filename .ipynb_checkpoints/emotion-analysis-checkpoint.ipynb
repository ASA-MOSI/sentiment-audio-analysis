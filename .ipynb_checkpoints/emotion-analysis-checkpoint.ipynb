{
 "cells": [
  {
   "cell_type": "markdown",
   "metadata": {},
   "source": [
    "**Import library and Constants**"
   ]
  },
  {
   "cell_type": "code",
   "execution_count": 1,
   "metadata": {},
   "outputs": [
    {
     "name": "stderr",
     "output_type": "stream",
     "text": [
      "WARNING (theano.configdefaults): g++ not available, if using conda: `conda install m2w64-toolchain`\n",
      "C:\\Users\\THEDE\\Miniconda3\\envs\\py36\\lib\\site-packages\\theano\\configdefaults.py:560: UserWarning: DeprecationWarning: there is no c++ compiler.This is deprecated and with Theano 0.11 a c++ compiler will be mandatory\n",
      "  warnings.warn(\"DeprecationWarning: there is no c++ compiler.\"\n",
      "WARNING (theano.configdefaults): g++ not detected ! Theano will be unable to execute optimized C-implementations (for both CPU and GPU) and will default to Python implementations. Performance will be severely degraded. To remove this warning, set Theano flags cxx to an empty string.\n",
      "WARNING (theano.configdefaults): install mkl with `conda install mkl-service`: No module named 'mkl'\n",
      "WARNING (theano.tensor.blas): Using NumPy C-API based implementation for BLAS functions.\n",
      "C:\\Users\\THEDE\\Miniconda3\\envs\\py36\\lib\\site-packages\\sklearn\\cross_validation.py:41: DeprecationWarning: This module was deprecated in version 0.18 in favor of the model_selection module into which all the refactored classes and functions are moved. Also note that the interface of the new CV iterators are different from that of this module. This module will be removed in 0.20.\n",
      "  \"This module will be removed in 0.20.\", DeprecationWarning)\n"
     ]
    }
   ],
   "source": [
    "from sklearn.model_selection import train_test_split\n",
    "from sklearn.model_selection import KFold\n",
    "from sklearn.neural_network import MLPClassifier\n",
    "from sknn.mlp import Classifier, Layer\n",
    "from sklearn.pipeline import Pipeline\n",
    "from sklearn.preprocessing import MinMaxScaler\n",
    "from sklearn.metrics import confusion_matrix\n",
    "import pickle\n",
    "import numpy as np\n",
    "import random\n",
    "from sklearn import tree\n",
    "from sklearn.ensemble import RandomForestClassifier\n",
    "from imblearn.over_sampling import SMOTE \n",
    "from sklearn.model_selection import RandomizedSearchCV\n",
    "from sklearn.ensemble import RandomForestRegressor\n",
    "from sklearn.ensemble import AdaBoostClassifier\n",
    "import matplotlib.pyplot as plt\n",
    "from matplotlib.pyplot import subplots_adjust\n",
    "\n",
    "EMOTION = {'ang': 0, 'hap' : 1, 'sad' : 2, 'neu' : 3, 'fru' : 4, 'exc': 5,\n",
    "           'fea' : 6,'sur' : 7,'dis' : 8, 'oth' : 9, 'xxx':10}\n",
    "\n",
    "#Define class\n",
    "class Input:\n",
    "    \n",
    "    def __init__(self, code=None, spectrogram=None, acoustic_features=None, transcript=None):\n",
    "        self.__code = code\n",
    "        self.__spectrogram = spectrogram\n",
    "        self.__acoustic_features = acoustic_features\n",
    "        self.__transcript = transcript\n",
    "    \n",
    "    def get_code(self):\n",
    "        return self.__code\n",
    "            \n",
    "    def get_spectrogram(self):\n",
    "        return self.__spectrogram\n",
    "    \n",
    "    def get_acoustic_features(self):\n",
    "        return self.__acoustic_features\n",
    "    \n",
    "    def get_transcript(self):\n",
    "        return self.__transcript\n",
    "    \n",
    "    def set_transcript(self, transcript):\n",
    "        self.__transcript = transcript\n",
    "    \n",
    "    \n",
    "    \n",
    "    \n",
    "class Output:\n",
    "    def __init__(self, code, duration, annotated_categories, chosen_category, attributes):\n",
    "        self.__code = code # file name\n",
    "        self.__duration = duration #  duration [t1-t2]\n",
    "        self.__annotated_categories= annotated_categories # array of different category evaluation of annotator\n",
    "        self.__chosen_category = chosen_category  # final category which most of annotators choose\n",
    "        self.__attributes = attributes # valance, arouse, dominance of emotion\n",
    "        \n",
    "    \n",
    "    def get_code(self):\n",
    "        return self.__code\n",
    "\n",
    "    def get_duration(self):\n",
    "        return self.__duration\n",
    "    \n",
    "    def get_annotated_categories(self):\n",
    "        return self.__annotated_categories\n",
    "    \n",
    "    def get_chosen_category(self):\n",
    "        return self.__chosen_category\n",
    "    \n",
    "    def get_attributes(self):\n",
    "        return self.__attributes\n",
    "        \n",
    "        \n",
    "    def get_consitency(self):\n",
    "        \"\"\"Check if most of annotators have the same evaluation.\n",
    "        \"\"\"\n",
    "        counts = np.unique(self.get_annotated_categories(), return_counts=True)[1]\n",
    "        consitent_degree = np.max(counts)/np.sum(counts)\n",
    "        return consitent_degree\n",
    "            "
   ]
  },
  {
   "cell_type": "markdown",
   "metadata": {},
   "source": [
    "**Load data**"
   ]
  },
  {
   "cell_type": "code",
   "execution_count": 2,
   "metadata": {},
   "outputs": [
    {
     "name": "stdout",
     "output_type": "stream",
     "text": [
      "Size input, output: 10039, 10039\n"
     ]
    }
   ],
   "source": [
    "file_handler_input = open('processed-data/input.obj', 'rb')\n",
    "file_handler_output = open('processed-data/output.obj', 'rb')\n",
    "input = np.array(pickle.load(file_handler_input))\n",
    "output = np.array(pickle.load(file_handler_output))\n",
    "\n",
    "print(\"Size input, output: {}, {}\".format(len(input), len(output)))"
   ]
  },
  {
   "cell_type": "markdown",
   "metadata": {},
   "source": [
    "**Analyze the relationship between Valance and specific emotions**"
   ]
  },
  {
   "cell_type": "code",
   "execution_count": 3,
   "metadata": {},
   "outputs": [
    {
     "data": {
      "image/png": "[encoded data removed]",
      "text/plain": [
       "<Figure size 360x576 with 6 Axes>"
      ]
     },
     "metadata": {},
     "output_type": "display_data"
    }
   ],
   "source": [
    "from itertools import groupby\n",
    "from operator import itemgetter\n",
    "\n",
    "\n",
    "\n",
    "category_valance = [(e.get_chosen_category(), e.get_attributes()[0]) for e in output if e.get_consitency()>0.66]\n",
    "# groups = [(k, list(list(zip(*category_arouse[0:5000]))[1])) for k, g in groupby(a, itemgetter(0))]\n",
    "LABELS = ['exc', 'hap', 'neu', 'ang', 'sad', 'fru']\n",
    "\n",
    "groups = {}\n",
    "for label in LABELS:\n",
    "    groups[label] = [el[1] for el in category_valance if el[0] == label]\n",
    "\n",
    "#print(groups)\n",
    "num_col = 3\n",
    "fig, axs = plt.subplots(int(len(LABELS) / num_col), num_col,  figsize=(5,8))\n",
    "subplots_adjust(right = 2, wspace=0.2, hspace=0.5, bottom=0)\n",
    "\n",
    "for i in range (0, len(LABELS)):\n",
    "    row = int(i / num_col)\n",
    "    col = i % num_col\n",
    "    axs[row][col].hist(groups[LABELS[i]])\n",
    "    axs[row][col].set_xlim([1,5])\n",
    "    axs[row][col].set_title(\"Valance Distribution of {}\".format(LABELS[i]))\n",
    "    \n",
    "plt.show();\n",
    "\n"
   ]
  },
  {
   "cell_type": "markdown",
   "metadata": {},
   "source": [
    "**Analyze the relationship between Arouse and specific emotions**"
   ]
  },
  {
   "cell_type": "code",
   "execution_count": 4,
   "metadata": {},
   "outputs": [
    {
     "data": {
      "image/png": "[encoded data removed]",
      "text/plain": [
       "<Figure size 360x576 with 6 Axes>"
      ]
     },
     "metadata": {},
     "output_type": "display_data"
    }
   ],
   "source": [
    "from itertools import groupby\n",
    "from operator import itemgetter\n",
    "\n",
    "\n",
    "\n",
    "category_arouse = [(e.get_chosen_category(), e.get_attributes()[1]) for e in output if e.get_consitency()>0.7]\n",
    "# groups = [(k, list(list(zip(*category_arouse[0:5000]))[1])) for k, g in groupby(a, itemgetter(0))]\n",
    "LABELS = ['exc', 'ang', 'fru', 'hap', 'neu', 'sad']\n",
    "\n",
    "groups = {}\n",
    "for label in LABELS:\n",
    "    groups[label] = [el[1] for el in category_arouse if el[0] == label]\n",
    "\n",
    "#print(groups)\n",
    "num_col = 3\n",
    "fig, axs = plt.subplots(int(len(LABELS) / num_col), num_col,  figsize=(5,8))\n",
    "subplots_adjust(right = 2, wspace=0.2, hspace=0.5, bottom=0)\n",
    "\n",
    "for i in range (0, len(LABELS)):\n",
    "    row = int(i / num_col)\n",
    "    col = i % num_col\n",
    "    axs[row][col].hist(groups[LABELS[i]])\n",
    "    axs[row][col].set_xlim([1,5])\n",
    "    axs[row][col].set_title(\"Arouse Distribution of {}\".format(LABELS[i]))\n",
    "    \n",
    "plt.show();\n",
    "\n"
   ]
  },
  {
   "cell_type": "markdown",
   "metadata": {},
   "source": [
    "**Analyze the relationship between Dominance and specific emotions**"
   ]
  },
  {
   "cell_type": "code",
   "execution_count": 5,
   "metadata": {},
   "outputs": [
    {
     "data": {
      "image/png": "[encoded data removed]",
      "text/plain": [
       "<Figure size 360x576 with 6 Axes>"
      ]
     },
     "metadata": {},
     "output_type": "display_data"
    }
   ],
   "source": [
    "from itertools import groupby\n",
    "from operator import itemgetter\n",
    "\n",
    "\n",
    "\n",
    "category_dominance = [(e.get_chosen_category(), e.get_attributes()[2]) for e in output ]\n",
    "# groups = [(k, list(list(zip(*category_arouse[0:5000]))[1])) for k, g in groupby(a, itemgetter(0))]\n",
    "LABELS = ['exc', 'ang', 'fru', 'hap', 'neu', 'sad']\n",
    "\n",
    "groups = {}\n",
    "for label in LABELS:\n",
    "    groups[label] = [el[1] for el in category_dominance if el[0] == label]\n",
    "\n",
    "#print(groups)\n",
    "num_col = 3\n",
    "fig, axs = plt.subplots(int(len(LABELS) / num_col), num_col,  figsize=(5,8))\n",
    "subplots_adjust(right = 2, wspace=0.2, hspace=0.5, bottom=0)\n",
    "\n",
    "for i in range (0, len(LABELS)):\n",
    "    row = int(i / num_col)\n",
    "    col = i % num_col\n",
    "    axs[row][col].hist(groups[LABELS[i]])\n",
    "    axs[row][col].set_xlim([1,5])\n",
    "    axs[row][col].set_title(\"Dominance Distribution of {}\".format(LABELS[i]))\n",
    "    \n",
    "plt.show();\n",
    "\n"
   ]
  },
  {
   "cell_type": "markdown",
   "metadata": {},
   "source": [
    "**Remove sample with null values**"
   ]
  },
  {
   "cell_type": "code",
   "execution_count": 6,
   "metadata": {},
   "outputs": [
    {
     "name": "stdout",
     "output_type": "stream",
     "text": [
      "Size input, output after remove null values: 4411, 4411\n"
     ]
    }
   ],
   "source": [
    "LABELS = [ 'exc' ,'hap', 'sad', 'neu']\n",
    "in_out = list(filter(lambda x: ~np.isnan(np.array(x[0].get_acoustic_features(),  dtype=np.float64)).any() and x[1].get_chosen_category() in LABELS , zip(input, output)))\n",
    "input, output = zip(*in_out)\n",
    "print(\"Size input, output after remove null values: {}, {}\".format(len(input), len(output)))"
   ]
  },
  {
   "cell_type": "markdown",
   "metadata": {},
   "source": [
    "**Normalize input and categorize output**"
   ]
  },
  {
   "cell_type": "code",
   "execution_count": 7,
   "metadata": {},
   "outputs": [
    {
     "name": "stdout",
     "output_type": "stream",
     "text": [
      "Ratio data: 0.37021083654500114\n"
     ]
    }
   ],
   "source": [
    "\n",
    "X = np.array([i.get_acoustic_features() for i in input])\n",
    "X_norm = (X - np.min(X, axis=0)) / (np.max(X, axis=0) - np.min(X, axis=0))\n",
    "\n",
    "y_valance = np.array([i.get_chosen_category() for i in output])\n",
    "y_valance[y_valance == 'hap'] = 1\n",
    "y_valance[y_valance == 'exc'] = 1\n",
    "#y_valance[y_valance == 'fru'] = 0\n",
    "y_valance[y_valance == 'sad'] = 0\n",
    "#y_valance[y_valance == 'ang'] = 0\n",
    "y_valance[y_valance == 'neu'] = 0\n",
    "y_valance = y_valance.astype(int)\n",
    "\n",
    "print(\"Ratio data:\", np.sum(y_valance) / len(y_valance))"
   ]
  },
  {
   "cell_type": "markdown",
   "metadata": {},
   "source": [
    "**Split data**"
   ]
  },
  {
   "cell_type": "code",
   "execution_count": 8,
   "metadata": {},
   "outputs": [
    {
     "name": "stdout",
     "output_type": "stream",
     "text": [
      "Size training, testing set:  2646 ,  1765\n"
     ]
    }
   ],
   "source": [
    "X_train, X_test, y_train, y_test = train_test_split(X_norm, y_valance, test_size=0.4, random_state=300)\n",
    "print(\"Size training, testing set: \", len(X_train), \", \", len(X_test))"
   ]
  },
  {
   "cell_type": "markdown",
   "metadata": {},
   "source": [
    "from **Training**"
   ]
  },
  {
   "cell_type": "code",
   "execution_count": 9,
   "metadata": {},
   "outputs": [
    {
     "name": "stdout",
     "output_type": "stream",
     "text": [
      "\n",
      "Score for test set:  0.7575070821529745\n",
      "\n",
      "Confusion matrix:..................... \n",
      " [[948 160]\n",
      " [268 389]]\n",
      "roc_auc:  0.8166331481573061\n"
     ]
    },
    {
     "data": {
      "text/plain": [
       "[<matplotlib.lines.Line2D at 0x1751d555a20>]"
      ]
     },
     "execution_count": 9,
     "metadata": {},
     "output_type": "execute_result"
    },
    {
     "data": {
      "image/png": "[encoded data removed]",
      "text/plain": [
       "<Figure size 432x288 with 1 Axes>"
      ]
     },
     "metadata": {},
     "output_type": "display_data"
    }
   ],
   "source": [
    "from sklearn.metrics import log_loss\n",
    "from sklearn.metrics import roc_curve, auc\n",
    "from sklearn import svm\n",
    "from sklearn.linear_model import LogisticRegression\n",
    "\n",
    "# clf = MLPClassifier(solver='lbfgs', alpha=1e-7,\n",
    "#                 hidden_layer_sizes=(400), random_state=200)\n",
    "clf = LogisticRegression()\n",
    "\n",
    "# clf = MLPClassifier(solver='lbfgs', alpha=1e-7,\n",
    "#                 hidden_layer_sizes=(400), random_state=200)\n",
    "clf.fit(X_train, y_train)\n",
    "\n",
    "predicts = clf.predict(X_test)\n",
    "predicts_prob = clf.predict_proba(X_test)\n",
    "score_test = clf.score(X_test, y_test)\n",
    "print(\"\\nScore for test set: \", score_test)\n",
    "    \n",
    "matrix = confusion_matrix(y_test, predicts)\n",
    "print (\"\\nConfusion matrix:..................... \\n\",matrix)\n",
    "\n",
    "fpr, tpr, the= roc_curve(y_test, predicts_prob[:, 1], 1)\n",
    "#print(\"Thresholds: \", the)\n",
    "roc_auc = auc(fpr, tpr)\n",
    "print(\"roc_auc: \", roc_auc)\n",
    "plt.plot(fpr, tpr)"
   ]
  },
  {
   "cell_type": "code",
   "execution_count": 21,
   "metadata": {},
   "outputs": [
    {
     "name": "stdout",
     "output_type": "stream",
     "text": [
      "0.6135898497636362\n"
     ]
    }
   ],
   "source": [
    "def cutoff_youdens_j(fpr,tpr,thresholds):\n",
    "    j_scores = tpr-fpr\n",
    "    j_ordered = sorted(zip(j_scores,thresholds))\n",
    "    return j_ordered[-1][1]\n",
    "print(cutoff_youdens_j(fpr, tpr, the))\n",
    "\n",
    "\n",
    "\n"
   ]
  },
  {
   "cell_type": "code",
   "execution_count": 11,
   "metadata": {},
   "outputs": [
    {
     "name": "stdout",
     "output_type": "stream",
     "text": [
      "Confusion matrix with theshold:\n",
      " [[1035   73]\n",
      " [ 355  302]]\n",
      "0.501538995741429\n"
     ]
    },
    {
     "data": {
      "text/plain": [
       "0.6034452278869251"
      ]
     },
     "execution_count": 11,
     "metadata": {},
     "output_type": "execute_result"
    }
   ],
   "source": [
    "predicts_prob = clf.predict_proba(X_test)\n",
    "predict_threshold = np.array([p[1] >= 0.61 for p in predicts_prob])\n",
    "#print(predict_threshold)\n",
    "predict_threshold = predict_threshold.astype(int)\n",
    "\n",
    "matrix = confusion_matrix(y_test, predict_threshold)\n",
    "print(\"Confusion matrix with theshold:\\n\", matrix)\n",
    "print(log_loss(y_test, predicts_prob))\n",
    "np.exp(-0.5051)"
   ]
  },
  {
   "cell_type": "code",
   "execution_count": 12,
   "metadata": {},
   "outputs": [
    {
     "data": {
      "text/plain": [
       "0.7575070821529745"
      ]
     },
     "execution_count": 12,
     "metadata": {},
     "output_type": "execute_result"
    }
   ],
   "source": [
    "(1035 + 302) / (1035+302+73+355)"
   ]
  },
  {
   "cell_type": "markdown",
   "metadata": {},
   "source": [
    "**VAD classification**"
   ]
  },
  {
   "cell_type": "code",
   "execution_count": 13,
   "metadata": {},
   "outputs": [],
   "source": [
    "# LABELS = [ 'exc' ,'hap', 'sad', 'fru', 'ang']\n",
    "# in_out = list(filter(lambda x: ~np.isnan(np.array(x[0].get_acoustic_features(),  dtype=np.float64)).any() and x[1].get_chosen_category() in LABELS , zip(input, output)))\n",
    "# input, output = zip(*in_out)\n",
    "# print(\"Size input, output after remove null values: {}, {}\".format(len(input), len(output)))"
   ]
  },
  {
   "cell_type": "code",
   "execution_count": 14,
   "metadata": {},
   "outputs": [],
   "source": [
    "# X = np.array([i.get_acoustic_features() for i in input])\n",
    "# X_norm = (X - np.min(X, axis=0)) / (np.max(X, axis=0) - np.min(X, axis=0))\n",
    "\n",
    "# y_valance = np.array([i.get_attributes()[0] for i in output])\n",
    "\n",
    "# y = np.array([i >=3 for i in y_valance])\n",
    "# y = y.astype(int)\n",
    "\n",
    "\n"
   ]
  },
  {
   "cell_type": "code",
   "execution_count": 15,
   "metadata": {},
   "outputs": [],
   "source": [
    "# X_train, X_test, y_train, y_test = train_test_split(X_norm, y, test_size=0.2, random_state=300)\n",
    "# print(\"Size training, testing set: \", len(X_train), \", \", len(X_test))"
   ]
  },
  {
   "cell_type": "code",
   "execution_count": 16,
   "metadata": {},
   "outputs": [
    {
     "name": "stdout",
     "output_type": "stream",
     "text": [
      "[[0.90808539 0.09191461]\n",
      " [0.85525293 0.14474707]\n",
      " [0.94705027 0.05294973]\n",
      " ...\n",
      " [0.43729142 0.56270858]\n",
      " [0.83227873 0.16772127]\n",
      " [0.23719099 0.76280901]]\n",
      "\n",
      "Score for test set:  0.7575070821529745\n",
      "\n",
      "Confusion matrix:..................... \n",
      " [[948 160]\n",
      " [268 389]]\n",
      "roc_auc:  0.8166331481573061\n"
     ]
    },
    {
     "data": {
      "text/plain": [
       "[<matplotlib.lines.Line2D at 0x1751d3fb908>]"
      ]
     },
     "execution_count": 16,
     "metadata": {},
     "output_type": "execute_result"
    },
    {
     "data": {
      "image/png": "[encoded data removed]",
      "text/plain": [
       "<Figure size 432x288 with 1 Axes>"
      ]
     },
     "metadata": {},
     "output_type": "display_data"
    }
   ],
   "source": [
    "from sklearn.metrics import log_loss\n",
    "from sklearn.metrics import roc_curve, auc\n",
    "from sklearn import svm\n",
    "from sklearn.linear_model import LogisticRegression\n",
    "\n",
    "# clf = MLPClassifier(solver='lbfgs', alpha=1e-7,\n",
    "#                 hidden_layer_sizes=(400), random_state=200)\n",
    "clf = LogisticRegression()\n",
    "clf.fit(X_train, y_train)\n",
    "\n",
    "predicts = clf.predict(X_test)\n",
    "predicts_prob = clf.predict_proba(X_test)\n",
    "print(predicts_prob)\n",
    "score_test = clf.score(X_test, y_test)\n",
    "print(\"\\nScore for test set: \", score_test)\n",
    "    \n",
    "matrix = confusion_matrix(y_test, predicts)\n",
    "print (\"\\nConfusion matrix:..................... \\n\",matrix)\n",
    "\n",
    "fpr, tpr, the= roc_curve(y_test, predicts_prob[:, 0], 0)\n",
    "#print(\"Thresholds: \", the)\n",
    "roc_auc = auc(fpr, tpr)\n",
    "print(\"roc_auc: \", roc_auc)\n",
    "plt.plot(fpr, tpr)\n"
   ]
  },
  {
   "cell_type": "markdown",
   "metadata": {},
   "source": [
    "**Evaluate in different database**"
   ]
  },
  {
   "cell_type": "markdown",
   "metadata": {},
   "source": [
    "**Load data EMO-DATA**"
   ]
  },
  {
   "cell_type": "code",
   "execution_count": 17,
   "metadata": {},
   "outputs": [
    {
     "name": "stdout",
     "output_type": "stream",
     "text": [
      "Size input, output: 535, 535\n"
     ]
    }
   ],
   "source": [
    "file_handler_input = open('processed-data/input-EMO.obj', 'rb')\n",
    "file_handler_output = open('processed-data/output-EMO.obj', 'rb')\n",
    "input = np.array(pickle.load(file_handler_input))\n",
    "output = np.array(pickle.load(file_handler_output))\n",
    "\n",
    "print(\"Size input, output: {}, {}\".format(len(input), len(output)))"
   ]
  },
  {
   "cell_type": "markdown",
   "metadata": {},
   "source": [
    "**Filter bordom, sad, happy emotion**"
   ]
  },
  {
   "cell_type": "code",
   "execution_count": 18,
   "metadata": {},
   "outputs": [],
   "source": [
    "## L : bordom ; F: happiness ; T: sadness\n",
    "\n",
    "in_out = filter(lambda x: x[1] in ['L', 'F', 'T', 'N'] , zip(input, output))\n",
    "X, y = zip(*in_out)\n",
    "X = np.array(X)\n",
    "y = np.array(y)\n",
    "\n",
    "y[y == 'N'] = 0\n",
    "y[y == 'L'] = 0\n",
    "y[y == 'T'] = 0\n",
    "y[y == 'F'] = 1\n",
    "\n",
    "X = (X - np.min(X, axis=0)) / (np.max(X, axis=0) - np.min(X, axis=0))\n",
    "y = y.astype(int)\n",
    "\n",
    "# predicts = clf.predict(X)\n",
    "# predicts_prob = clf.predict_proba(X)\n",
    "# #print(predicts_prob)\n",
    "# score_test = clf.score(X, y)\n",
    "# print(\"\\nScore for test set: \", score_test)\n",
    "    \n",
    "# matrix = confusion_matrix(y, predicts)\n",
    "# print (\"\\nConfusion matrix:..................... \\n\",matrix)\n",
    "\n",
    "# fpr, tpr, the= roc_curve(y, predicts_prob[:, 1], 1)\n",
    "# #print(\"Thresholds: \", the)\n",
    "# roc_auc = auc(fpr, tpr)\n",
    "# print(\"roc_auc: \", roc_auc)\n",
    "# plt.plot(fpr, tpr)\n"
   ]
  },
  {
   "cell_type": "code",
   "execution_count": 19,
   "metadata": {},
   "outputs": [
    {
     "name": "stdout",
     "output_type": "stream",
     "text": [
      "0.6135898497636362\n"
     ]
    }
   ],
   "source": [
    "def cutoff_youdens_j(fpr,tpr,thresholds):\n",
    "    j_scores = tpr-fpr\n",
    "    j_ordered = sorted(zip(j_scores,thresholds))\n",
    "    return j_ordered[-1][1]\n",
    "print(cutoff_youdens_j(fpr, tpr, the))"
   ]
  },
  {
   "cell_type": "code",
   "execution_count": 20,
   "metadata": {},
   "outputs": [
    {
     "name": "stdout",
     "output_type": "stream",
     "text": [
      "Confusion matrix with theshold:\n",
      " [[180  42]\n",
      " [ 18  53]]\n",
      "0.42842627575203635\n"
     ]
    },
    {
     "data": {
      "text/plain": [
       "0.6034452278869251"
      ]
     },
     "execution_count": 20,
     "metadata": {},
     "output_type": "execute_result"
    }
   ],
   "source": [
    "predicts_prob = clf.predict_proba(X)\n",
    "predict_threshold = np.array([p[1] >= 0.61 for p in predicts_prob])\n",
    "#print(predict_threshold)\n",
    "predict_threshold = predict_threshold.astype(int)\n",
    "\n",
    "matrix = confusion_matrix(y, predict_threshold)\n",
    "print(\"Confusion matrix with theshold:\\n\", matrix)\n",
    "print(log_loss(y, predicts_prob))\n",
    "np.exp(-0.5051)"
   ]
  },
  {
   "cell_type": "code",
   "execution_count": null,
   "metadata": {},
   "outputs": [],
   "source": []
  },
  {
   "cell_type": "code",
   "execution_count": null,
   "metadata": {},
   "outputs": [],
   "source": []
  }
 ],
 "metadata": {
  "kernelspec": {
   "display_name": "Python 3",
   "language": "python",
   "name": "python3"
  },
  "language_info": {
   "codemirror_mode": {
    "name": "ipython",
    "version": 3
   },
   "file_extension": ".py",
   "mimetype": "text/x-python",
   "name": "python",
   "nbconvert_exporter": "python",
   "pygments_lexer": "ipython3",
   "version": "3.5.5"
  }
 },
 "nbformat": 4,
 "nbformat_minor": 2
}
