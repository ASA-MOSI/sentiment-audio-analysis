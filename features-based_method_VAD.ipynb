{
 "cells": [
  {
   "cell_type": "markdown",
   "metadata": {},
   "source": [
    "**Import Libraries and Define constants**"
   ]
  },
  {
   "cell_type": "code",
   "execution_count": 1,
   "metadata": {},
   "outputs": [
    {
     "name": "stderr",
     "output_type": "stream",
     "text": [
      "/home/vuthede/.local/lib64/python3.6/site-packages/sklearn/cross_validation.py:41: DeprecationWarning: This module was deprecated in version 0.18 in favor of the model_selection module into which all the refactored classes and functions are moved. Also note that the interface of the new CV iterators are different from that of this module. This module will be removed in 0.20.\n",
      "  \"This module will be removed in 0.20.\", DeprecationWarning)\n"
     ]
    }
   ],
   "source": [
    "#### Training based on features of audio\n",
    "from sklearn.model_selection import train_test_split\n",
    "from sklearn.model_selection import KFold\n",
    "from sklearn.neural_network import MLPClassifier\n",
    "from sknn.mlp import Classifier, Layer\n",
    "from sklearn.pipeline import Pipeline\n",
    "from sklearn.preprocessing import MinMaxScaler\n",
    "from sklearn.metrics import confusion_matrix\n",
    "import pickle\n",
    "import numpy as np\n",
    "import random\n",
    "from sklearn import tree\n",
    "from sklearn.ensemble import RandomForestClassifier\n",
    "from imblearn.over_sampling import SMOTE \n",
    "from sklearn.model_selection import RandomizedSearchCV\n",
    "from sklearn.ensemble import RandomForestRegressor\n",
    "from sklearn.ensemble import AdaBoostClassifier\n",
    "\n",
    "\n",
    "\n"
   ]
  },
  {
   "cell_type": "markdown",
   "metadata": {},
   "source": [
    "**Load data**"
   ]
  },
  {
   "cell_type": "code",
   "execution_count": 2,
   "metadata": {},
   "outputs": [
    {
     "name": "stdout",
     "output_type": "stream",
     "text": [
      "Size input, output: 10018 ,  10018\n"
     ]
    }
   ],
   "source": [
    "\n",
    "##Loading  data from files\n",
    "filehandlerInput = open('processed-data/input_VAD.obj', 'rb')\n",
    "filehandlerOutput = open('processed-data/output_VAD.obj', 'rb')\n",
    "input = pickle.load(filehandlerInput)\n",
    "output = pickle.load(filehandlerOutput)\n",
    "print(\"Size input, output:\", len(input),\", \", len(output))"
   ]
  },
  {
   "cell_type": "markdown",
   "metadata": {},
   "source": [
    "**Preprocess data**"
   ]
  },
  {
   "cell_type": "code",
   "execution_count": 3,
   "metadata": {},
   "outputs": [
    {
     "name": "stdout",
     "output_type": "stream",
     "text": [
      "Size input, output after remove Nan values  10009 ,  10009\n",
      "Normalize input and output using min-max method\n"
     ]
    }
   ],
   "source": [
    "input_filtered = input[~np.any(np.isnan(input), axis=1)]\n",
    "output_filtered = output[~np.any(np.isnan(input), axis=1)]\n",
    "print(\"Size input, output after remove Nan values \", len(input_filtered), \", \", len(output_filtered))\n",
    "\n",
    "#Normalize input\n",
    "input_filtered = (input_filtered - input_filtered.min(axis=0)) / (input_filtered.max(axis=0) - input_filtered.min(axis=0))\n",
    "\n",
    "#Normalize output\n",
    "output_filtered = (output_filtered - output_filtered.min(axis=0)) / (output_filtered.max(axis=0) - output_filtered.min(axis=0))\n",
    "print(\"Normalize input and output using min-max method\")\n",
    " \n"
   ]
  },
  {
   "cell_type": "markdown",
   "metadata": {},
   "source": [
    "**Distribution of lables**"
   ]
  },
  {
   "cell_type": "code",
   "execution_count": 4,
   "metadata": {},
   "outputs": [
    {
     "name": "stdout",
     "output_type": "stream",
     "text": [
      "Average labels: 0.3952183723537705\n",
      "Std labels: 0.1994077352661613\n"
     ]
    },
    {
     "data": {
      "image/png": "[encoded data removed]",
      "text/plain": [
       "<Figure size 432x288 with 1 Axes>"
      ]
     },
     "metadata": {},
     "output_type": "display_data"
    }
   ],
   "source": [
    "import matplotlib.pyplot as plt\n",
    "import numpy as np\n",
    "\n",
    "print(\"Average labels:\", np.average(output_filtered[:,0]))\n",
    "print(\"Std labels:\", np.std(output_filtered[:,0]))\n",
    "plt.hist(output_filtered[:,0])\n",
    "plt.show()\n",
    "\n"
   ]
  },
  {
   "cell_type": "markdown",
   "metadata": {},
   "source": [
    "**Shuffer data**"
   ]
  },
  {
   "cell_type": "code",
   "execution_count": 5,
   "metadata": {
    "collapsed": true
   },
   "outputs": [],
   "source": [
    "#Shuffer\n",
    "c = list(zip(input_filtered, output_filtered))\n",
    "random.shuffle(c)\n",
    "input_filtered, output_filtered = zip( * c)\n",
    "input_filtered = np.array(input_filtered)\n",
    "output_filtered = np.array(output_filtered)\n"
   ]
  },
  {
   "cell_type": "markdown",
   "metadata": {},
   "source": [
    "**Split data**"
   ]
  },
  {
   "cell_type": "code",
   "execution_count": 11,
   "metadata": {},
   "outputs": [
    {
     "name": "stdout",
     "output_type": "stream",
     "text": [
      "Size training, testing set:  9008 ,  1001\n"
     ]
    }
   ],
   "source": [
    "X_train, X_test, y_train, y_test = train_test_split(input_filtered, output_filtered, test_size=0.1, random_state=300)\n",
    "print(\"Size training, testing set: \", len(X_train), \", \", len(X_test))\n",
    "\n"
   ]
  },
  {
   "cell_type": "markdown",
   "metadata": {
    "collapsed": true
   },
   "source": [
    "**Training on keras**"
   ]
  },
  {
   "cell_type": "code",
   "execution_count": 44,
   "metadata": {},
   "outputs": [
    {
     "name": "stdout",
     "output_type": "stream",
     "text": [
      "Train on 9008 samples, validate on 1001 samples\n",
      "Epoch 1/10\n",
      "9008/9008 [==============================] - 1s 108us/step - loss: 0.0547 - val_loss: 0.0425\n",
      "Epoch 2/10\n",
      "9008/9008 [==============================] - 1s 76us/step - loss: 0.0382 - val_loss: 0.0402\n",
      "Epoch 3/10\n",
      "9008/9008 [==============================] - ETA: 0s - loss: 0.036 - 1s 73us/step - loss: 0.0364 - val_loss: 0.0393\n",
      "Epoch 4/10\n",
      "9008/9008 [==============================] - 1s 72us/step - loss: 0.0358 - val_loss: 0.0392\n",
      "Epoch 5/10\n",
      "9008/9008 [==============================] - 1s 73us/step - loss: 0.0352 - val_loss: 0.0384\n",
      "Epoch 6/10\n",
      "9008/9008 [==============================] - 1s 75us/step - loss: 0.0347 - val_loss: 0.0380\n",
      "Epoch 7/10\n",
      "9008/9008 [==============================] - 1s 73us/step - loss: 0.0345 - val_loss: 0.0376\n",
      "Epoch 8/10\n",
      "9008/9008 [==============================] - 1s 73us/step - loss: 0.0341 - val_loss: 0.0373\n",
      "Epoch 9/10\n",
      "9008/9008 [==============================] - 1s 72us/step - loss: 0.0339 - val_loss: 0.0395\n",
      "Epoch 10/10\n",
      "9008/9008 [==============================] - 1s 74us/step - loss: 0.0338 - val_loss: 0.0371\n"
     ]
    },
    {
     "data": {
      "text/plain": [
       "<keras.callbacks.History at 0x7fd3d87de7b8>"
      ]
     },
     "execution_count": 44,
     "metadata": {},
     "output_type": "execute_result"
    }
   ],
   "source": [
    "from keras.utils.np_utils import to_categorical\n",
    "from keras.models import Sequential\n",
    "from keras.layers import Dense, Activation\n",
    "\n",
    "\n",
    "\n",
    "model = Sequential([\n",
    "    Dense(64, input_shape=(88,), kernel_initializer='normal'),\n",
    "    Activation('relu'),\n",
    "    Dense(32, kernel_initializer='normal'),\n",
    "    Activation('relu'),\n",
    "    Dense(16,kernel_initializer='normal'),\n",
    "    Activation('relu'),\n",
    "    Dense(8, kernel_initializer='normal'),\n",
    "    Activation('relu'),\n",
    "    Dense(1),\n",
    "])\n",
    "model.compile(loss='mean_squared_error', optimizer='adam')\n",
    "model.fit(X_train, y_train[:,0], validation_data=(X_test, y_test[:,0]), epochs = 10)\n",
    "\n",
    "\n",
    "\n",
    "\n",
    "\n",
    "\n"
   ]
  },
  {
   "cell_type": "markdown",
   "metadata": {},
   "source": [
    "**Playing around with prediction**"
   ]
  },
  {
   "cell_type": "code",
   "execution_count": 45,
   "metadata": {},
   "outputs": [
    {
     "data": {
      "image/png": "[encoded data removed]",
      "text/plain": [
       "<Figure size 432x288 with 3 Axes>"
      ]
     },
     "metadata": {},
     "output_type": "display_data"
    }
   ],
   "source": [
    "from matplotlib.pyplot import subplots_adjust\n",
    "predict = model.predict_proba(X_test)\n",
    "subs = np.abs(predict - y_test[:,0])\n",
    "\n",
    "\n",
    "fig, axs = plt.subplots(1,3)\n",
    "subplots_adjust(right = 2, wspace=0.2)\n",
    "axs[0].hist(y_train[:,0])\n",
    "axs[0].set_title(\"True value in train data\\n\" + \n",
    "                 \"avg:\" + str(np.average(y_train[:,0])) + \n",
    "                 \"\\nstd:\" + str(np.std(y_train[:,0])))\n",
    "axs[1].hist(y_test[:,0])\n",
    "axs[1].set_title(\"True value in test data\\n\" + \n",
    "                 \"avg:\" + str(np.average(y_test[:,0])) + \n",
    "                 \"\\nstd:\" + str(np.std(y_test[:,0])))\n",
    "axs[1].set_ylim([0,400])\n",
    "                        \n",
    "axs[2].hist(predict) \n",
    "axs[2].set_title(\"Prediction\\n\" +\n",
    "                \"avg:\" + str(np.average(predict)) + \n",
    "                 \"\\nstd:\" + str(np.std(predict)))\n",
    "                \n",
    "# axs[2].hist(subs, bins='auto')\n",
    "# axs[2].set_title(\"error on predictions\")\n",
    "\n",
    "plt.show()\n",
    "plt.close()\n"
   ]
  },
  {
   "cell_type": "markdown",
   "metadata": {
    "collapsed": true
   },
   "source": [
    "**Playing around with predictions**"
   ]
  },
  {
   "cell_type": "code",
   "execution_count": 27,
   "metadata": {},
   "outputs": [
    {
     "name": "stdout",
     "output_type": "stream",
     "text": [
      "0.5774225774225774\n"
     ]
    }
   ],
   "source": [
    "threshold = 0.1\n",
    "condition = [sub > threshold for sub in subs[0]]\n",
    "r = subs[condition]\n",
    "print(len(r)/ len(subs))"
   ]
  },
  {
   "cell_type": "code",
   "execution_count": 10,
   "metadata": {},
   "outputs": [],
   "source": [
    "# 4 * 0.16 +1"
   ]
  },
  {
   "cell_type": "code",
   "execution_count": null,
   "metadata": {
    "collapsed": true
   },
   "outputs": [],
   "source": []
  }
 ],
 "metadata": {
  "kernelspec": {
   "display_name": "Python 3",
   "language": "python3.6",
   "name": "python3"
  },
  "language_info": {
   "codemirror_mode": {
    "name": "ipython",
    "version": 3
   },
   "file_extension": ".py",
   "mimetype": "text/x-python",
   "name": "python",
   "nbconvert_exporter": "python",
   "pygments_lexer": "ipython3",
   "version": "3.6.5"
  }
 },
 "nbformat": 4,
 "nbformat_minor": 2
}
